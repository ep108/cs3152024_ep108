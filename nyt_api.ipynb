{
 "cells": [
  {
   "cell_type": "markdown",
   "metadata": {},
   "source": [
    "# Practice with NYTimes API\n",
    "CS315: Data Science for the Web  \n",
    "Professor Eni Mustafaraj  \n",
    "[Day 10 Slides 22-28](https://docs.google.com/presentation/d/15fuBhqPNv8GgeqNlNydKAlJW5ecAx92h7lQ_KyTxbKI/edit#slide=id.g2bd1c28673c_0_127)  \n",
    "Edith Po  "
   ]
  },
  {
   "cell_type": "code",
   "execution_count": 2,
   "metadata": {},
   "outputs": [],
   "source": [
    "import requests"
   ]
  },
  {
   "cell_type": "code",
   "execution_count": 13,
   "metadata": {},
   "outputs": [],
   "source": [
    "key = '1DFmIMxxqdYl8wJBPqAFxtHkimk86Qtn'"
   ]
  },
  {
   "cell_type": "code",
   "execution_count": 15,
   "metadata": {},
   "outputs": [
    {
     "name": "stdout",
     "output_type": "stream",
     "text": [
      "https://api.nytimes.com/svc/archive/v1/2024/2.json?api-key=1DFmIMxxqdYl8wJBPqAFxtHkimk86Qtn\n"
     ]
    }
   ],
   "source": [
    "year = 2024\n",
    "month = 2\n",
    "\n",
    "url = f'https://api.nytimes.com/svc/archive/v1/{year}/{month}.json?api-key={key}'\n",
    "print(url)"
   ]
  },
  {
   "cell_type": "code",
   "execution_count": 16,
   "metadata": {},
   "outputs": [
    {
     "data": {
      "text/plain": [
       "200"
      ]
     },
     "execution_count": 16,
     "metadata": {},
     "output_type": "execute_result"
    }
   ],
   "source": [
    "data = requests.get(url)\n",
    "data.status_code"
   ]
  },
  {
   "cell_type": "code",
   "execution_count": 18,
   "metadata": {},
   "outputs": [
    {
     "data": {
      "text/plain": [
       "2"
      ]
     },
     "execution_count": 18,
     "metadata": {},
     "output_type": "execute_result"
    }
   ],
   "source": [
    "articles = data.json()\n",
    "len(articles)"
   ]
  },
  {
   "cell_type": "code",
   "execution_count": 23,
   "metadata": {},
   "outputs": [
    {
     "data": {
      "text/plain": [
       "dict_keys(['copyright', 'response'])"
      ]
     },
     "execution_count": 23,
     "metadata": {},
     "output_type": "execute_result"
    }
   ],
   "source": [
    "articles.keys()"
   ]
  },
  {
   "cell_type": "code",
   "execution_count": 26,
   "metadata": {},
   "outputs": [
    {
     "data": {
      "text/plain": [
       "3791"
      ]
     },
     "execution_count": 26,
     "metadata": {},
     "output_type": "execute_result"
    }
   ],
   "source": [
    "len(articles['response']['docs'])"
   ]
  },
  {
   "cell_type": "code",
   "execution_count": 31,
   "metadata": {},
   "outputs": [
    {
     "data": {
      "text/plain": [
       "dict_keys(['abstract', 'web_url', 'snippet', 'lead_paragraph', 'print_section', 'print_page', 'source', 'multimedia', 'headline', 'keywords', 'pub_date', 'document_type', 'news_desk', 'section_name', 'byline', 'type_of_material', '_id', 'word_count', 'uri'])"
      ]
     },
     "execution_count": 31,
     "metadata": {},
     "output_type": "execute_result"
    }
   ],
   "source": [
    "articles['response']['docs'][0].keys()"
   ]
  },
  {
   "cell_type": "code",
   "execution_count": 33,
   "metadata": {},
   "outputs": [
    {
     "name": "stdout",
     "output_type": "stream",
     "text": [
      "Periods of backlash take shape after surges of Black progress. We have entered another such period.\n",
      "https://www.nytimes.com/2024/01/31/opinion/racist-backlash-history.html\n",
      "Periods of backlash take shape after surges of Black progress. We have entered another such period.\n",
      "I am fascinated, and alarmed, by the swiftness with which periods of backlash take shape after surges of Black progress, and I believe that we have entered another such period.\n",
      "[{'name': 'subject', 'value': 'Hate Crimes', 'rank': 1, 'major': 'N'}, {'name': 'subject', 'value': 'Black People', 'rank': 2, 'major': 'N'}, {'name': 'subject', 'value': 'Blacks', 'rank': 3, 'major': 'N'}, {'name': 'subject', 'value': 'Discrimination', 'rank': 4, 'major': 'N'}, {'name': 'subject', 'value': 'Civil Rights Movement (1954-68)', 'rank': 5, 'major': 'N'}, {'name': 'subject', 'value': 'Reconstruction Era', 'rank': 6, 'major': 'N'}, {'name': 'subject', 'value': 'Segregation and Desegregation', 'rank': 7, 'major': 'N'}, {'name': 'persons', 'value': 'Nixon, Richard Milhous', 'rank': 8, 'major': 'N'}]\n"
     ]
    }
   ],
   "source": [
    "article0 = articles['response']['docs'][0]\n",
    "print(article0['abstract'])\n",
    "print(article0['web_url'])\n",
    "print(article0['snippet'])\n",
    "print(article0['lead_paragraph'])\n",
    "print(article0['keywords'])"
   ]
  },
  {
   "cell_type": "code",
   "execution_count": null,
   "metadata": {},
   "outputs": [],
   "source": []
  }
 ],
 "metadata": {
  "kernelspec": {
   "display_name": "base",
   "language": "python",
   "name": "python3"
  },
  "language_info": {
   "codemirror_mode": {
    "name": "ipython",
    "version": 3
   },
   "file_extension": ".py",
   "mimetype": "text/x-python",
   "name": "python",
   "nbconvert_exporter": "python",
   "pygments_lexer": "ipython3",
   "version": "3.10.8"
  }
 },
 "nbformat": 4,
 "nbformat_minor": 2
}
