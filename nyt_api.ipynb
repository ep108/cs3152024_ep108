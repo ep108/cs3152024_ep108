{
 "cells": [
  {
   "cell_type": "markdown",
   "metadata": {},
   "source": [
    "# Practice with NYTimes API\n",
    "CS315: Data Science for the Web  \n",
    "Professor Eni Mustafaraj  \n",
    "[Day 10 Slides 22-28](https://docs.google.com/presentation/d/15fuBhqPNv8GgeqNlNydKAlJW5ecAx92h7lQ_KyTxbKI/edit#slide=id.g2bd1c28673c_0_127)  \n",
    "Edith Po  "
   ]
  },
  {
   "cell_type": "code",
   "execution_count": 189,
   "metadata": {},
   "outputs": [],
   "source": [
    "import requests"
   ]
  },
  {
   "cell_type": "code",
   "execution_count": 230,
   "metadata": {},
   "outputs": [],
   "source": [
    "key = '1DFmIMxxqdYl8wJBPqAFxtHkimk86Qtn'"
   ]
  },
  {
   "cell_type": "code",
   "execution_count": 231,
   "metadata": {},
   "outputs": [
    {
     "name": "stdout",
     "output_type": "stream",
     "text": [
      "https://api.nytimes.com/svc/archive/v1/2024/2.json?api-key=1DFmIMxxqdYl8wJBPqAFxtHkimk86Qtn\n"
     ]
    }
   ],
   "source": [
    "year = 2024\n",
    "month = 2\n",
    "\n",
    "url = f'https://api.nytimes.com/svc/archive/v1/{year}/{month}.json?api-key={key}'\n",
    "print(url)"
   ]
  },
  {
   "cell_type": "code",
   "execution_count": 232,
   "metadata": {},
   "outputs": [
    {
     "data": {
      "text/plain": [
       "200"
      ]
     },
     "execution_count": 232,
     "metadata": {},
     "output_type": "execute_result"
    }
   ],
   "source": [
    "data = requests.get(url)\n",
    "data.status_code"
   ]
  },
  {
   "cell_type": "code",
   "execution_count": 193,
   "metadata": {},
   "outputs": [
    {
     "data": {
      "text/plain": [
       "2"
      ]
     },
     "execution_count": 193,
     "metadata": {},
     "output_type": "execute_result"
    }
   ],
   "source": [
    "articles = data.json()\n",
    "len(articles)"
   ]
  },
  {
   "cell_type": "code",
   "execution_count": 194,
   "metadata": {},
   "outputs": [
    {
     "data": {
      "text/plain": [
       "dict_keys(['copyright', 'response'])"
      ]
     },
     "execution_count": 194,
     "metadata": {},
     "output_type": "execute_result"
    }
   ],
   "source": [
    "articles.keys()"
   ]
  },
  {
   "cell_type": "code",
   "execution_count": 195,
   "metadata": {},
   "outputs": [
    {
     "data": {
      "text/plain": [
       "3791"
      ]
     },
     "execution_count": 195,
     "metadata": {},
     "output_type": "execute_result"
    }
   ],
   "source": [
    "len(articles['response']['docs']) # list"
   ]
  },
  {
   "cell_type": "code",
   "execution_count": 196,
   "metadata": {},
   "outputs": [
    {
     "data": {
      "text/plain": [
       "dict_keys(['abstract', 'web_url', 'snippet', 'lead_paragraph', 'print_section', 'print_page', 'source', 'multimedia', 'headline', 'keywords', 'pub_date', 'document_type', 'news_desk', 'section_name', 'byline', 'type_of_material', '_id', 'word_count', 'uri'])"
      ]
     },
     "execution_count": 196,
     "metadata": {},
     "output_type": "execute_result"
    }
   ],
   "source": [
    "articles['response']['docs'][0].keys()"
   ]
  },
  {
   "cell_type": "code",
   "execution_count": 197,
   "metadata": {},
   "outputs": [
    {
     "name": "stdout",
     "output_type": "stream",
     "text": [
      "Periods of backlash take shape after surges of Black progress. We have entered another such period.\n",
      "https://www.nytimes.com/2024/01/31/opinion/racist-backlash-history.html\n",
      "Periods of backlash take shape after surges of Black progress. We have entered another such period.\n",
      "Opinion\n"
     ]
    }
   ],
   "source": [
    "article0 = articles['response']['docs'][0]\n",
    "print(article0['abstract'])\n",
    "print(article0['web_url'])\n",
    "print(article0['snippet'])\n",
    "print(article0['section_name'])"
   ]
  },
  {
   "cell_type": "markdown",
   "metadata": {},
   "source": [
    "## Find the Top 5 Section Names for February 2024 Articles"
   ]
  },
  {
   "cell_type": "code",
   "execution_count": 198,
   "metadata": {},
   "outputs": [
    {
     "data": {
      "text/plain": [
       "36"
      ]
     },
     "execution_count": 198,
     "metadata": {},
     "output_type": "execute_result"
    }
   ],
   "source": [
    "section_names = {}\n",
    "\n",
    "for doc in articles['response']['docs']:\n",
    "    section = doc['section_name']\n",
    "    if section in section_names:\n",
    "        section_names[section] += 1\n",
    "    else:\n",
    "        section_names[section] = 1\n",
    "\n",
    "len(section_names)"
   ]
  },
  {
   "cell_type": "code",
   "execution_count": 199,
   "metadata": {},
   "outputs": [
    {
     "data": {
      "text/plain": [
       "[('U.S.', 734),\n",
       " ('World', 513),\n",
       " ('Arts', 326),\n",
       " ('Opinion', 272),\n",
       " ('Business Day', 244)]"
      ]
     },
     "execution_count": 199,
     "metadata": {},
     "output_type": "execute_result"
    }
   ],
   "source": [
    "# sort the section names by count\n",
    "sorted_sections = sorted(section_names.items(),key=lambda x:x[1],reverse=True)\n",
    "sorted_sections[:5]"
   ]
  },
  {
   "cell_type": "code",
   "execution_count": 200,
   "metadata": {},
   "outputs": [
    {
     "data": {
      "text/plain": [
       "[('U.S.', 734),\n",
       " ('World', 513),\n",
       " ('Arts', 326),\n",
       " ('Opinion', 272),\n",
       " ('Business Day', 244),\n",
       " ('New York', 200),\n",
       " ('Style', 174),\n",
       " ('Books', 139),\n",
       " ('Crosswords & Games', 125),\n",
       " ('Movies', 123)]"
      ]
     },
     "execution_count": 200,
     "metadata": {},
     "output_type": "execute_result"
    }
   ],
   "source": [
    "# ALTERNATE METHOD FROM \"Week 6 Task Solutions.ipynb\"\n",
    "sections = [article['section_name'] for article in articles['response']['docs']]\n",
    "\n",
    "from collections import Counter\n",
    "\n",
    "distDct = Counter(sections) # count the occurrences of each section name\n",
    "\n",
    "distDct.most_common(10)"
   ]
  },
  {
   "cell_type": "code",
   "execution_count": 201,
   "metadata": {},
   "outputs": [],
   "source": [
    "def get_articles_by_year_month(year, month, key):\n",
    "    # create URL\n",
    "    url = f\"https://api.nytimes.com/svc/archive/v1/{year}/{month}.json?api-key={key}\"\n",
    "\n",
    "    # send the request to get the data\n",
    "    data = requests.get(url)\n",
    "    if data.status_code == 200:\n",
    "        print(\"Successfully got the data.\")\n",
    "\n",
    "    dataJson = data.json() # get response as JSON\n",
    "    documents = dataJson['response']['docs']\n",
    "    return documents"
   ]
  },
  {
   "cell_type": "markdown",
   "metadata": {},
   "source": [
    "## Various Tasks"
   ]
  },
  {
   "cell_type": "markdown",
   "metadata": {},
   "source": [
    "1. Write a Python function that takes a date, for example, \"2024-02-12\", and returns the list of articles for that day."
   ]
  },
  {
   "cell_type": "code",
   "execution_count": 233,
   "metadata": {},
   "outputs": [],
   "source": [
    "import datetime\n",
    "def get_articles_by_date(date,key):\n",
    "    dt = datetime.datetime.strptime(date,'%Y-%m-%d')\n",
    "\n",
    "    # Get articles for given month and year\n",
    "    url = f'https://api.nytimes.com/svc/archive/v1/{dt.year}/{dt.month}.json?api-key={key}'\n",
    "    \n",
    "    # send the request to get the data\n",
    "    data = requests.get(url)\n",
    "    if data.status_code == 200:\n",
    "        print(\"Successfully got the data.\")\n",
    "    else:\n",
    "        print(\"Did not get the data successfully.\")\n",
    "\n",
    "    try:\n",
    "        documents = data.json()['response']['docs']\n",
    "        print(\"Documents found!\")\n",
    "    except:\n",
    "        print(\"Documents not found.\")\n",
    "        documents = {}\n",
    "\n",
    "    articles = [doc for doc in documents if doc['pub_date'][:10] == date]\n",
    "\n",
    "    return articles"
   ]
  },
  {
   "cell_type": "code",
   "execution_count": 234,
   "metadata": {},
   "outputs": [
    {
     "name": "stdout",
     "output_type": "stream",
     "text": [
      "Successfully got the data.\n",
      "Documents found\n",
      "116\n"
     ]
    }
   ],
   "source": [
    "feb12_articles = get_articles_by_date('2024-02-12',key)\n",
    "print(len(feb12_articles))"
   ]
  },
  {
   "cell_type": "markdown",
   "metadata": {},
   "source": [
    "2. Write some code that explores whether the fields \"abstract\" and \"snippet\" are always the same or they differ. Which one has more information? "
   ]
  },
  {
   "cell_type": "code",
   "execution_count": 204,
   "metadata": {},
   "outputs": [
    {
     "name": "stdout",
     "output_type": "stream",
     "text": [
      "Successfully got the data.\n"
     ]
    },
    {
     "data": {
      "text/plain": [
       "3791"
      ]
     },
     "execution_count": 204,
     "metadata": {},
     "output_type": "execute_result"
    }
   ],
   "source": [
    "articles = get_articles_by_year_month(2024, 2, key)\n",
    "len(articles)"
   ]
  },
  {
   "cell_type": "code",
   "execution_count": 205,
   "metadata": {},
   "outputs": [
    {
     "name": "stdout",
     "output_type": "stream",
     "text": [
      "Number of articles with different abstracts and snippets (where snippet field was not empty): 5\n",
      "Only 0.13% of the abstracts in Feb 2024 were different from the snippets.\n"
     ]
    }
   ],
   "source": [
    "dif_abstract_snippet = []\n",
    "\n",
    "# find articles whose abstracts and snippets are not the same\n",
    "for article in articles:\n",
    "    abstract = article['abstract']\n",
    "    snippet = article['snippet']\n",
    "    if (abstract!= snippet) & (len(snippet) != 0):\n",
    "        dif_abstract_snippet.append(article)\n",
    "\n",
    "print(f\"Number of articles with different abstracts and snippets (where snippet field was not empty): {len(dif_abstract_snippet)}\")\n",
    "\n",
    "fraction = (len(dif_abstract_snippet)/len(articles))*100\n",
    "print(f\"Only {str(fraction)[:4]}% of the abstracts in Feb 2024 were different from the snippets.\")"
   ]
  },
  {
   "cell_type": "code",
   "execution_count": 206,
   "metadata": {},
   "outputs": [
    {
     "name": "stdout",
     "output_type": "stream",
     "text": [
      "[288, 253, 342, 253, 249]\n",
      "[250, 250, 250, 250, 250]\n",
      "Average Abstract Length: 277.0\n",
      "Average Snippet Length: 250.0\n"
     ]
    }
   ],
   "source": [
    "abstract_lengths = [len(article['abstract']) for article in dif_abstract_snippet]\n",
    "snippet_lengths = [len(article['snippet']) for article in dif_abstract_snippet]\n",
    "\n",
    "print(abstract_lengths)\n",
    "print(snippet_lengths)\n",
    "\n",
    "avg_abstract = sum(abstract_lengths)/len(abstract_lengths)\n",
    "avg_snippet = sum(snippet_lengths)/len(snippet_lengths)\n",
    "\n",
    "print(f'Average Abstract Length: {avg_abstract}')\n",
    "print(f'Average Snippet Length: {avg_snippet}')"
   ]
  },
  {
   "cell_type": "markdown",
   "metadata": {},
   "source": [
    "3. Write a function that given one article (in its nested structure), creates a flat dictionary with keys that are relevant for analysis: either the abstract or snippet (see point 2); lead paragraph; headline; keywords concatenated via semicolon; pub_date; document_type; section_name; and type_of_material"
   ]
  },
  {
   "cell_type": "code",
   "execution_count": 207,
   "metadata": {},
   "outputs": [
    {
     "data": {
      "text/plain": [
       "dict_keys(['abstract', 'web_url', 'snippet', 'lead_paragraph', 'print_section', 'print_page', 'source', 'multimedia', 'headline', 'keywords', 'pub_date', 'document_type', 'news_desk', 'section_name', 'byline', 'type_of_material', '_id', 'word_count', 'uri'])"
      ]
     },
     "execution_count": 207,
     "metadata": {},
     "output_type": "execute_result"
    }
   ],
   "source": [
    "articles[0].keys()"
   ]
  },
  {
   "cell_type": "code",
   "execution_count": 208,
   "metadata": {},
   "outputs": [
    {
     "name": "stdout",
     "output_type": "stream",
     "text": [
      "abstract: <class 'str'>\n",
      "lead_paragraph: <class 'str'>\n",
      "headline: <class 'dict'>\n",
      "keywords: <class 'list'>\n",
      "pub_date: <class 'str'>\n",
      "document_type: <class 'str'>\n",
      "section_name: <class 'str'>\n",
      "type_of_material: <class 'str'>\n"
     ]
    }
   ],
   "source": [
    "# Look at the types of all the relevant keys for analysis\n",
    "keys = ['abstract','lead_paragraph','headline','keywords','pub_date','document_type','section_name','type_of_material']\n",
    "for key in keys: print(f'{key}: {type(article[key])}')"
   ]
  },
  {
   "cell_type": "code",
   "execution_count": 209,
   "metadata": {},
   "outputs": [
    {
     "data": {
      "text/plain": [
       "[{'name': 'subject', 'value': 'Hate Crimes', 'rank': 1, 'major': 'N'},\n",
       " {'name': 'subject', 'value': 'Black People', 'rank': 2, 'major': 'N'},\n",
       " {'name': 'subject', 'value': 'Blacks', 'rank': 3, 'major': 'N'},\n",
       " {'name': 'subject', 'value': 'Discrimination', 'rank': 4, 'major': 'N'},\n",
       " {'name': 'subject',\n",
       "  'value': 'Civil Rights Movement (1954-68)',\n",
       "  'rank': 5,\n",
       "  'major': 'N'},\n",
       " {'name': 'subject', 'value': 'Reconstruction Era', 'rank': 6, 'major': 'N'},\n",
       " {'name': 'subject',\n",
       "  'value': 'Segregation and Desegregation',\n",
       "  'rank': 7,\n",
       "  'major': 'N'},\n",
       " {'name': 'persons',\n",
       "  'value': 'Nixon, Richard Milhous',\n",
       "  'rank': 8,\n",
       "  'major': 'N'}]"
      ]
     },
     "execution_count": 209,
     "metadata": {},
     "output_type": "execute_result"
    }
   ],
   "source": [
    "# Look at the stucture of the keywords list\n",
    "articles[0]['keywords']"
   ]
  },
  {
   "cell_type": "code",
   "execution_count": 210,
   "metadata": {},
   "outputs": [
    {
     "data": {
      "text/plain": [
       "'Hate Crimes;Black People;Blacks;Discrimination;Civil Rights Movement (1954-68);Reconstruction Era;Segregation and Desegregation;Nixon, Richard Milhous'"
      ]
     },
     "execution_count": 210,
     "metadata": {},
     "output_type": "execute_result"
    }
   ],
   "source": [
    "def concat_keywords(keywords_list):\n",
    "    '''concatenates keywords from keywords_list with semicolons'''\n",
    "    all_keywords = \"\"\n",
    "    for dct in keywords_list:\n",
    "        keyword = dct['value']\n",
    "        all_keywords += keyword + ';'\n",
    "    return all_keywords[:-1]\n",
    "\n",
    "concat_keywords(articles[0]['keywords'])"
   ]
  },
  {
   "cell_type": "code",
   "execution_count": 211,
   "metadata": {},
   "outputs": [
    {
     "data": {
      "text/plain": [
       "{'main': 'The Dawn of a New Era of Oppression',\n",
       " 'kicker': 'Charles M. Blow',\n",
       " 'content_kicker': None,\n",
       " 'print_headline': 'The Dawn of a New Era of Oppression',\n",
       " 'name': None,\n",
       " 'seo': None,\n",
       " 'sub': None}"
      ]
     },
     "execution_count": 211,
     "metadata": {},
     "output_type": "execute_result"
    }
   ],
   "source": [
    "# Examine headline dictionary\n",
    "articles[0]['headline']"
   ]
  },
  {
   "cell_type": "code",
   "execution_count": 218,
   "metadata": {},
   "outputs": [
    {
     "data": {
      "text/plain": [
       "{'abstract': 'Periods of backlash take shape after surges of Black progress. We have entered another such period.',\n",
       " 'lead_paragraph': 'I am fascinated, and alarmed, by the swiftness with which periods of backlash take shape after surges of Black progress, and I believe that we have entered another such period.',\n",
       " 'pub_date': '2024-02-01T00:00:08+0000',\n",
       " 'document_type': 'article',\n",
       " 'section_name': 'Opinion',\n",
       " 'type_of_material': 'Op-Ed',\n",
       " 'headline': 'The Dawn of a New Era of Oppression',\n",
       " 'keywords': 'Hate Crimes;Black People;Blacks;Discrimination;Civil Rights Movement (1954-68);Reconstruction Era;Segregation and Desegregation;Nixon, Richard Milhous'}"
      ]
     },
     "execution_count": 218,
     "metadata": {},
     "output_type": "execute_result"
    }
   ],
   "source": [
    "def create_flat_dct(article):\n",
    "    '''Given a article (nested dictionary), returns a flat dictionary of keys\n",
    "    that are relevant for analysis.'''\n",
    "    str_val_keys = ['abstract','lead_paragraph','pub_date','document_type',\n",
    "                    'section_name','type_of_material']\n",
    "    dct = {}\n",
    "    for key in str_val_keys:\n",
    "        dct[key] = article[key]\n",
    "\n",
    "    dct['headline'] = article['headline']['main']\n",
    "    dct['keywords'] = concat_keywords(article['keywords'])\n",
    "\n",
    "    return dct\n",
    "\n",
    "\n",
    "create_flat_dct(articles[0])"
   ]
  },
  {
   "cell_type": "markdown",
   "metadata": {},
   "source": [
    "4. Write another function that calls the function from point 3 on every article, to create a list of article dictionaries, and convert this list into a dataframe and then store it as a CSV file with the date-month in the title (this is important for point 5 below)."
   ]
  },
  {
   "cell_type": "code",
   "execution_count": 238,
   "metadata": {},
   "outputs": [],
   "source": [
    "import pandas as pd\n",
    "import datetime as datetime\n",
    "\n",
    "def create_df(date,key):\n",
    "    '''\n",
    "    Takes the date in MMMM-YY-DD format, gets all the articles for that \n",
    "    particular date, gets the relevant data for each article, saves the data \n",
    "    as a df, writes it to a csv file, and returns the df.\n",
    "    '''\n",
    "    # get all the articles from the given the date\n",
    "    articles = get_articles_by_date(date,key)\n",
    "    \n",
    "    # Create list of flattened dictionaries\n",
    "    flat_articles = []\n",
    "    for article in articles:\n",
    "        flat_articles.append(create_flat_dct(article))\n",
    "\n",
    "    # Convert list to df\n",
    "    df = pd.DataFrame(flat_articles)\n",
    "\n",
    "    # Save as csv\n",
    "    filename = f'{date}-articles.csv'\n",
    "    print(filename)\n",
    "    df.to_csv(filename)\n",
    "\n",
    "    return df"
   ]
  },
  {
   "cell_type": "code",
   "execution_count": 239,
   "metadata": {},
   "outputs": [
    {
     "name": "stdout",
     "output_type": "stream",
     "text": [
      "Successfully got the data.\n",
      "Documents found\n",
      "2024-02-12-articles.csv\n"
     ]
    },
    {
     "data": {
      "text/html": [
       "<div>\n",
       "<style scoped>\n",
       "    .dataframe tbody tr th:only-of-type {\n",
       "        vertical-align: middle;\n",
       "    }\n",
       "\n",
       "    .dataframe tbody tr th {\n",
       "        vertical-align: top;\n",
       "    }\n",
       "\n",
       "    .dataframe thead th {\n",
       "        text-align: right;\n",
       "    }\n",
       "</style>\n",
       "<table border=\"1\" class=\"dataframe\">\n",
       "  <thead>\n",
       "    <tr style=\"text-align: right;\">\n",
       "      <th></th>\n",
       "      <th>abstract</th>\n",
       "      <th>lead_paragraph</th>\n",
       "      <th>pub_date</th>\n",
       "      <th>document_type</th>\n",
       "      <th>section_name</th>\n",
       "      <th>type_of_material</th>\n",
       "      <th>headline</th>\n",
       "      <th>keywords</th>\n",
       "    </tr>\n",
       "  </thead>\n",
       "  <tbody>\n",
       "    <tr>\n",
       "      <th>0</th>\n",
       "      <td>A Cetaphil commercial showed a father and daug...</td>\n",
       "      <td>When an advertisement for Cetaphil lotion was ...</td>\n",
       "      <td>2024-02-12T00:30:32+0000</td>\n",
       "      <td>article</td>\n",
       "      <td>Business Day</td>\n",
       "      <td>News</td>\n",
       "      <td>Ad Nods to Taylor Swift and Football, Drawing ...</td>\n",
       "      <td>Advertising and Marketing;Super Bowl;Cosmetics...</td>\n",
       "    </tr>\n",
       "    <tr>\n",
       "      <th>1</th>\n",
       "      <td>Taylor Swift and Travis Kelce have been the su...</td>\n",
       "      <td>Extending a weekslong right-wing meltdown over...</td>\n",
       "      <td>2024-02-12T00:32:24+0000</td>\n",
       "      <td>article</td>\n",
       "      <td>U.S.</td>\n",
       "      <td>News</td>\n",
       "      <td>Trump Says It Would Be ‘Disloyal’ for Taylor S...</td>\n",
       "      <td>Swift, Taylor;Kelce, Travis;Trump, Donald J;Bi...</td>\n",
       "    </tr>\n",
       "    <tr>\n",
       "      <th>2</th>\n",
       "      <td>In a halftime set that touched on more than a ...</td>\n",
       "      <td>A few minutes into Usher’s dynamic and sly Sup...</td>\n",
       "      <td>2024-02-12T02:14:00+0000</td>\n",
       "      <td>article</td>\n",
       "      <td>Arts</td>\n",
       "      <td>Review</td>\n",
       "      <td>Usher Brings Precise Details to Pop’s Biggest ...</td>\n",
       "      <td>Rap and Hip-Hop;Super Bowl;Usher;Keys, Alicia;...</td>\n",
       "    </tr>\n",
       "    <tr>\n",
       "      <th>3</th>\n",
       "      <td>The pop superstar used a Verizon ad to tell fa...</td>\n",
       "      <td>After days of speculation and online sleuthing...</td>\n",
       "      <td>2024-02-12T02:41:56+0000</td>\n",
       "      <td>article</td>\n",
       "      <td>Arts</td>\n",
       "      <td>News</td>\n",
       "      <td>Beyoncé Announces New Album in Super Bowl Comm...</td>\n",
       "      <td>Pop and Rock Music;Super Bowl;Knowles, Beyonce...</td>\n",
       "    </tr>\n",
       "    <tr>\n",
       "      <th>4</th>\n",
       "      <td>William Albert Haynes Jr., 70, went by “Billy ...</td>\n",
       "      <td>William Albert “Billy Jack” Haynes Jr., who in...</td>\n",
       "      <td>2024-02-12T03:10:32+0000</td>\n",
       "      <td>article</td>\n",
       "      <td>Arts</td>\n",
       "      <td>News</td>\n",
       "      <td>Former W.W.F. Wrestler Arrested in Wife’s Murder</td>\n",
       "      <td>Murders, Attempted Murders and Homicides;Wrest...</td>\n",
       "    </tr>\n",
       "    <tr>\n",
       "      <th>...</th>\n",
       "      <td>...</td>\n",
       "      <td>...</td>\n",
       "      <td>...</td>\n",
       "      <td>...</td>\n",
       "      <td>...</td>\n",
       "      <td>...</td>\n",
       "      <td>...</td>\n",
       "      <td>...</td>\n",
       "    </tr>\n",
       "    <tr>\n",
       "      <th>111</th>\n",
       "      <td>Pregnant women with diabetes or high blood pre...</td>\n",
       "      <td>Women who develop high blood pressure or diabe...</td>\n",
       "      <td>2024-02-12T23:13:06+0000</td>\n",
       "      <td>article</td>\n",
       "      <td>Health</td>\n",
       "      <td>News</td>\n",
       "      <td>Children Born to Mothers With Pregnancy Compli...</td>\n",
       "      <td>your-feed-science;Pregnancy and Childbirth;Dia...</td>\n",
       "    </tr>\n",
       "    <tr>\n",
       "      <th>112</th>\n",
       "      <td>The shooting took place at the Mount Eden Aven...</td>\n",
       "      <td>A 35-year-old man was killed and five other pe...</td>\n",
       "      <td>2024-02-12T23:13:38+0000</td>\n",
       "      <td>article</td>\n",
       "      <td>New York</td>\n",
       "      <td>News</td>\n",
       "      <td>One Killed and 5 Wounded in Shooting at Bronx ...</td>\n",
       "      <td>Subways;Murders, Attempted Murders and Homicid...</td>\n",
       "    </tr>\n",
       "    <tr>\n",
       "      <th>113</th>\n",
       "      <td>Our guide to the themes dominating the race.</td>\n",
       "      <td>The special election in New York’s Third Congr...</td>\n",
       "      <td>2024-02-12T23:20:47+0000</td>\n",
       "      <td>article</td>\n",
       "      <td>U.S.</td>\n",
       "      <td>News</td>\n",
       "      <td>How Special Is New York’s Special Election?</td>\n",
       "      <td>Politics and Government;Elections;Suozzi, Thom...</td>\n",
       "    </tr>\n",
       "    <tr>\n",
       "      <th>114</th>\n",
       "      <td>The former president showed up at the federal ...</td>\n",
       "      <td>Former President Donald J. Trump and his lawye...</td>\n",
       "      <td>2024-02-12T23:31:02+0000</td>\n",
       "      <td>article</td>\n",
       "      <td>U.S.</td>\n",
       "      <td>News</td>\n",
       "      <td>Trump Attends Court Hearing on Access to Class...</td>\n",
       "      <td>Federal Criminal Case Against Trump (Documents...</td>\n",
       "    </tr>\n",
       "    <tr>\n",
       "      <th>115</th>\n",
       "      <td>After months of treading lightly about the for...</td>\n",
       "      <td>Nikki Haley, in the final stretch before the S...</td>\n",
       "      <td>2024-02-12T23:31:55+0000</td>\n",
       "      <td>article</td>\n",
       "      <td>U.S.</td>\n",
       "      <td>News</td>\n",
       "      <td>Defending Troops, Haley Says Golf Course Is Cl...</td>\n",
       "      <td>Haley, Nikki R;Trump, Donald J;Republican Part...</td>\n",
       "    </tr>\n",
       "  </tbody>\n",
       "</table>\n",
       "<p>116 rows × 8 columns</p>\n",
       "</div>"
      ],
      "text/plain": [
       "                                              abstract  \\\n",
       "0    A Cetaphil commercial showed a father and daug...   \n",
       "1    Taylor Swift and Travis Kelce have been the su...   \n",
       "2    In a halftime set that touched on more than a ...   \n",
       "3    The pop superstar used a Verizon ad to tell fa...   \n",
       "4    William Albert Haynes Jr., 70, went by “Billy ...   \n",
       "..                                                 ...   \n",
       "111  Pregnant women with diabetes or high blood pre...   \n",
       "112  The shooting took place at the Mount Eden Aven...   \n",
       "113       Our guide to the themes dominating the race.   \n",
       "114  The former president showed up at the federal ...   \n",
       "115  After months of treading lightly about the for...   \n",
       "\n",
       "                                        lead_paragraph  \\\n",
       "0    When an advertisement for Cetaphil lotion was ...   \n",
       "1    Extending a weekslong right-wing meltdown over...   \n",
       "2    A few minutes into Usher’s dynamic and sly Sup...   \n",
       "3    After days of speculation and online sleuthing...   \n",
       "4    William Albert “Billy Jack” Haynes Jr., who in...   \n",
       "..                                                 ...   \n",
       "111  Women who develop high blood pressure or diabe...   \n",
       "112  A 35-year-old man was killed and five other pe...   \n",
       "113  The special election in New York’s Third Congr...   \n",
       "114  Former President Donald J. Trump and his lawye...   \n",
       "115  Nikki Haley, in the final stretch before the S...   \n",
       "\n",
       "                     pub_date document_type  section_name type_of_material  \\\n",
       "0    2024-02-12T00:30:32+0000       article  Business Day             News   \n",
       "1    2024-02-12T00:32:24+0000       article          U.S.             News   \n",
       "2    2024-02-12T02:14:00+0000       article          Arts           Review   \n",
       "3    2024-02-12T02:41:56+0000       article          Arts             News   \n",
       "4    2024-02-12T03:10:32+0000       article          Arts             News   \n",
       "..                        ...           ...           ...              ...   \n",
       "111  2024-02-12T23:13:06+0000       article        Health             News   \n",
       "112  2024-02-12T23:13:38+0000       article      New York             News   \n",
       "113  2024-02-12T23:20:47+0000       article          U.S.             News   \n",
       "114  2024-02-12T23:31:02+0000       article          U.S.             News   \n",
       "115  2024-02-12T23:31:55+0000       article          U.S.             News   \n",
       "\n",
       "                                              headline  \\\n",
       "0    Ad Nods to Taylor Swift and Football, Drawing ...   \n",
       "1    Trump Says It Would Be ‘Disloyal’ for Taylor S...   \n",
       "2    Usher Brings Precise Details to Pop’s Biggest ...   \n",
       "3    Beyoncé Announces New Album in Super Bowl Comm...   \n",
       "4     Former W.W.F. Wrestler Arrested in Wife’s Murder   \n",
       "..                                                 ...   \n",
       "111  Children Born to Mothers With Pregnancy Compli...   \n",
       "112  One Killed and 5 Wounded in Shooting at Bronx ...   \n",
       "113        How Special Is New York’s Special Election?   \n",
       "114  Trump Attends Court Hearing on Access to Class...   \n",
       "115  Defending Troops, Haley Says Golf Course Is Cl...   \n",
       "\n",
       "                                              keywords  \n",
       "0    Advertising and Marketing;Super Bowl;Cosmetics...  \n",
       "1    Swift, Taylor;Kelce, Travis;Trump, Donald J;Bi...  \n",
       "2    Rap and Hip-Hop;Super Bowl;Usher;Keys, Alicia;...  \n",
       "3    Pop and Rock Music;Super Bowl;Knowles, Beyonce...  \n",
       "4    Murders, Attempted Murders and Homicides;Wrest...  \n",
       "..                                                 ...  \n",
       "111  your-feed-science;Pregnancy and Childbirth;Dia...  \n",
       "112  Subways;Murders, Attempted Murders and Homicid...  \n",
       "113  Politics and Government;Elections;Suozzi, Thom...  \n",
       "114  Federal Criminal Case Against Trump (Documents...  \n",
       "115  Haley, Nikki R;Trump, Donald J;Republican Part...  \n",
       "\n",
       "[116 rows x 8 columns]"
      ]
     },
     "execution_count": 239,
     "metadata": {},
     "output_type": "execute_result"
    }
   ],
   "source": [
    "df = create_df('2024-02-12',key)\n",
    "df"
   ]
  },
  {
   "cell_type": "markdown",
   "metadata": {},
   "source": [
    "5. Once you have done all of these in the notebook, create a Python script that can be called with a date (from a TikTok video). First, the script looks whether a CSV with cleaned articles is in our folder. If not, calls first the API function to get the articles and then the function that converts them into a CSV. Then, it loads the CSV into a datafram and it uses filtering to get the articles for the desired date. These articles will be used for the Semantic Similarity portion of the TikTok Project."
   ]
  },
  {
   "cell_type": "markdown",
   "metadata": {},
   "source": [
    "Completed this in the python file **articles_to_csv.py**."
   ]
  }
 ],
 "metadata": {
  "kernelspec": {
   "display_name": "base",
   "language": "python",
   "name": "python3"
  },
  "language_info": {
   "codemirror_mode": {
    "name": "ipython",
    "version": 3
   },
   "file_extension": ".py",
   "mimetype": "text/x-python",
   "name": "python",
   "nbconvert_exporter": "python",
   "pygments_lexer": "ipython3",
   "version": "3.10.8"
  }
 },
 "nbformat": 4,
 "nbformat_minor": 2
}
