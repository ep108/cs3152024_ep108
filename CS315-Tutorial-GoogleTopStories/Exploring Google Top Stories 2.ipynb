{
 "cells": [
  {
   "cell_type": "markdown",
   "id": "30e7b7ad",
   "metadata": {},
   "source": [
    "**Edith's Exploration!!!**"
   ]
  },
  {
   "cell_type": "markdown",
   "id": "1dbe4353-ae93-4f8c-b244-5f5488134979",
   "metadata": {},
   "source": [
    "# Google Top Stories - An exploration\n",
    "\n",
    "**Description:** This dataset was collected during the pandemic, it contains headlines shown by Google Search.\n",
    "It is organized by year, month, date, hour, in a series of nested folders. The leaf folders contain JSON files with information about Google's top stories. \n",
    "\n",
    "Your goal is to write first a Python function that takes the name of the folder \"GoogleTopStories\" and stores the content of all the JSON files into a single CSV file. Once you have a CSV file, you can practice your pandas & seaborn skills in analyzing the data.\n",
    "\n",
    "Some tips and ideas for analysis:\n",
    "1. Use the Python command `os.walk` to iteratively traverse the nested subfolders. Account for hidden files that start with .\n",
    "2. Although the dataset has a column domain, imagine that it doesn't have it and write a function that takes a URL and extracts the domain name from it and saves it in a column. Use the `.apply` method to create the column. Learn how to parse URLs with `urllib.parse`.\n",
    "3. Create a bar chart with the frequencies of the top 10 domains. (Use domains, since 'source name' contains duplicates.)\n",
    "4. Create a heatmap that shows the distribution of domains across the 'story_position' values.\n",
    "5. Create timeseries of unique articles per month by query type. (This is challenging, because it is not using pandas' timeseries.)\n",
    "\n",
    "\n",
    "**Table of Content [Solutions]**\n",
    "1. [Reading all JSON files](#sec1)\n",
    "2. [Creating a new column](#sec2)\n",
    "3. [Bar chart of top domains](#sec3)\n",
    "4. [Heatmap for the story positions](#sec4)\n",
    "5. [Timeseries of unique articles by query](#sec5)"
   ]
  },
  {
   "cell_type": "markdown",
   "id": "366b059e-6191-40d4-9dad-6e75a306c4e0",
   "metadata": {},
   "source": [
    "<a id=\"sec1\"></a>\n",
    "## Part 1: Reading all JSON files\n",
    "\n",
    "Spend some time looking at the structure of the folders and subfolders in GoogleTopStories. You should notice the deep nesting. The function `os.walk` recursively traverses this nested structure. "
   ]
  },
  {
   "cell_type": "code",
   "execution_count": 44,
   "id": "2cd93b62-65e6-41e1-b7d2-fa9bfbf517bf",
   "metadata": {},
   "outputs": [],
   "source": [
    "import os, json, csv\n",
    "\n",
    "def writeFilesToCSV(pathName):\n",
    "    \"\"\"\n",
    "    Takes a foldername as an argument. Recursively reads all JSON files \n",
    "    and saves their content into a list. At the end, saves all data into a CSV file.\n",
    "    \"\"\"\n",
    "    allTopStories = []\n",
    "    totalFiles = 0\n",
    "    for dirpath, dirnames, filenames in os.walk(pathName):\n",
    "        for fN in filenames: \n",
    "            if fN.endswith('.json'): # Avoid any other types of files, such as .DS_Store\n",
    "                totalFiles += 1\n",
    "                filePath = os.path.join(dirpath, fN) # create the whole path of a file\n",
    "                with open(filePath) as inputF:\n",
    "                    data = json.load(inputF)\n",
    "                    allTopStories.extend(data)\n",
    "                \n",
    "    print(\"Total number of JSON files:\", totalFiles)\n",
    "    print(\"Total number of Top stories in the files:\", len(allTopStories))\n",
    "\n",
    "    with open(\"our-results.csv\", \"w\") as fout:\n",
    "        header = list(allTopStories[0].keys()) + ['category'] # Notice this, because not all top stories have a \"category\"\n",
    "        dW = csv.DictWriter(fout, fieldnames=header)\n",
    "        dW.writeheader()\n",
    "        dW.writerows(allTopStories)"
   ]
  },
  {
   "cell_type": "code",
   "execution_count": 45,
   "id": "619fa6ab-c350-4a08-acc6-97d1b46c617d",
   "metadata": {},
   "outputs": [
    {
     "name": "stdout",
     "output_type": "stream",
     "text": [
      "Total number of JSON files: 2443\n",
      "Total number of Top stories in the files: 16948\n"
     ]
    }
   ],
   "source": [
    "# Call the function for our folder\n",
    "writeFilesToCSV('GoogleTopStories')"
   ]
  },
  {
   "cell_type": "markdown",
   "id": "1d0c6ad8-a092-4a40-80b1-bb2f35761927",
   "metadata": {},
   "source": [
    "**Your task: Explore how `os.walk` works**\n",
    "\n",
    "In order to see how os.walks works, use below the for loop from the function to only explore the month of April 2020, by printing out what the for loop generates."
   ]
  },
  {
   "cell_type": "code",
   "execution_count": 46,
   "id": "9f9e8127-1cdd-4c18-a552-e645e4eb2456",
   "metadata": {},
   "outputs": [
    {
     "name": "stdout",
     "output_type": "stream",
     "text": [
      "Path: GoogleTopStories/2020/04, Directories: ['27', '29', '28', '26', '30', '25'], Files: ['.DS_Store']\n",
      "\n",
      "Path: GoogleTopStories/2020/04/27, Directories: ['10pm', '10am'], Files: []\n",
      "\n",
      "Path: GoogleTopStories/2020/04/27/10pm, Directories: [], Files: ['Covid-19.json', 'coronavirus symptoms.json', 'coronavirus.json', 'coronavirus test.json']\n",
      "\n",
      "Path: GoogleTopStories/2020/04/27/10am, Directories: [], Files: ['Covid-19.json', 'coronavirus symptoms.json', 'coronavirus.json', 'coronavirus test.json']\n",
      "\n",
      "Path: GoogleTopStories/2020/04/29, Directories: ['10pm', '10am'], Files: ['.DS_Store']\n",
      "\n",
      "Path: GoogleTopStories/2020/04/29/10pm, Directories: [], Files: ['Covid-19.json', 'coronavirus symptoms.json', 'coronavirus.json', 'coronavirus test.json']\n",
      "\n",
      "Path: GoogleTopStories/2020/04/29/10am, Directories: [], Files: ['Covid-19.json', 'coronavirus symptoms.json', 'coronavirus.json', 'coronavirus test.json']\n",
      "\n",
      "Path: GoogleTopStories/2020/04/28, Directories: ['10pm', '10am'], Files: []\n",
      "\n",
      "Path: GoogleTopStories/2020/04/28/10pm, Directories: [], Files: ['Covid-19.json', 'coronavirus symptoms.json', 'coronavirus.json', 'coronavirus test.json']\n",
      "\n",
      "Path: GoogleTopStories/2020/04/28/10am, Directories: [], Files: ['Covid-19.json', 'coronavirus symptoms.json', 'coronavirus.json', 'coronavirus test.json']\n",
      "\n",
      "Path: GoogleTopStories/2020/04/26, Directories: ['10pm', '10am'], Files: ['.DS_Store']\n",
      "\n",
      "Path: GoogleTopStories/2020/04/26/10pm, Directories: [], Files: ['Covid-19.json', 'coronavirus symptoms.json', 'coronavirus.json', 'coronavirus test.json']\n",
      "\n",
      "Path: GoogleTopStories/2020/04/26/10am, Directories: [], Files: ['Covid-19.json', 'coronavirus symptoms.json', 'coronavirus.json', 'coronavirus test.json']\n",
      "\n",
      "Path: GoogleTopStories/2020/04/30, Directories: ['10pm', '10am'], Files: []\n",
      "\n",
      "Path: GoogleTopStories/2020/04/30/10pm, Directories: [], Files: ['Covid-19.json', 'coronavirus symptoms.json', 'coronavirus.json', 'coronavirus test.json']\n",
      "\n",
      "Path: GoogleTopStories/2020/04/30/10am, Directories: [], Files: ['Covid-19.json', 'coronavirus symptoms.json', 'coronavirus.json', 'coronavirus test.json']\n",
      "\n",
      "Path: GoogleTopStories/2020/04/25, Directories: ['10pm'], Files: ['.DS_Store']\n",
      "\n",
      "Path: GoogleTopStories/2020/04/25/10pm, Directories: ['.ipynb_checkpoints'], Files: ['Covid-19.json', 'coronavirus symptoms.json', 'coronavirus.json', 'coronavirus test.json']\n",
      "\n",
      "Path: GoogleTopStories/2020/04/25/10pm/.ipynb_checkpoints, Directories: [], Files: ['coronavirus symptoms-checkpoint.json']\n",
      "\n"
     ]
    }
   ],
   "source": [
    "for dirpath, dirnames, filenames in os.walk('GoogleTopStories/2020/04'):\n",
    "    print(f\"Path: {dirpath}, Directories: {dirnames}, Files: {filenames}\")\n",
    "    print()"
   ]
  },
  {
   "cell_type": "markdown",
   "id": "a2ff2670-3681-494f-980b-12006e8c039c",
   "metadata": {},
   "source": [
    "<a id=\"sec2\"></a>\n",
    "## Part 2: Create the new `domain` column\n",
    "\n",
    "Let's load the data that we created in Part 1 into a dataframe."
   ]
  },
  {
   "cell_type": "code",
   "execution_count": 47,
   "id": "d3509da0-2b9c-4e7b-bdca-5c1e7c26415c",
   "metadata": {},
   "outputs": [
    {
     "data": {
      "text/html": [
       "<div>\n",
       "<style scoped>\n",
       "    .dataframe tbody tr th:only-of-type {\n",
       "        vertical-align: middle;\n",
       "    }\n",
       "\n",
       "    .dataframe tbody tr th {\n",
       "        vertical-align: top;\n",
       "    }\n",
       "\n",
       "    .dataframe thead th {\n",
       "        text-align: right;\n",
       "    }\n",
       "</style>\n",
       "<table border=\"1\" class=\"dataframe\">\n",
       "  <thead>\n",
       "    <tr style=\"text-align: right;\">\n",
       "      <th></th>\n",
       "      <th>title</th>\n",
       "      <th>url</th>\n",
       "      <th>source</th>\n",
       "      <th>time</th>\n",
       "      <th>date</th>\n",
       "      <th>query</th>\n",
       "      <th>story_position</th>\n",
       "      <th>domain</th>\n",
       "      <th>category</th>\n",
       "    </tr>\n",
       "  </thead>\n",
       "  <tbody>\n",
       "    <tr>\n",
       "      <th>0</th>\n",
       "      <td>Live Covid-19 News Updates: The Latest</td>\n",
       "      <td>https://www.nytimes.com/live/2021/02/03/world/...</td>\n",
       "      <td>The New York Times</td>\n",
       "      <td>2 hours ago</td>\n",
       "      <td>2021-02-03 22:00:00</td>\n",
       "      <td>Covid-19</td>\n",
       "      <td>1</td>\n",
       "      <td>www.nytimes.com</td>\n",
       "      <td>NaN</td>\n",
       "    </tr>\n",
       "    <tr>\n",
       "      <th>1</th>\n",
       "      <td>The latest on the coronavirus pandemic and vac...</td>\n",
       "      <td>https://www.cnn.com/world/live-news/coronaviru...</td>\n",
       "      <td>CNN</td>\n",
       "      <td>50 mins ago</td>\n",
       "      <td>2021-02-03 22:00:00</td>\n",
       "      <td>Covid-19</td>\n",
       "      <td>2</td>\n",
       "      <td>www.cnn.com</td>\n",
       "      <td>NaN</td>\n",
       "    </tr>\n",
       "    <tr>\n",
       "      <th>2</th>\n",
       "      <td>Chiefs' Daniel Kilgore releases photo of unfin...</td>\n",
       "      <td>https://www.foxnews.com/sports/chiefs-daniel-k...</td>\n",
       "      <td>Fox News</td>\n",
       "      <td>48 mins ago</td>\n",
       "      <td>2021-02-03 22:00:00</td>\n",
       "      <td>Covid-19</td>\n",
       "      <td>3</td>\n",
       "      <td>www.foxnews.com</td>\n",
       "      <td>NaN</td>\n",
       "    </tr>\n",
       "    <tr>\n",
       "      <th>3</th>\n",
       "      <td>Younger adults are biggest spreaders of Covid-...</td>\n",
       "      <td>https://www.cnn.com/2021/02/03/health/younger-...</td>\n",
       "      <td>CNN</td>\n",
       "      <td>35 mins ago</td>\n",
       "      <td>2021-02-03 22:00:00</td>\n",
       "      <td>Covid-19</td>\n",
       "      <td>4</td>\n",
       "      <td>www.cnn.com</td>\n",
       "      <td>NaN</td>\n",
       "    </tr>\n",
       "    <tr>\n",
       "      <th>4</th>\n",
       "      <td>Idaho’s daily average of new COVID-19 cases re...</td>\n",
       "      <td>https://www.idahostatesman.com/news/coronaviru...</td>\n",
       "      <td>Idaho Statesman</td>\n",
       "      <td>51 mins ago</td>\n",
       "      <td>2021-02-03 22:00:00</td>\n",
       "      <td>Covid-19</td>\n",
       "      <td>5</td>\n",
       "      <td>www.idahostatesman.com</td>\n",
       "      <td>NaN</td>\n",
       "    </tr>\n",
       "  </tbody>\n",
       "</table>\n",
       "</div>"
      ],
      "text/plain": [
       "                                               title  \\\n",
       "0             Live Covid-19 News Updates: The Latest   \n",
       "1  The latest on the coronavirus pandemic and vac...   \n",
       "2  Chiefs' Daniel Kilgore releases photo of unfin...   \n",
       "3  Younger adults are biggest spreaders of Covid-...   \n",
       "4  Idaho’s daily average of new COVID-19 cases re...   \n",
       "\n",
       "                                                 url              source  \\\n",
       "0  https://www.nytimes.com/live/2021/02/03/world/...  The New York Times   \n",
       "1  https://www.cnn.com/world/live-news/coronaviru...                 CNN   \n",
       "2  https://www.foxnews.com/sports/chiefs-daniel-k...            Fox News   \n",
       "3  https://www.cnn.com/2021/02/03/health/younger-...                 CNN   \n",
       "4  https://www.idahostatesman.com/news/coronaviru...     Idaho Statesman   \n",
       "\n",
       "          time                 date     query  story_position  \\\n",
       "0  2 hours ago  2021-02-03 22:00:00  Covid-19               1   \n",
       "1  50 mins ago  2021-02-03 22:00:00  Covid-19               2   \n",
       "2  48 mins ago  2021-02-03 22:00:00  Covid-19               3   \n",
       "3  35 mins ago  2021-02-03 22:00:00  Covid-19               4   \n",
       "4  51 mins ago  2021-02-03 22:00:00  Covid-19               5   \n",
       "\n",
       "                   domain category  \n",
       "0         www.nytimes.com      NaN  \n",
       "1             www.cnn.com      NaN  \n",
       "2         www.foxnews.com      NaN  \n",
       "3             www.cnn.com      NaN  \n",
       "4  www.idahostatesman.com      NaN  "
      ]
     },
     "execution_count": 47,
     "metadata": {},
     "output_type": "execute_result"
    }
   ],
   "source": [
    "import pandas as pd\n",
    "\n",
    "df = pd.read_csv('our-results.csv')\n",
    "df.head()"
   ]
  },
  {
   "cell_type": "markdown",
   "id": "a74609d1-b6a6-4db7-b2ed-51c4c0369603",
   "metadata": {},
   "source": [
    "**How to extract the domain name from the URL?**"
   ]
  },
  {
   "cell_type": "code",
   "execution_count": 48,
   "id": "47127e98-2197-419a-a588-07d4458e1699",
   "metadata": {},
   "outputs": [
    {
     "data": {
      "text/plain": [
       "ParseResult(scheme='https', netloc='www.nytimes.com', path='/live/2021/02/03/world/covid-19-coronavirus', params='', query='', fragment='')"
      ]
     },
     "execution_count": 48,
     "metadata": {},
     "output_type": "execute_result"
    }
   ],
   "source": [
    "from urllib.parse import urlparse\n",
    "\n",
    "oneUrl = df.iloc[0]['url'] # retrieve url from first row of dataframe\n",
    "urlparse(oneUrl)"
   ]
  },
  {
   "cell_type": "markdown",
   "id": "4dea6541-41b4-4291-9d12-d3aaba37daeb",
   "metadata": {},
   "source": [
    "Notice that the result is an object and the domain name is the value of the attribute `netloc`. Now, we can easily make use of this to write the helper function to extract the domain name."
   ]
  },
  {
   "cell_type": "markdown",
   "id": "2d615da2-047c-4f56-aff8-584cba379dea",
   "metadata": {},
   "source": [
    "**Write a helper function**"
   ]
  },
  {
   "cell_type": "code",
   "execution_count": 49,
   "id": "76741dae-c2cd-4a56-8a9c-5c4e964b1242",
   "metadata": {},
   "outputs": [],
   "source": [
    "from urllib.parse import urlparse\n",
    "\n",
    "def getDomain(field):\n",
    "    \"\"\"returns the domain name of a url\"\"\"\n",
    "    return urlparse(field).netloc\n"
   ]
  },
  {
   "cell_type": "markdown",
   "id": "209dd761-07d9-4ab8-8291-2e48be3b6a4b",
   "metadata": {},
   "source": [
    "Apply the helper function to the whole column and store the results to a new column:"
   ]
  },
  {
   "cell_type": "code",
   "execution_count": 50,
   "id": "5955a6bb-bf25-4543-8bc5-2649c578927f",
   "metadata": {},
   "outputs": [
    {
     "data": {
      "text/html": [
       "<div>\n",
       "<style scoped>\n",
       "    .dataframe tbody tr th:only-of-type {\n",
       "        vertical-align: middle;\n",
       "    }\n",
       "\n",
       "    .dataframe tbody tr th {\n",
       "        vertical-align: top;\n",
       "    }\n",
       "\n",
       "    .dataframe thead th {\n",
       "        text-align: right;\n",
       "    }\n",
       "</style>\n",
       "<table border=\"1\" class=\"dataframe\">\n",
       "  <thead>\n",
       "    <tr style=\"text-align: right;\">\n",
       "      <th></th>\n",
       "      <th>title</th>\n",
       "      <th>url</th>\n",
       "      <th>source</th>\n",
       "      <th>time</th>\n",
       "      <th>date</th>\n",
       "      <th>query</th>\n",
       "      <th>story_position</th>\n",
       "      <th>domain</th>\n",
       "      <th>category</th>\n",
       "      <th>domain2</th>\n",
       "    </tr>\n",
       "  </thead>\n",
       "  <tbody>\n",
       "    <tr>\n",
       "      <th>0</th>\n",
       "      <td>Live Covid-19 News Updates: The Latest</td>\n",
       "      <td>https://www.nytimes.com/live/2021/02/03/world/...</td>\n",
       "      <td>The New York Times</td>\n",
       "      <td>2 hours ago</td>\n",
       "      <td>2021-02-03 22:00:00</td>\n",
       "      <td>Covid-19</td>\n",
       "      <td>1</td>\n",
       "      <td>www.nytimes.com</td>\n",
       "      <td>NaN</td>\n",
       "      <td>www.nytimes.com</td>\n",
       "    </tr>\n",
       "    <tr>\n",
       "      <th>1</th>\n",
       "      <td>The latest on the coronavirus pandemic and vac...</td>\n",
       "      <td>https://www.cnn.com/world/live-news/coronaviru...</td>\n",
       "      <td>CNN</td>\n",
       "      <td>50 mins ago</td>\n",
       "      <td>2021-02-03 22:00:00</td>\n",
       "      <td>Covid-19</td>\n",
       "      <td>2</td>\n",
       "      <td>www.cnn.com</td>\n",
       "      <td>NaN</td>\n",
       "      <td>www.cnn.com</td>\n",
       "    </tr>\n",
       "    <tr>\n",
       "      <th>2</th>\n",
       "      <td>Chiefs' Daniel Kilgore releases photo of unfin...</td>\n",
       "      <td>https://www.foxnews.com/sports/chiefs-daniel-k...</td>\n",
       "      <td>Fox News</td>\n",
       "      <td>48 mins ago</td>\n",
       "      <td>2021-02-03 22:00:00</td>\n",
       "      <td>Covid-19</td>\n",
       "      <td>3</td>\n",
       "      <td>www.foxnews.com</td>\n",
       "      <td>NaN</td>\n",
       "      <td>www.foxnews.com</td>\n",
       "    </tr>\n",
       "    <tr>\n",
       "      <th>3</th>\n",
       "      <td>Younger adults are biggest spreaders of Covid-...</td>\n",
       "      <td>https://www.cnn.com/2021/02/03/health/younger-...</td>\n",
       "      <td>CNN</td>\n",
       "      <td>35 mins ago</td>\n",
       "      <td>2021-02-03 22:00:00</td>\n",
       "      <td>Covid-19</td>\n",
       "      <td>4</td>\n",
       "      <td>www.cnn.com</td>\n",
       "      <td>NaN</td>\n",
       "      <td>www.cnn.com</td>\n",
       "    </tr>\n",
       "    <tr>\n",
       "      <th>4</th>\n",
       "      <td>Idaho’s daily average of new COVID-19 cases re...</td>\n",
       "      <td>https://www.idahostatesman.com/news/coronaviru...</td>\n",
       "      <td>Idaho Statesman</td>\n",
       "      <td>51 mins ago</td>\n",
       "      <td>2021-02-03 22:00:00</td>\n",
       "      <td>Covid-19</td>\n",
       "      <td>5</td>\n",
       "      <td>www.idahostatesman.com</td>\n",
       "      <td>NaN</td>\n",
       "      <td>www.idahostatesman.com</td>\n",
       "    </tr>\n",
       "  </tbody>\n",
       "</table>\n",
       "</div>"
      ],
      "text/plain": [
       "                                               title  \\\n",
       "0             Live Covid-19 News Updates: The Latest   \n",
       "1  The latest on the coronavirus pandemic and vac...   \n",
       "2  Chiefs' Daniel Kilgore releases photo of unfin...   \n",
       "3  Younger adults are biggest spreaders of Covid-...   \n",
       "4  Idaho’s daily average of new COVID-19 cases re...   \n",
       "\n",
       "                                                 url              source  \\\n",
       "0  https://www.nytimes.com/live/2021/02/03/world/...  The New York Times   \n",
       "1  https://www.cnn.com/world/live-news/coronaviru...                 CNN   \n",
       "2  https://www.foxnews.com/sports/chiefs-daniel-k...            Fox News   \n",
       "3  https://www.cnn.com/2021/02/03/health/younger-...                 CNN   \n",
       "4  https://www.idahostatesman.com/news/coronaviru...     Idaho Statesman   \n",
       "\n",
       "          time                 date     query  story_position  \\\n",
       "0  2 hours ago  2021-02-03 22:00:00  Covid-19               1   \n",
       "1  50 mins ago  2021-02-03 22:00:00  Covid-19               2   \n",
       "2  48 mins ago  2021-02-03 22:00:00  Covid-19               3   \n",
       "3  35 mins ago  2021-02-03 22:00:00  Covid-19               4   \n",
       "4  51 mins ago  2021-02-03 22:00:00  Covid-19               5   \n",
       "\n",
       "                   domain category                 domain2  \n",
       "0         www.nytimes.com      NaN         www.nytimes.com  \n",
       "1             www.cnn.com      NaN             www.cnn.com  \n",
       "2         www.foxnews.com      NaN         www.foxnews.com  \n",
       "3             www.cnn.com      NaN             www.cnn.com  \n",
       "4  www.idahostatesman.com      NaN  www.idahostatesman.com  "
      ]
     },
     "execution_count": 50,
     "metadata": {},
     "output_type": "execute_result"
    }
   ],
   "source": [
    "df['domain2'] = df['url'].apply(getDomain)\n",
    "df.head()"
   ]
  },
  {
   "cell_type": "markdown",
   "id": "8eec9de3-9458-4b8f-b2d9-8580b2b39029",
   "metadata": {},
   "source": [
    "**Your Task: Create a new column**\n",
    "\n",
    "Create a new column that will store the number of words on the title of each article. The column name should be `wordCount`. Show the head of the dataframe to indicate that the column was created."
   ]
  },
  {
   "cell_type": "code",
   "execution_count": 51,
   "id": "48f7458a-b4ed-4f3d-976f-055cd0d0f542",
   "metadata": {},
   "outputs": [
    {
     "data": {
      "text/html": [
       "<div>\n",
       "<style scoped>\n",
       "    .dataframe tbody tr th:only-of-type {\n",
       "        vertical-align: middle;\n",
       "    }\n",
       "\n",
       "    .dataframe tbody tr th {\n",
       "        vertical-align: top;\n",
       "    }\n",
       "\n",
       "    .dataframe thead th {\n",
       "        text-align: right;\n",
       "    }\n",
       "</style>\n",
       "<table border=\"1\" class=\"dataframe\">\n",
       "  <thead>\n",
       "    <tr style=\"text-align: right;\">\n",
       "      <th></th>\n",
       "      <th>title</th>\n",
       "      <th>url</th>\n",
       "      <th>source</th>\n",
       "      <th>time</th>\n",
       "      <th>date</th>\n",
       "      <th>query</th>\n",
       "      <th>story_position</th>\n",
       "      <th>domain</th>\n",
       "      <th>category</th>\n",
       "      <th>domain2</th>\n",
       "      <th>wordCount</th>\n",
       "    </tr>\n",
       "  </thead>\n",
       "  <tbody>\n",
       "    <tr>\n",
       "      <th>0</th>\n",
       "      <td>Live Covid-19 News Updates: The Latest</td>\n",
       "      <td>https://www.nytimes.com/live/2021/02/03/world/...</td>\n",
       "      <td>The New York Times</td>\n",
       "      <td>2 hours ago</td>\n",
       "      <td>2021-02-03 22:00:00</td>\n",
       "      <td>Covid-19</td>\n",
       "      <td>1</td>\n",
       "      <td>www.nytimes.com</td>\n",
       "      <td>NaN</td>\n",
       "      <td>www.nytimes.com</td>\n",
       "      <td>6</td>\n",
       "    </tr>\n",
       "    <tr>\n",
       "      <th>1</th>\n",
       "      <td>The latest on the coronavirus pandemic and vac...</td>\n",
       "      <td>https://www.cnn.com/world/live-news/coronaviru...</td>\n",
       "      <td>CNN</td>\n",
       "      <td>50 mins ago</td>\n",
       "      <td>2021-02-03 22:00:00</td>\n",
       "      <td>Covid-19</td>\n",
       "      <td>2</td>\n",
       "      <td>www.cnn.com</td>\n",
       "      <td>NaN</td>\n",
       "      <td>www.cnn.com</td>\n",
       "      <td>10</td>\n",
       "    </tr>\n",
       "    <tr>\n",
       "      <th>2</th>\n",
       "      <td>Chiefs' Daniel Kilgore releases photo of unfin...</td>\n",
       "      <td>https://www.foxnews.com/sports/chiefs-daniel-k...</td>\n",
       "      <td>Fox News</td>\n",
       "      <td>48 mins ago</td>\n",
       "      <td>2021-02-03 22:00:00</td>\n",
       "      <td>Covid-19</td>\n",
       "      <td>3</td>\n",
       "      <td>www.foxnews.com</td>\n",
       "      <td>NaN</td>\n",
       "      <td>www.foxnews.com</td>\n",
       "      <td>15</td>\n",
       "    </tr>\n",
       "    <tr>\n",
       "      <th>3</th>\n",
       "      <td>Younger adults are biggest spreaders of Covid-...</td>\n",
       "      <td>https://www.cnn.com/2021/02/03/health/younger-...</td>\n",
       "      <td>CNN</td>\n",
       "      <td>35 mins ago</td>\n",
       "      <td>2021-02-03 22:00:00</td>\n",
       "      <td>Covid-19</td>\n",
       "      <td>4</td>\n",
       "      <td>www.cnn.com</td>\n",
       "      <td>NaN</td>\n",
       "      <td>www.cnn.com</td>\n",
       "      <td>9</td>\n",
       "    </tr>\n",
       "    <tr>\n",
       "      <th>4</th>\n",
       "      <td>Idaho’s daily average of new COVID-19 cases re...</td>\n",
       "      <td>https://www.idahostatesman.com/news/coronaviru...</td>\n",
       "      <td>Idaho Statesman</td>\n",
       "      <td>51 mins ago</td>\n",
       "      <td>2021-02-03 22:00:00</td>\n",
       "      <td>Covid-19</td>\n",
       "      <td>5</td>\n",
       "      <td>www.idahostatesman.com</td>\n",
       "      <td>NaN</td>\n",
       "      <td>www.idahostatesman.com</td>\n",
       "      <td>13</td>\n",
       "    </tr>\n",
       "  </tbody>\n",
       "</table>\n",
       "</div>"
      ],
      "text/plain": [
       "                                               title  \\\n",
       "0             Live Covid-19 News Updates: The Latest   \n",
       "1  The latest on the coronavirus pandemic and vac...   \n",
       "2  Chiefs' Daniel Kilgore releases photo of unfin...   \n",
       "3  Younger adults are biggest spreaders of Covid-...   \n",
       "4  Idaho’s daily average of new COVID-19 cases re...   \n",
       "\n",
       "                                                 url              source  \\\n",
       "0  https://www.nytimes.com/live/2021/02/03/world/...  The New York Times   \n",
       "1  https://www.cnn.com/world/live-news/coronaviru...                 CNN   \n",
       "2  https://www.foxnews.com/sports/chiefs-daniel-k...            Fox News   \n",
       "3  https://www.cnn.com/2021/02/03/health/younger-...                 CNN   \n",
       "4  https://www.idahostatesman.com/news/coronaviru...     Idaho Statesman   \n",
       "\n",
       "          time                 date     query  story_position  \\\n",
       "0  2 hours ago  2021-02-03 22:00:00  Covid-19               1   \n",
       "1  50 mins ago  2021-02-03 22:00:00  Covid-19               2   \n",
       "2  48 mins ago  2021-02-03 22:00:00  Covid-19               3   \n",
       "3  35 mins ago  2021-02-03 22:00:00  Covid-19               4   \n",
       "4  51 mins ago  2021-02-03 22:00:00  Covid-19               5   \n",
       "\n",
       "                   domain category                 domain2  wordCount  \n",
       "0         www.nytimes.com      NaN         www.nytimes.com          6  \n",
       "1             www.cnn.com      NaN             www.cnn.com         10  \n",
       "2         www.foxnews.com      NaN         www.foxnews.com         15  \n",
       "3             www.cnn.com      NaN             www.cnn.com          9  \n",
       "4  www.idahostatesman.com      NaN  www.idahostatesman.com         13  "
      ]
     },
     "execution_count": 51,
     "metadata": {},
     "output_type": "execute_result"
    }
   ],
   "source": [
    "def count(words):\n",
    "    return len(words.split())\n",
    "\n",
    "df['wordCount'] = df['title'].apply(count)\n",
    "df.head()"
   ]
  },
  {
   "cell_type": "markdown",
   "id": "deb72a7a-6e81-4171-b0ea-ace861271d8f",
   "metadata": {},
   "source": [
    "<a id=\"sec3\"></a>\n",
    "## Part 3: Bar chart of top 10 domains\n",
    "\n",
    "To create the bar chart of the top 10 domains, we first need to find the top 10 domains.\n",
    "\n",
    "The method `value_counts` returns a **sorted** series of counts for each value in a column."
   ]
  },
  {
   "cell_type": "code",
   "execution_count": 52,
   "id": "48d4c45f-c7e5-4137-a3b2-c7e9de8cb8dc",
   "metadata": {},
   "outputs": [],
   "source": [
    "# Find the top 10 domains using value_counts\n",
    "domainCounts = df['domain'].value_counts()[:10]"
   ]
  },
  {
   "cell_type": "markdown",
   "id": "9ca24649-ede3-44fd-bf47-562f31c0bbf3",
   "metadata": {},
   "source": [
    "Let's see what it looks like:"
   ]
  },
  {
   "cell_type": "code",
   "execution_count": 53,
   "id": "b83d7eaa-c881-4257-aee4-b84a9ef34952",
   "metadata": {},
   "outputs": [
    {
     "data": {
      "text/plain": [
       "domain\n",
       "www.cnn.com               1834\n",
       "www.nytimes.com           1246\n",
       "www.washingtonpost.com     826\n",
       "www.foxnews.com            801\n",
       "www.cnbc.com               577\n",
       "www.npr.org                544\n",
       "www.usatoday.com           492\n",
       "www.nbcnews.com            492\n",
       "thehill.com                477\n",
       "nypost.com                 459\n",
       "Name: count, dtype: int64"
      ]
     },
     "execution_count": 53,
     "metadata": {},
     "output_type": "execute_result"
    }
   ],
   "source": [
    "domainCounts"
   ]
  },
  {
   "cell_type": "markdown",
   "id": "77cb485b-4935-44da-b4bf-5e5c7b618460",
   "metadata": {},
   "source": [
    "Let's look up the type of our our result:"
   ]
  },
  {
   "cell_type": "code",
   "execution_count": 54,
   "id": "384c5af3-9cb6-4d80-b310-68bba8e0d8da",
   "metadata": {},
   "outputs": [
    {
     "data": {
      "text/plain": [
       "pandas.core.series.Series"
      ]
     },
     "execution_count": 54,
     "metadata": {},
     "output_type": "execute_result"
    }
   ],
   "source": [
    "type(domainCounts)"
   ]
  },
  {
   "cell_type": "markdown",
   "id": "a1e9758c-5ff7-4c45-b5dc-921e3787f129",
   "metadata": {},
   "source": [
    "Since the result is a Series, we will convert it to a dataframe. [**Note:** The method `reset_index` converts a Series into a DataFrame, where the original index becomes a column in the DataFrame, and the Series values occupies another column, for which we have to provide a column name.]"
   ]
  },
  {
   "cell_type": "code",
   "execution_count": 55,
   "id": "c446a56b-49d3-4ee9-aa3c-7b049a7bc8e7",
   "metadata": {},
   "outputs": [
    {
     "data": {
      "text/html": [
       "<div>\n",
       "<style scoped>\n",
       "    .dataframe tbody tr th:only-of-type {\n",
       "        vertical-align: middle;\n",
       "    }\n",
       "\n",
       "    .dataframe tbody tr th {\n",
       "        vertical-align: top;\n",
       "    }\n",
       "\n",
       "    .dataframe thead th {\n",
       "        text-align: right;\n",
       "    }\n",
       "</style>\n",
       "<table border=\"1\" class=\"dataframe\">\n",
       "  <thead>\n",
       "    <tr style=\"text-align: right;\">\n",
       "      <th></th>\n",
       "      <th>domain</th>\n",
       "      <th>count</th>\n",
       "    </tr>\n",
       "  </thead>\n",
       "  <tbody>\n",
       "    <tr>\n",
       "      <th>0</th>\n",
       "      <td>www.cnn.com</td>\n",
       "      <td>1834</td>\n",
       "    </tr>\n",
       "    <tr>\n",
       "      <th>1</th>\n",
       "      <td>www.nytimes.com</td>\n",
       "      <td>1246</td>\n",
       "    </tr>\n",
       "    <tr>\n",
       "      <th>2</th>\n",
       "      <td>www.washingtonpost.com</td>\n",
       "      <td>826</td>\n",
       "    </tr>\n",
       "    <tr>\n",
       "      <th>3</th>\n",
       "      <td>www.foxnews.com</td>\n",
       "      <td>801</td>\n",
       "    </tr>\n",
       "    <tr>\n",
       "      <th>4</th>\n",
       "      <td>www.cnbc.com</td>\n",
       "      <td>577</td>\n",
       "    </tr>\n",
       "    <tr>\n",
       "      <th>5</th>\n",
       "      <td>www.npr.org</td>\n",
       "      <td>544</td>\n",
       "    </tr>\n",
       "    <tr>\n",
       "      <th>6</th>\n",
       "      <td>www.usatoday.com</td>\n",
       "      <td>492</td>\n",
       "    </tr>\n",
       "    <tr>\n",
       "      <th>7</th>\n",
       "      <td>www.nbcnews.com</td>\n",
       "      <td>492</td>\n",
       "    </tr>\n",
       "    <tr>\n",
       "      <th>8</th>\n",
       "      <td>thehill.com</td>\n",
       "      <td>477</td>\n",
       "    </tr>\n",
       "    <tr>\n",
       "      <th>9</th>\n",
       "      <td>nypost.com</td>\n",
       "      <td>459</td>\n",
       "    </tr>\n",
       "  </tbody>\n",
       "</table>\n",
       "</div>"
      ],
      "text/plain": [
       "                   domain  count\n",
       "0             www.cnn.com   1834\n",
       "1         www.nytimes.com   1246\n",
       "2  www.washingtonpost.com    826\n",
       "3         www.foxnews.com    801\n",
       "4            www.cnbc.com    577\n",
       "5             www.npr.org    544\n",
       "6        www.usatoday.com    492\n",
       "7         www.nbcnews.com    492\n",
       "8             thehill.com    477\n",
       "9              nypost.com    459"
      ]
     },
     "execution_count": 55,
     "metadata": {},
     "output_type": "execute_result"
    }
   ],
   "source": [
    "data = domainCounts.reset_index(name='count')\n",
    "data"
   ]
  },
  {
   "cell_type": "markdown",
   "id": "639d2b4c-8874-4f38-ad7e-49703f777cf5",
   "metadata": {},
   "source": [
    "Now that we have a dataframe we can use Seaborn to generate charts. Below I'm creating a bar plot."
   ]
  },
  {
   "cell_type": "code",
   "execution_count": 56,
   "id": "79831878-17d2-4c07-bfbc-965757b44a65",
   "metadata": {},
   "outputs": [
    {
     "data": {
      "image/png": "[encoded data removed]",
      "text/plain": [
       "<Figure size 800x400 with 1 Axes>"
      ]
     },
     "metadata": {},
     "output_type": "display_data"
    }
   ],
   "source": [
    "import seaborn as sns\n",
    "import matplotlib.pyplot as plt\n",
    "\n",
    "plt.figure(figsize=(8, 4))   # adjusting the size of the figure where the plot will be displayed\n",
    "sns.set_style(\"whitegrid\")  \n",
    "\n",
    "# Create the horizontal bar plot\n",
    "ax = sns.barplot(x='count', y='domain', data=data, color=\"salmon\", legend=None)\n",
    "\n",
    "# Set titles\n",
    "ax.set_xlabel(\"Count\", fontsize=10)\n",
    "ax.set_ylabel(\"Domain\", fontsize=10)\n",
    "ax.set_title(\"Top 10 Domains by Count\", fontsize=14)\n",
    "\n",
    "# Display the plot\n",
    "plt.show()"
   ]
  },
  {
   "cell_type": "markdown",
   "id": "b1576471-b181-4d79-9651-3bf5d8178476",
   "metadata": {},
   "source": [
    "**Your Task: Create a bar chart of query occurrences**\n",
    "\n",
    "Adapt the code above to generate the bar chart of the query occurrences. Make sure that you change the barplot titles to reflect the new variable being displayed. Change the color of the graph and [visit this Seaborn documentation page](https://seaborn.pydata.org/tutorial/aesthetics.html) for inspiration on changing the style of the plot."
   ]
  },
  {
   "cell_type": "code",
   "execution_count": 57,
   "id": "1b24e808-f9a7-47cb-8a74-63ee6e298aaa",
   "metadata": {},
   "outputs": [
    {
     "data": {
      "text/plain": [
       "query\n",
       "coronavirus             5009\n",
       "Covid-19                4984\n",
       "Anthony Fauci           3981\n",
       "coronavirus symptoms    1560\n",
       "coronavirus test        1414\n",
       "Name: count, dtype: int64"
      ]
     },
     "execution_count": 57,
     "metadata": {},
     "output_type": "execute_result"
    }
   ],
   "source": [
    "queryCounts = df['query'].value_counts()\n",
    "queryCounts"
   ]
  },
  {
   "cell_type": "code",
   "execution_count": 58,
   "id": "d1ee7935-5305-4e18-8013-43c11a034899",
   "metadata": {},
   "outputs": [
    {
     "data": {
      "text/html": [
       "<div>\n",
       "<style scoped>\n",
       "    .dataframe tbody tr th:only-of-type {\n",
       "        vertical-align: middle;\n",
       "    }\n",
       "\n",
       "    .dataframe tbody tr th {\n",
       "        vertical-align: top;\n",
       "    }\n",
       "\n",
       "    .dataframe thead th {\n",
       "        text-align: right;\n",
       "    }\n",
       "</style>\n",
       "<table border=\"1\" class=\"dataframe\">\n",
       "  <thead>\n",
       "    <tr style=\"text-align: right;\">\n",
       "      <th></th>\n",
       "      <th>query</th>\n",
       "      <th>count</th>\n",
       "    </tr>\n",
       "  </thead>\n",
       "  <tbody>\n",
       "    <tr>\n",
       "      <th>0</th>\n",
       "      <td>coronavirus</td>\n",
       "      <td>5009</td>\n",
       "    </tr>\n",
       "    <tr>\n",
       "      <th>1</th>\n",
       "      <td>Covid-19</td>\n",
       "      <td>4984</td>\n",
       "    </tr>\n",
       "    <tr>\n",
       "      <th>2</th>\n",
       "      <td>Anthony Fauci</td>\n",
       "      <td>3981</td>\n",
       "    </tr>\n",
       "    <tr>\n",
       "      <th>3</th>\n",
       "      <td>coronavirus symptoms</td>\n",
       "      <td>1560</td>\n",
       "    </tr>\n",
       "    <tr>\n",
       "      <th>4</th>\n",
       "      <td>coronavirus test</td>\n",
       "      <td>1414</td>\n",
       "    </tr>\n",
       "  </tbody>\n",
       "</table>\n",
       "</div>"
      ],
      "text/plain": [
       "                  query  count\n",
       "0           coronavirus   5009\n",
       "1              Covid-19   4984\n",
       "2         Anthony Fauci   3981\n",
       "3  coronavirus symptoms   1560\n",
       "4      coronavirus test   1414"
      ]
     },
     "execution_count": 58,
     "metadata": {},
     "output_type": "execute_result"
    }
   ],
   "source": [
    "data = queryCounts.reset_index(name='count')\n",
    "data"
   ]
  },
  {
   "cell_type": "code",
   "execution_count": 59,
   "id": "432161fb",
   "metadata": {},
   "outputs": [
    {
     "data": {
      "image/png": "[encoded data removed]",
      "text/plain": [
       "<Figure size 800x400 with 1 Axes>"
      ]
     },
     "metadata": {},
     "output_type": "display_data"
    }
   ],
   "source": [
    "plt.figure(figsize=(8, 4))   # adjusting the size of the figure where the plot will be displayed\n",
    "sns.set_style(\"darkgrid\")  \n",
    "\n",
    "# Create the horizontal bar plot\n",
    "ax = sns.barplot(x='count', y='query', data=data, color=\"lightblue\", legend=None)\n",
    "\n",
    "# Set titles\n",
    "ax.set_xlabel(\"Count\", fontsize=10)\n",
    "ax.set_ylabel(\"Query\", fontsize=10)\n",
    "ax.set_title(\"Query Counts\", fontsize=14)\n",
    "\n",
    "# Display the plot\n",
    "plt.show()"
   ]
  },
  {
   "cell_type": "markdown",
   "id": "77dc99af-71f7-42a4-8085-8f07c92f569f",
   "metadata": {},
   "source": [
    "<a id=\"sec4\"></a>\n",
    "## Part 4: Heatmap for the story positions\n",
    "\n",
    "We are interested in the question: Are all news sources equally likely to show up in all positions? Or some of them show up more frequently in a certain position? To explore this question visually, we will create a heatmap. However, since there are hundreds of news sources in our dataset, we will focus only on the top 10 for simplicity."
   ]
  },
  {
   "cell_type": "code",
   "execution_count": 60,
   "id": "16365311-07f9-407a-b2ed-9dad0990cdb4",
   "metadata": {},
   "outputs": [
    {
     "data": {
      "text/plain": [
       "(7748, 11)"
      ]
     },
     "execution_count": 60,
     "metadata": {},
     "output_type": "execute_result"
    }
   ],
   "source": [
    "# First, find the names of the top 10 domains\n",
    "# Then, filter the dataframe to select only the rows of one of the top 10 domains (articles that belong to these news domains)\n",
    "\n",
    "topTen = df['domain'].value_counts()[:10].index.tolist() # remember from part 3 that value_counts returns a Series and the 'domain' column is the index of it\n",
    "dfSmall = df[df['domain'].isin(topTen)] # do the filtering. Notice the filter syntax.\n",
    "dfSmall.shape"
   ]
  },
  {
   "cell_type": "markdown",
   "id": "ef8ed4ea-b290-42a6-ac43-fa047424f17c",
   "metadata": {},
   "source": [
    "As a reminder, here is what the size of the whole dataframe is:"
   ]
  },
  {
   "cell_type": "code",
   "execution_count": 61,
   "id": "106088f6-0377-4c20-b125-548008176957",
   "metadata": {},
   "outputs": [
    {
     "data": {
      "text/plain": [
       "(16948, 11)"
      ]
     },
     "execution_count": 61,
     "metadata": {},
     "output_type": "execute_result"
    }
   ],
   "source": [
    "df.shape"
   ]
  },
  {
   "cell_type": "markdown",
   "id": "e398e80a-70df-4dff-b435-0ed9331005f6",
   "metadata": {},
   "source": [
    "Let's calcuate the proportion of articles from the top 10 domains:"
   ]
  },
  {
   "cell_type": "code",
   "execution_count": 62,
   "id": "96f25f95-3ef7-416a-a8ba-644a7232e52a",
   "metadata": {},
   "outputs": [
    {
     "data": {
      "text/plain": [
       "45.71630870899221"
      ]
     },
     "execution_count": 62,
     "metadata": {},
     "output_type": "execute_result"
    }
   ],
   "source": [
    "proportion = dfSmall.shape[0]/df.shape[0] * 100\n",
    "proportion"
   ]
  },
  {
   "cell_type": "markdown",
   "id": "0e41c91a-edd9-42b4-9d20-8af50df60a0d",
   "metadata": {},
   "source": [
    "**Question:** What does the fact that the proportion of the occurrences of the top 10 domains comes at 45% tell us about Google's algorithms?"
   ]
  },
  {
   "cell_type": "code",
   "execution_count": 63,
   "id": "f19af83e",
   "metadata": {},
   "outputs": [
    {
     "name": "stdout",
     "output_type": "stream",
     "text": [
      "811\n"
     ]
    }
   ],
   "source": [
    "print(len(df['domain'].value_counts()))"
   ]
  },
  {
   "cell_type": "markdown",
   "id": "80bf7d37-fd2f-4e75-a54d-a396b1442a73",
   "metadata": {},
   "source": [
    "**Your Answer:** The fact that the proportion of articles from the top 10 domains is about 45% tells me that Google's algorithms prioritize displaying articles from only a few larger news sources. There are 81 domains, yet 45% of all the headlines that show up in the top 10 story positions come from only 10 domains."
   ]
  },
  {
   "cell_type": "markdown",
   "id": "911c0a4a-ad73-4378-b60c-0de298f090c4",
   "metadata": {},
   "source": [
    "### Creating a pivot table\n",
    "\n",
    "Our current dataframe, `dfSmall` presents itself as a **tidy table**, each row is an observation. We will now convert it to a form that it is not a **tidy table**, because the columns will become values of the variable \"story_position\". This will allow us to count how many domains show up in each of the 10 positions.\n",
    "\n",
    "To create such a table we will use pandas' `pivot_table` method, which builds upon the `groupby` method that we have seen."
   ]
  },
  {
   "cell_type": "code",
   "execution_count": 64,
   "id": "de0385ae-39bf-4ac2-82c9-67f05cdc6c6b",
   "metadata": {},
   "outputs": [
    {
     "data": {
      "text/html": [
       "<div>\n",
       "<style scoped>\n",
       "    .dataframe tbody tr th:only-of-type {\n",
       "        vertical-align: middle;\n",
       "    }\n",
       "\n",
       "    .dataframe tbody tr th {\n",
       "        vertical-align: top;\n",
       "    }\n",
       "\n",
       "    .dataframe thead th {\n",
       "        text-align: right;\n",
       "    }\n",
       "</style>\n",
       "<table border=\"1\" class=\"dataframe\">\n",
       "  <thead>\n",
       "    <tr style=\"text-align: right;\">\n",
       "      <th>story_position</th>\n",
       "      <th>1</th>\n",
       "      <th>2</th>\n",
       "      <th>3</th>\n",
       "      <th>4</th>\n",
       "      <th>5</th>\n",
       "      <th>6</th>\n",
       "      <th>7</th>\n",
       "      <th>8</th>\n",
       "      <th>9</th>\n",
       "      <th>10</th>\n",
       "    </tr>\n",
       "    <tr>\n",
       "      <th>domain</th>\n",
       "      <th></th>\n",
       "      <th></th>\n",
       "      <th></th>\n",
       "      <th></th>\n",
       "      <th></th>\n",
       "      <th></th>\n",
       "      <th></th>\n",
       "      <th></th>\n",
       "      <th></th>\n",
       "      <th></th>\n",
       "    </tr>\n",
       "  </thead>\n",
       "  <tbody>\n",
       "    <tr>\n",
       "      <th>nypost.com</th>\n",
       "      <td>64</td>\n",
       "      <td>65</td>\n",
       "      <td>75</td>\n",
       "      <td>37</td>\n",
       "      <td>33</td>\n",
       "      <td>37</td>\n",
       "      <td>41</td>\n",
       "      <td>39</td>\n",
       "      <td>36</td>\n",
       "      <td>32</td>\n",
       "    </tr>\n",
       "    <tr>\n",
       "      <th>thehill.com</th>\n",
       "      <td>32</td>\n",
       "      <td>43</td>\n",
       "      <td>82</td>\n",
       "      <td>70</td>\n",
       "      <td>62</td>\n",
       "      <td>28</td>\n",
       "      <td>39</td>\n",
       "      <td>55</td>\n",
       "      <td>37</td>\n",
       "      <td>29</td>\n",
       "    </tr>\n",
       "    <tr>\n",
       "      <th>www.cnbc.com</th>\n",
       "      <td>103</td>\n",
       "      <td>77</td>\n",
       "      <td>57</td>\n",
       "      <td>50</td>\n",
       "      <td>49</td>\n",
       "      <td>53</td>\n",
       "      <td>39</td>\n",
       "      <td>38</td>\n",
       "      <td>51</td>\n",
       "      <td>60</td>\n",
       "    </tr>\n",
       "    <tr>\n",
       "      <th>www.cnn.com</th>\n",
       "      <td>479</td>\n",
       "      <td>480</td>\n",
       "      <td>190</td>\n",
       "      <td>98</td>\n",
       "      <td>82</td>\n",
       "      <td>138</td>\n",
       "      <td>122</td>\n",
       "      <td>100</td>\n",
       "      <td>80</td>\n",
       "      <td>65</td>\n",
       "    </tr>\n",
       "    <tr>\n",
       "      <th>www.foxnews.com</th>\n",
       "      <td>99</td>\n",
       "      <td>101</td>\n",
       "      <td>137</td>\n",
       "      <td>79</td>\n",
       "      <td>74</td>\n",
       "      <td>87</td>\n",
       "      <td>56</td>\n",
       "      <td>60</td>\n",
       "      <td>55</td>\n",
       "      <td>53</td>\n",
       "    </tr>\n",
       "    <tr>\n",
       "      <th>www.nbcnews.com</th>\n",
       "      <td>30</td>\n",
       "      <td>63</td>\n",
       "      <td>51</td>\n",
       "      <td>36</td>\n",
       "      <td>41</td>\n",
       "      <td>38</td>\n",
       "      <td>64</td>\n",
       "      <td>58</td>\n",
       "      <td>51</td>\n",
       "      <td>60</td>\n",
       "    </tr>\n",
       "    <tr>\n",
       "      <th>www.npr.org</th>\n",
       "      <td>86</td>\n",
       "      <td>108</td>\n",
       "      <td>42</td>\n",
       "      <td>21</td>\n",
       "      <td>22</td>\n",
       "      <td>41</td>\n",
       "      <td>48</td>\n",
       "      <td>55</td>\n",
       "      <td>65</td>\n",
       "      <td>56</td>\n",
       "    </tr>\n",
       "    <tr>\n",
       "      <th>www.nytimes.com</th>\n",
       "      <td>634</td>\n",
       "      <td>274</td>\n",
       "      <td>75</td>\n",
       "      <td>22</td>\n",
       "      <td>29</td>\n",
       "      <td>42</td>\n",
       "      <td>47</td>\n",
       "      <td>51</td>\n",
       "      <td>38</td>\n",
       "      <td>34</td>\n",
       "    </tr>\n",
       "    <tr>\n",
       "      <th>www.usatoday.com</th>\n",
       "      <td>47</td>\n",
       "      <td>61</td>\n",
       "      <td>74</td>\n",
       "      <td>33</td>\n",
       "      <td>31</td>\n",
       "      <td>48</td>\n",
       "      <td>49</td>\n",
       "      <td>49</td>\n",
       "      <td>52</td>\n",
       "      <td>48</td>\n",
       "    </tr>\n",
       "    <tr>\n",
       "      <th>www.washingtonpost.com</th>\n",
       "      <td>179</td>\n",
       "      <td>230</td>\n",
       "      <td>95</td>\n",
       "      <td>40</td>\n",
       "      <td>35</td>\n",
       "      <td>72</td>\n",
       "      <td>60</td>\n",
       "      <td>41</td>\n",
       "      <td>39</td>\n",
       "      <td>35</td>\n",
       "    </tr>\n",
       "  </tbody>\n",
       "</table>\n",
       "</div>"
      ],
      "text/plain": [
       "story_position           1    2    3   4   5    6    7    8   9   10\n",
       "domain                                                              \n",
       "nypost.com               64   65   75  37  33   37   41   39  36  32\n",
       "thehill.com              32   43   82  70  62   28   39   55  37  29\n",
       "www.cnbc.com            103   77   57  50  49   53   39   38  51  60\n",
       "www.cnn.com             479  480  190  98  82  138  122  100  80  65\n",
       "www.foxnews.com          99  101  137  79  74   87   56   60  55  53\n",
       "www.nbcnews.com          30   63   51  36  41   38   64   58  51  60\n",
       "www.npr.org              86  108   42  21  22   41   48   55  65  56\n",
       "www.nytimes.com         634  274   75  22  29   42   47   51  38  34\n",
       "www.usatoday.com         47   61   74  33  31   48   49   49  52  48\n",
       "www.washingtonpost.com  179  230   95  40  35   72   60   41  39  35"
      ]
     },
     "execution_count": 64,
     "metadata": {},
     "output_type": "execute_result"
    }
   ],
   "source": [
    "# First, let's create the pivot table to count each domain occurrence by position\n",
    "dfFinal = dfSmall[['domain', 'story_position']] # work with a two-column dataframe\n",
    "\n",
    "pivotDF = dfFinal.pivot_table(index='domain', columns='story_position', \n",
    "                              aggfunc='size',fill_value=0)\n",
    "pivotDF.head(10)"
   ]
  },
  {
   "cell_type": "markdown",
   "id": "0327276f-9197-4a53-ae8a-1351a646a499",
   "metadata": {},
   "source": [
    "Now that we have a dataframe, let's normalize the rows by dividing each cell in a column by the sum of values of that row:"
   ]
  },
  {
   "cell_type": "code",
   "execution_count": 65,
   "id": "99bb6b82-65e2-481f-ac04-33b767c97815",
   "metadata": {},
   "outputs": [
    {
     "data": {
      "text/html": [
       "<div>\n",
       "<style scoped>\n",
       "    .dataframe tbody tr th:only-of-type {\n",
       "        vertical-align: middle;\n",
       "    }\n",
       "\n",
       "    .dataframe tbody tr th {\n",
       "        vertical-align: top;\n",
       "    }\n",
       "\n",
       "    .dataframe thead th {\n",
       "        text-align: right;\n",
       "    }\n",
       "</style>\n",
       "<table border=\"1\" class=\"dataframe\">\n",
       "  <thead>\n",
       "    <tr style=\"text-align: right;\">\n",
       "      <th>story_position</th>\n",
       "      <th>1</th>\n",
       "      <th>2</th>\n",
       "      <th>3</th>\n",
       "      <th>4</th>\n",
       "      <th>5</th>\n",
       "      <th>6</th>\n",
       "      <th>7</th>\n",
       "      <th>8</th>\n",
       "      <th>9</th>\n",
       "      <th>10</th>\n",
       "    </tr>\n",
       "    <tr>\n",
       "      <th>domain</th>\n",
       "      <th></th>\n",
       "      <th></th>\n",
       "      <th></th>\n",
       "      <th></th>\n",
       "      <th></th>\n",
       "      <th></th>\n",
       "      <th></th>\n",
       "      <th></th>\n",
       "      <th></th>\n",
       "      <th></th>\n",
       "    </tr>\n",
       "  </thead>\n",
       "  <tbody>\n",
       "    <tr>\n",
       "      <th>nypost.com</th>\n",
       "      <td>0.139434</td>\n",
       "      <td>0.141612</td>\n",
       "      <td>0.163399</td>\n",
       "      <td>0.080610</td>\n",
       "      <td>0.071895</td>\n",
       "      <td>0.080610</td>\n",
       "      <td>0.089325</td>\n",
       "      <td>0.084967</td>\n",
       "      <td>0.078431</td>\n",
       "      <td>0.069717</td>\n",
       "    </tr>\n",
       "    <tr>\n",
       "      <th>thehill.com</th>\n",
       "      <td>0.067086</td>\n",
       "      <td>0.090147</td>\n",
       "      <td>0.171908</td>\n",
       "      <td>0.146751</td>\n",
       "      <td>0.129979</td>\n",
       "      <td>0.058700</td>\n",
       "      <td>0.081761</td>\n",
       "      <td>0.115304</td>\n",
       "      <td>0.077568</td>\n",
       "      <td>0.060797</td>\n",
       "    </tr>\n",
       "    <tr>\n",
       "      <th>www.cnbc.com</th>\n",
       "      <td>0.178510</td>\n",
       "      <td>0.133449</td>\n",
       "      <td>0.098787</td>\n",
       "      <td>0.086655</td>\n",
       "      <td>0.084922</td>\n",
       "      <td>0.091854</td>\n",
       "      <td>0.067591</td>\n",
       "      <td>0.065858</td>\n",
       "      <td>0.088388</td>\n",
       "      <td>0.103986</td>\n",
       "    </tr>\n",
       "    <tr>\n",
       "      <th>www.cnn.com</th>\n",
       "      <td>0.261178</td>\n",
       "      <td>0.261723</td>\n",
       "      <td>0.103599</td>\n",
       "      <td>0.053435</td>\n",
       "      <td>0.044711</td>\n",
       "      <td>0.075245</td>\n",
       "      <td>0.066521</td>\n",
       "      <td>0.054526</td>\n",
       "      <td>0.043621</td>\n",
       "      <td>0.035442</td>\n",
       "    </tr>\n",
       "    <tr>\n",
       "      <th>www.foxnews.com</th>\n",
       "      <td>0.123596</td>\n",
       "      <td>0.126092</td>\n",
       "      <td>0.171036</td>\n",
       "      <td>0.098627</td>\n",
       "      <td>0.092385</td>\n",
       "      <td>0.108614</td>\n",
       "      <td>0.069913</td>\n",
       "      <td>0.074906</td>\n",
       "      <td>0.068664</td>\n",
       "      <td>0.066167</td>\n",
       "    </tr>\n",
       "    <tr>\n",
       "      <th>www.nbcnews.com</th>\n",
       "      <td>0.060976</td>\n",
       "      <td>0.128049</td>\n",
       "      <td>0.103659</td>\n",
       "      <td>0.073171</td>\n",
       "      <td>0.083333</td>\n",
       "      <td>0.077236</td>\n",
       "      <td>0.130081</td>\n",
       "      <td>0.117886</td>\n",
       "      <td>0.103659</td>\n",
       "      <td>0.121951</td>\n",
       "    </tr>\n",
       "    <tr>\n",
       "      <th>www.npr.org</th>\n",
       "      <td>0.158088</td>\n",
       "      <td>0.198529</td>\n",
       "      <td>0.077206</td>\n",
       "      <td>0.038603</td>\n",
       "      <td>0.040441</td>\n",
       "      <td>0.075368</td>\n",
       "      <td>0.088235</td>\n",
       "      <td>0.101103</td>\n",
       "      <td>0.119485</td>\n",
       "      <td>0.102941</td>\n",
       "    </tr>\n",
       "    <tr>\n",
       "      <th>www.nytimes.com</th>\n",
       "      <td>0.508828</td>\n",
       "      <td>0.219904</td>\n",
       "      <td>0.060193</td>\n",
       "      <td>0.017657</td>\n",
       "      <td>0.023274</td>\n",
       "      <td>0.033708</td>\n",
       "      <td>0.037721</td>\n",
       "      <td>0.040931</td>\n",
       "      <td>0.030498</td>\n",
       "      <td>0.027287</td>\n",
       "    </tr>\n",
       "    <tr>\n",
       "      <th>www.usatoday.com</th>\n",
       "      <td>0.095528</td>\n",
       "      <td>0.123984</td>\n",
       "      <td>0.150407</td>\n",
       "      <td>0.067073</td>\n",
       "      <td>0.063008</td>\n",
       "      <td>0.097561</td>\n",
       "      <td>0.099593</td>\n",
       "      <td>0.099593</td>\n",
       "      <td>0.105691</td>\n",
       "      <td>0.097561</td>\n",
       "    </tr>\n",
       "    <tr>\n",
       "      <th>www.washingtonpost.com</th>\n",
       "      <td>0.216707</td>\n",
       "      <td>0.278450</td>\n",
       "      <td>0.115012</td>\n",
       "      <td>0.048426</td>\n",
       "      <td>0.042373</td>\n",
       "      <td>0.087167</td>\n",
       "      <td>0.072639</td>\n",
       "      <td>0.049637</td>\n",
       "      <td>0.047215</td>\n",
       "      <td>0.042373</td>\n",
       "    </tr>\n",
       "  </tbody>\n",
       "</table>\n",
       "</div>"
      ],
      "text/plain": [
       "story_position                1         2         3         4         5   \\\n",
       "domain                                                                     \n",
       "nypost.com              0.139434  0.141612  0.163399  0.080610  0.071895   \n",
       "thehill.com             0.067086  0.090147  0.171908  0.146751  0.129979   \n",
       "www.cnbc.com            0.178510  0.133449  0.098787  0.086655  0.084922   \n",
       "www.cnn.com             0.261178  0.261723  0.103599  0.053435  0.044711   \n",
       "www.foxnews.com         0.123596  0.126092  0.171036  0.098627  0.092385   \n",
       "www.nbcnews.com         0.060976  0.128049  0.103659  0.073171  0.083333   \n",
       "www.npr.org             0.158088  0.198529  0.077206  0.038603  0.040441   \n",
       "www.nytimes.com         0.508828  0.219904  0.060193  0.017657  0.023274   \n",
       "www.usatoday.com        0.095528  0.123984  0.150407  0.067073  0.063008   \n",
       "www.washingtonpost.com  0.216707  0.278450  0.115012  0.048426  0.042373   \n",
       "\n",
       "story_position                6         7         8         9         10  \n",
       "domain                                                                    \n",
       "nypost.com              0.080610  0.089325  0.084967  0.078431  0.069717  \n",
       "thehill.com             0.058700  0.081761  0.115304  0.077568  0.060797  \n",
       "www.cnbc.com            0.091854  0.067591  0.065858  0.088388  0.103986  \n",
       "www.cnn.com             0.075245  0.066521  0.054526  0.043621  0.035442  \n",
       "www.foxnews.com         0.108614  0.069913  0.074906  0.068664  0.066167  \n",
       "www.nbcnews.com         0.077236  0.130081  0.117886  0.103659  0.121951  \n",
       "www.npr.org             0.075368  0.088235  0.101103  0.119485  0.102941  \n",
       "www.nytimes.com         0.033708  0.037721  0.040931  0.030498  0.027287  \n",
       "www.usatoday.com        0.097561  0.099593  0.099593  0.105691  0.097561  \n",
       "www.washingtonpost.com  0.087167  0.072639  0.049637  0.047215  0.042373  "
      ]
     },
     "execution_count": 65,
     "metadata": {},
     "output_type": "execute_result"
    }
   ],
   "source": [
    "normalized = pivotDF.div(pivotDF.sum(axis=1), # first generate the sum of values in each row\n",
    "                         axis=0) # then divide all cells in a colum, by the corresponding sum\n",
    "normalized"
   ]
  },
  {
   "cell_type": "markdown",
   "id": "c5e6bea3-8dcf-4a2d-99f9-ec4ce0b35001",
   "metadata": {},
   "source": [
    "Now that the data is ready, we can create the heatmap, providing some additional instructions to make it look good:"
   ]
  },
  {
   "cell_type": "code",
   "execution_count": 66,
   "id": "214926a7-9164-4808-aa9d-632f9723e03e",
   "metadata": {},
   "outputs": [
    {
     "data": {
      "image/png": "[encoded data removed]",
      "text/plain": [
       "<Figure size 800x400 with 2 Axes>"
      ]
     },
     "metadata": {},
     "output_type": "display_data"
    }
   ],
   "source": [
    "# Create a heatmap\n",
    "plt.figure(figsize=(8, 4))\n",
    "sns.set(font_scale=1.2)  # Adjust font size\n",
    "sns.heatmap(normalized, \n",
    "            cmap='BuGn', # set color map Blue to Green\n",
    "            annot=False, # do not show the numerical values in each cell\n",
    "            linewidths=0.5) # width of lines that separate the cells in the map\n",
    "\n",
    "# We are directly setting the properties of the current axes, without explicitely referring to it as we did in the barplot image\n",
    "plt.xlabel('Story position', fontsize=10)\n",
    "plt.ylabel('Domain', fontsize=10)\n",
    "plt.title('Proportion of Top 10 Domains by Position', fontsize=12)\n",
    "\n",
    "plt.tight_layout()\n",
    "plt.show()"
   ]
  },
  {
   "cell_type": "markdown",
   "id": "e5aad6c1-5394-4fa1-aa01-10f4589db1c5",
   "metadata": {},
   "source": [
    "**Questions:** Given this visualization, how can we answer our starting question: Are all news sources equally likely to show up in all positions?  \n",
    "Furthermore, what does this tell us about Google's algorithms?"
   ]
  },
  {
   "cell_type": "markdown",
   "id": "7978a2bb-4d91-408b-91b0-0c6ef252b606",
   "metadata": {},
   "source": [
    "**Your Answer:** All news sources are NOT equally likely to show up in all positions. If they were, then the heatmap would show a similar color for each story position. However we can see that certain news sources — cnn, washingtonpost, and especially nytimes — have a high proportion of their articles in the first and second story positions while other sources have a smaller proportion of their stories in those positions/a more even distribution of stories in posiitons 1-10. This tells us that Google's algorithms prioritize articles from certian domains, making those articles more likely to appear in a higher position."
   ]
  },
  {
   "cell_type": "markdown",
   "id": "f3606f9e-bbdd-427a-9311-a67a058b337f",
   "metadata": {},
   "source": [
    "<a id=\"sec5\"></a>\n",
    "## 5. Timeseries of monthly unique articles organized by query type\n",
    "\n",
    "From prior experience in working with Google Top Stories data, I know that some articles show up multiple times during the day or over a few days. We can verify this through code:"
   ]
  },
  {
   "cell_type": "code",
   "execution_count": 67,
   "id": "28f7a83e-d36e-4200-89e1-5a3f4a2adf18",
   "metadata": {},
   "outputs": [
    {
     "data": {
      "text/plain": [
       "False"
      ]
     },
     "execution_count": 67,
     "metadata": {},
     "output_type": "execute_result"
    }
   ],
   "source": [
    "df.url.unique().size == df.url.size # compare sizes"
   ]
  },
  {
   "cell_type": "markdown",
   "id": "933b8758-a119-4fa2-b8d1-9f6ecb746e5d",
   "metadata": {},
   "source": [
    "Print the sizes to compare unique url to the total urls:"
   ]
  },
  {
   "cell_type": "code",
   "execution_count": 68,
   "id": "d0066478-be70-4613-a834-1f12d6dfc1a2",
   "metadata": {},
   "outputs": [
    {
     "name": "stdout",
     "output_type": "stream",
     "text": [
      "Unique: 12265, Total: 16948\n"
     ]
    }
   ],
   "source": [
    "print(f\"Unique: {df.url.unique().size}, Total: {df.url.size}\")"
   ]
  },
  {
   "cell_type": "markdown",
   "id": "ec291001-f705-4115-9dcd-bc2d3c74674b",
   "metadata": {},
   "source": [
    "**Your Task: Domains and Sources**  \n",
    "Throughout the notebook, we worked with the domain column, instead of source. \n",
    "1. Check if these two columns have the same size in terms of unique values.\n",
    "2. What is the size of unique values for each of them?\n",
    "3. Speculate about the reason for the divergence between the two columns."
   ]
  },
  {
   "cell_type": "markdown",
   "id": "cc79a0a6-e402-496e-8399-fdafd2eb9da9",
   "metadata": {},
   "source": [
    "**Your exploration**"
   ]
  },
  {
   "cell_type": "code",
   "execution_count": 69,
   "id": "5c997916-d497-4cfd-be68-63d470ecc127",
   "metadata": {},
   "outputs": [
    {
     "data": {
      "text/plain": [
       "False"
      ]
     },
     "execution_count": 69,
     "metadata": {},
     "output_type": "execute_result"
    }
   ],
   "source": [
    "df.domain.unique().size == df.source.unique().size"
   ]
  },
  {
   "cell_type": "code",
   "execution_count": 70,
   "id": "5a09fae5-300a-497f-9d30-494499604ff2",
   "metadata": {},
   "outputs": [
    {
     "name": "stdout",
     "output_type": "stream",
     "text": [
      "Unique Domains: 811\n",
      "Unique Sources: 1048\n"
     ]
    }
   ],
   "source": [
    "print(f\"Unique Domains: {df.domain.unique().size}\")\n",
    "print(f\"Unique Sources: {df.source.unique().size}\")"
   ]
  },
  {
   "cell_type": "code",
   "execution_count": 71,
   "id": "aaf04d85",
   "metadata": {},
   "outputs": [
    {
     "data": {
      "text/html": [
       "<div>\n",
       "<style scoped>\n",
       "    .dataframe tbody tr th:only-of-type {\n",
       "        vertical-align: middle;\n",
       "    }\n",
       "\n",
       "    .dataframe tbody tr th {\n",
       "        vertical-align: top;\n",
       "    }\n",
       "\n",
       "    .dataframe thead th {\n",
       "        text-align: right;\n",
       "    }\n",
       "</style>\n",
       "<table border=\"1\" class=\"dataframe\">\n",
       "  <thead>\n",
       "    <tr style=\"text-align: right;\">\n",
       "      <th></th>\n",
       "      <th>domain</th>\n",
       "      <th>source</th>\n",
       "      <th>count</th>\n",
       "    </tr>\n",
       "  </thead>\n",
       "  <tbody>\n",
       "    <tr>\n",
       "      <th>0</th>\n",
       "      <td>www.nytimes.com</td>\n",
       "      <td>The New York Times</td>\n",
       "      <td>1241</td>\n",
       "    </tr>\n",
       "    <tr>\n",
       "      <th>1</th>\n",
       "      <td>www.cnn.com</td>\n",
       "      <td>CNN.com</td>\n",
       "      <td>952</td>\n",
       "    </tr>\n",
       "    <tr>\n",
       "      <th>2</th>\n",
       "      <td>www.cnn.com</td>\n",
       "      <td>CNN</td>\n",
       "      <td>882</td>\n",
       "    </tr>\n",
       "    <tr>\n",
       "      <th>3</th>\n",
       "      <td>www.washingtonpost.com</td>\n",
       "      <td>Washington Post</td>\n",
       "      <td>822</td>\n",
       "    </tr>\n",
       "    <tr>\n",
       "      <th>4</th>\n",
       "      <td>www.foxnews.com</td>\n",
       "      <td>Fox News</td>\n",
       "      <td>801</td>\n",
       "    </tr>\n",
       "    <tr>\n",
       "      <th>...</th>\n",
       "      <td>...</td>\n",
       "      <td>...</td>\n",
       "      <td>...</td>\n",
       "    </tr>\n",
       "    <tr>\n",
       "      <th>1055</th>\n",
       "      <td>www.wlky.com</td>\n",
       "      <td>WLKY Louisville</td>\n",
       "      <td>1</td>\n",
       "    </tr>\n",
       "    <tr>\n",
       "      <th>1056</th>\n",
       "      <td>chicago.cbslocal.com</td>\n",
       "      <td>CBS Chicago - CBS Local</td>\n",
       "      <td>1</td>\n",
       "    </tr>\n",
       "    <tr>\n",
       "      <th>1057</th>\n",
       "      <td>commercialobserver.com</td>\n",
       "      <td>Commercial Observer</td>\n",
       "      <td>1</td>\n",
       "    </tr>\n",
       "    <tr>\n",
       "      <th>1058</th>\n",
       "      <td>dailynorthwestern.com</td>\n",
       "      <td>The Daily Northwestern</td>\n",
       "      <td>1</td>\n",
       "    </tr>\n",
       "    <tr>\n",
       "      <th>1059</th>\n",
       "      <td>dailyprogress.com</td>\n",
       "      <td>The Daily Progress</td>\n",
       "      <td>1</td>\n",
       "    </tr>\n",
       "  </tbody>\n",
       "</table>\n",
       "<p>1060 rows × 3 columns</p>\n",
       "</div>"
      ],
      "text/plain": [
       "                      domain                   source  count\n",
       "0            www.nytimes.com       The New York Times   1241\n",
       "1                www.cnn.com                  CNN.com    952\n",
       "2                www.cnn.com                      CNN    882\n",
       "3     www.washingtonpost.com          Washington Post    822\n",
       "4            www.foxnews.com                 Fox News    801\n",
       "...                      ...                      ...    ...\n",
       "1055            www.wlky.com          WLKY Louisville      1\n",
       "1056    chicago.cbslocal.com  CBS Chicago - CBS Local      1\n",
       "1057  commercialobserver.com      Commercial Observer      1\n",
       "1058   dailynorthwestern.com   The Daily Northwestern      1\n",
       "1059       dailyprogress.com       The Daily Progress      1\n",
       "\n",
       "[1060 rows x 3 columns]"
      ]
     },
     "execution_count": 71,
     "metadata": {},
     "output_type": "execute_result"
    }
   ],
   "source": [
    "dom_src_counts = df[['domain','source']].value_counts().reset_index(name='count')\n",
    "dom_src_counts"
   ]
  },
  {
   "cell_type": "code",
   "execution_count": 72,
   "id": "3c372bd9",
   "metadata": {},
   "outputs": [
    {
     "data": {
      "text/plain": [
       "domain\n",
       "dailyvoice.com            11\n",
       "www.reuters.com            5\n",
       "www.cnet.com               5\n",
       "www.wsbtv.com              4\n",
       "www.oregonlive.com         4\n",
       "                          ..\n",
       "www.wlky.com               1\n",
       "chicago.cbslocal.com       1\n",
       "commercialobserver.com     1\n",
       "dailynorthwestern.com      1\n",
       "www.republicworld.com      1\n",
       "Name: count, Length: 811, dtype: int64"
      ]
     },
     "execution_count": 72,
     "metadata": {},
     "output_type": "execute_result"
    }
   ],
   "source": [
    "dom_src_counts['domain'].value_counts()#head()"
   ]
  },
  {
   "cell_type": "code",
   "execution_count": 73,
   "id": "11cc57c2",
   "metadata": {},
   "outputs": [
    {
     "data": {
      "text/html": [
       "<div>\n",
       "<style scoped>\n",
       "    .dataframe tbody tr th:only-of-type {\n",
       "        vertical-align: middle;\n",
       "    }\n",
       "\n",
       "    .dataframe tbody tr th {\n",
       "        vertical-align: top;\n",
       "    }\n",
       "\n",
       "    .dataframe thead th {\n",
       "        text-align: right;\n",
       "    }\n",
       "</style>\n",
       "<table border=\"1\" class=\"dataframe\">\n",
       "  <thead>\n",
       "    <tr style=\"text-align: right;\">\n",
       "      <th></th>\n",
       "      <th>domain</th>\n",
       "      <th>source</th>\n",
       "      <th>count</th>\n",
       "    </tr>\n",
       "  </thead>\n",
       "  <tbody>\n",
       "    <tr>\n",
       "      <th>65</th>\n",
       "      <td>dailyvoice.com</td>\n",
       "      <td>Daily Voice</td>\n",
       "      <td>40</td>\n",
       "    </tr>\n",
       "    <tr>\n",
       "      <th>284</th>\n",
       "      <td>dailyvoice.com</td>\n",
       "      <td>Rye Daily Voice</td>\n",
       "      <td>6</td>\n",
       "    </tr>\n",
       "    <tr>\n",
       "      <th>381</th>\n",
       "      <td>dailyvoice.com</td>\n",
       "      <td>Rutherford Daily Voice</td>\n",
       "      <td>4</td>\n",
       "    </tr>\n",
       "    <tr>\n",
       "      <th>389</th>\n",
       "      <td>dailyvoice.com</td>\n",
       "      <td>Mount Pleasant Daily Voice</td>\n",
       "      <td>4</td>\n",
       "    </tr>\n",
       "    <tr>\n",
       "      <th>484</th>\n",
       "      <td>dailyvoice.com</td>\n",
       "      <td>Mamaroneck Daily Voice</td>\n",
       "      <td>2</td>\n",
       "    </tr>\n",
       "    <tr>\n",
       "      <th>602</th>\n",
       "      <td>dailyvoice.com</td>\n",
       "      <td>Ramapo Daily Voice</td>\n",
       "      <td>2</td>\n",
       "    </tr>\n",
       "    <tr>\n",
       "      <th>609</th>\n",
       "      <td>dailyvoice.com</td>\n",
       "      <td>Greenwich Daily Voice</td>\n",
       "      <td>2</td>\n",
       "    </tr>\n",
       "    <tr>\n",
       "      <th>650</th>\n",
       "      <td>dailyvoice.com</td>\n",
       "      <td>Tarrytown Daily Voice</td>\n",
       "      <td>1</td>\n",
       "    </tr>\n",
       "    <tr>\n",
       "      <th>662</th>\n",
       "      <td>dailyvoice.com</td>\n",
       "      <td>Putnam Daily Voice</td>\n",
       "      <td>1</td>\n",
       "    </tr>\n",
       "    <tr>\n",
       "      <th>1006</th>\n",
       "      <td>dailyvoice.com</td>\n",
       "      <td>Hackensack Daily Voice</td>\n",
       "      <td>1</td>\n",
       "    </tr>\n",
       "    <tr>\n",
       "      <th>1044</th>\n",
       "      <td>dailyvoice.com</td>\n",
       "      <td>Garfield Daily Voice</td>\n",
       "      <td>1</td>\n",
       "    </tr>\n",
       "  </tbody>\n",
       "</table>\n",
       "</div>"
      ],
      "text/plain": [
       "              domain                      source  count\n",
       "65    dailyvoice.com                 Daily Voice     40\n",
       "284   dailyvoice.com             Rye Daily Voice      6\n",
       "381   dailyvoice.com      Rutherford Daily Voice      4\n",
       "389   dailyvoice.com  Mount Pleasant Daily Voice      4\n",
       "484   dailyvoice.com      Mamaroneck Daily Voice      2\n",
       "602   dailyvoice.com          Ramapo Daily Voice      2\n",
       "609   dailyvoice.com       Greenwich Daily Voice      2\n",
       "650   dailyvoice.com       Tarrytown Daily Voice      1\n",
       "662   dailyvoice.com          Putnam Daily Voice      1\n",
       "1006  dailyvoice.com      Hackensack Daily Voice      1\n",
       "1044  dailyvoice.com        Garfield Daily Voice      1"
      ]
     },
     "execution_count": 73,
     "metadata": {},
     "output_type": "execute_result"
    }
   ],
   "source": [
    "dom_src_counts[dom_src_counts['domain']=='dailyvoice.com']"
   ]
  },
  {
   "cell_type": "markdown",
   "id": "5b898ac5",
   "metadata": {},
   "source": [
    "**(3)** We see that there are fewer unique domains than unique sources in the data. This may be because multiple news sources use the same domain. The same source may also be labeled with a slightly different names. For example, I notice see that the domain \"www.cnn.com\" is associated with both the source \"CNN.com\" and \"CNN\". When I looked at all the (domain, source) pairs and the number of times each unique domain appeared in these pairs, I found that the \"dailyvoice.com\" domain had the most sources (11) associated with it (Daily Voice, Rye Daily Voice, Rutherford Daily Voice, etc)."
   ]
  },
  {
   "cell_type": "markdown",
   "id": "19540749-cd9c-4278-8c8f-99d1ca80de35",
   "metadata": {},
   "source": [
    "### Focus on unique articles"
   ]
  },
  {
   "cell_type": "markdown",
   "id": "e9c4f648-ae3c-4dfe-a8e9-b27ec555d75d",
   "metadata": {},
   "source": [
    "Let's start by dropping all the rows that have repeating URLs, however, we will first sort the rows, so that they are in the order of publication."
   ]
  },
  {
   "cell_type": "code",
   "execution_count": 74,
   "id": "5d7212ea-8bef-493f-b2be-cd44df5b0033",
   "metadata": {},
   "outputs": [
    {
     "data": {
      "text/html": [
       "<div>\n",
       "<style scoped>\n",
       "    .dataframe tbody tr th:only-of-type {\n",
       "        vertical-align: middle;\n",
       "    }\n",
       "\n",
       "    .dataframe tbody tr th {\n",
       "        vertical-align: top;\n",
       "    }\n",
       "\n",
       "    .dataframe thead th {\n",
       "        text-align: right;\n",
       "    }\n",
       "</style>\n",
       "<table border=\"1\" class=\"dataframe\">\n",
       "  <thead>\n",
       "    <tr style=\"text-align: right;\">\n",
       "      <th></th>\n",
       "      <th>title</th>\n",
       "      <th>url</th>\n",
       "      <th>source</th>\n",
       "      <th>time</th>\n",
       "      <th>date</th>\n",
       "      <th>query</th>\n",
       "      <th>story_position</th>\n",
       "      <th>domain</th>\n",
       "      <th>category</th>\n",
       "      <th>domain2</th>\n",
       "      <th>wordCount</th>\n",
       "    </tr>\n",
       "  </thead>\n",
       "  <tbody>\n",
       "    <tr>\n",
       "      <th>2523</th>\n",
       "      <td>Coronavirus in Massachusetts: 2,730 deaths, 53...</td>\n",
       "      <td>https://www.wwlp.com/news/health/coronavirus-l...</td>\n",
       "      <td>WWLP</td>\n",
       "      <td>5 hours ago</td>\n",
       "      <td>2020-04-25 22:00:00</td>\n",
       "      <td>Covid-19</td>\n",
       "      <td>7</td>\n",
       "      <td>www.wwlp.com</td>\n",
       "      <td>NaN</td>\n",
       "      <td>www.wwlp.com</td>\n",
       "      <td>9</td>\n",
       "    </tr>\n",
       "    <tr>\n",
       "      <th>2545</th>\n",
       "      <td>CDC adds 6 new possible coronavirus symptoms</td>\n",
       "      <td>https://www.ktvq.com/news/coronavirus/cdc-adds...</td>\n",
       "      <td>KTVQ.com</td>\n",
       "      <td>2 hours ago</td>\n",
       "      <td>2020-04-25 22:00:00</td>\n",
       "      <td>coronavirus symptoms</td>\n",
       "      <td>3</td>\n",
       "      <td>www.ktvq.com</td>\n",
       "      <td>NaN</td>\n",
       "      <td>www.ktvq.com</td>\n",
       "      <td>7</td>\n",
       "    </tr>\n",
       "    <tr>\n",
       "      <th>2517</th>\n",
       "      <td>Coronavirus daily news updates, April 25: What...</td>\n",
       "      <td>https://www.seattletimes.com/seattle-news/heal...</td>\n",
       "      <td>The Seattle Times</td>\n",
       "      <td>10 hours ago</td>\n",
       "      <td>2020-04-25 22:00:00</td>\n",
       "      <td>Covid-19</td>\n",
       "      <td>1</td>\n",
       "      <td>www.seattletimes.com</td>\n",
       "      <td>NaN</td>\n",
       "      <td>www.seattletimes.com</td>\n",
       "      <td>21</td>\n",
       "    </tr>\n",
       "    <tr>\n",
       "      <th>2518</th>\n",
       "      <td>The one ritual keeping me sane during Covid-19</td>\n",
       "      <td>https://www.cnn.com/2020/04/25/opinions/covid-...</td>\n",
       "      <td>CNN.com</td>\n",
       "      <td>13 hours ago</td>\n",
       "      <td>2020-04-25 22:00:00</td>\n",
       "      <td>Covid-19</td>\n",
       "      <td>2</td>\n",
       "      <td>www.cnn.com</td>\n",
       "      <td>NaN</td>\n",
       "      <td>www.cnn.com</td>\n",
       "      <td>8</td>\n",
       "    </tr>\n",
       "    <tr>\n",
       "      <th>2519</th>\n",
       "      <td>Dyson Built a New Ventilator to Treat Covid-19...</td>\n",
       "      <td>https://gizmodo.com/dyson-built-a-new-ventilat...</td>\n",
       "      <td>Gizmodo</td>\n",
       "      <td>44 mins ago</td>\n",
       "      <td>2020-04-25 22:00:00</td>\n",
       "      <td>Covid-19</td>\n",
       "      <td>3</td>\n",
       "      <td>gizmodo.com</td>\n",
       "      <td>NaN</td>\n",
       "      <td>gizmodo.com</td>\n",
       "      <td>18</td>\n",
       "    </tr>\n",
       "  </tbody>\n",
       "</table>\n",
       "</div>"
      ],
      "text/plain": [
       "                                                  title  \\\n",
       "2523  Coronavirus in Massachusetts: 2,730 deaths, 53...   \n",
       "2545       CDC adds 6 new possible coronavirus symptoms   \n",
       "2517  Coronavirus daily news updates, April 25: What...   \n",
       "2518     The one ritual keeping me sane during Covid-19   \n",
       "2519  Dyson Built a New Ventilator to Treat Covid-19...   \n",
       "\n",
       "                                                    url             source  \\\n",
       "2523  https://www.wwlp.com/news/health/coronavirus-l...               WWLP   \n",
       "2545  https://www.ktvq.com/news/coronavirus/cdc-adds...           KTVQ.com   \n",
       "2517  https://www.seattletimes.com/seattle-news/heal...  The Seattle Times   \n",
       "2518  https://www.cnn.com/2020/04/25/opinions/covid-...            CNN.com   \n",
       "2519  https://gizmodo.com/dyson-built-a-new-ventilat...            Gizmodo   \n",
       "\n",
       "              time                 date                 query  story_position  \\\n",
       "2523   5 hours ago  2020-04-25 22:00:00              Covid-19               7   \n",
       "2545   2 hours ago  2020-04-25 22:00:00  coronavirus symptoms               3   \n",
       "2517  10 hours ago  2020-04-25 22:00:00              Covid-19               1   \n",
       "2518  13 hours ago  2020-04-25 22:00:00              Covid-19               2   \n",
       "2519   44 mins ago  2020-04-25 22:00:00              Covid-19               3   \n",
       "\n",
       "                    domain category               domain2  wordCount  \n",
       "2523          www.wwlp.com      NaN          www.wwlp.com          9  \n",
       "2545          www.ktvq.com      NaN          www.ktvq.com          7  \n",
       "2517  www.seattletimes.com      NaN  www.seattletimes.com         21  \n",
       "2518           www.cnn.com      NaN           www.cnn.com          8  \n",
       "2519           gizmodo.com      NaN           gizmodo.com         18  "
      ]
     },
     "execution_count": 74,
     "metadata": {},
     "output_type": "execute_result"
    }
   ],
   "source": [
    "df.sort_values(by=['date'], inplace=True)\n",
    "df.head()"
   ]
  },
  {
   "cell_type": "markdown",
   "id": "3c2446cc-6943-4f29-9e32-3d23809a1108",
   "metadata": {},
   "source": [
    "We can see from the indices (they don't start at 0 any longer) that the rows were sorted. Let's drop the duplicate URLs:"
   ]
  },
  {
   "cell_type": "code",
   "execution_count": 75,
   "id": "4f859e80-489f-4a83-abf6-67328e087a19",
   "metadata": {},
   "outputs": [
    {
     "data": {
      "text/plain": [
       "(12265, 11)"
      ]
     },
     "execution_count": 75,
     "metadata": {},
     "output_type": "execute_result"
    }
   ],
   "source": [
    "dfUnique = df.drop_duplicates(subset=['url']) \n",
    "dfUnique.shape"
   ]
  },
  {
   "cell_type": "markdown",
   "id": "1279a44b-7932-4985-9657-0aab7f265e43",
   "metadata": {},
   "source": [
    "I will create a new column, year-month, since the date field is too granular. [**Note**: Read more about this at the end of the notebook.]"
   ]
  },
  {
   "cell_type": "code",
   "execution_count": 76,
   "id": "9e9bb380",
   "metadata": {},
   "outputs": [
    {
     "data": {
      "text/html": [
       "<div>\n",
       "<style scoped>\n",
       "    .dataframe tbody tr th:only-of-type {\n",
       "        vertical-align: middle;\n",
       "    }\n",
       "\n",
       "    .dataframe tbody tr th {\n",
       "        vertical-align: top;\n",
       "    }\n",
       "\n",
       "    .dataframe thead th {\n",
       "        text-align: right;\n",
       "    }\n",
       "</style>\n",
       "<table border=\"1\" class=\"dataframe\">\n",
       "  <thead>\n",
       "    <tr style=\"text-align: right;\">\n",
       "      <th></th>\n",
       "      <th>title</th>\n",
       "      <th>url</th>\n",
       "      <th>source</th>\n",
       "      <th>time</th>\n",
       "      <th>date</th>\n",
       "      <th>query</th>\n",
       "      <th>story_position</th>\n",
       "      <th>domain</th>\n",
       "      <th>category</th>\n",
       "      <th>domain2</th>\n",
       "      <th>wordCount</th>\n",
       "    </tr>\n",
       "  </thead>\n",
       "  <tbody>\n",
       "    <tr>\n",
       "      <th>2523</th>\n",
       "      <td>Coronavirus in Massachusetts: 2,730 deaths, 53...</td>\n",
       "      <td>https://www.wwlp.com/news/health/coronavirus-l...</td>\n",
       "      <td>WWLP</td>\n",
       "      <td>5 hours ago</td>\n",
       "      <td>2020-04-25 22:00:00</td>\n",
       "      <td>Covid-19</td>\n",
       "      <td>7</td>\n",
       "      <td>www.wwlp.com</td>\n",
       "      <td>NaN</td>\n",
       "      <td>www.wwlp.com</td>\n",
       "      <td>9</td>\n",
       "    </tr>\n",
       "    <tr>\n",
       "      <th>2545</th>\n",
       "      <td>CDC adds 6 new possible coronavirus symptoms</td>\n",
       "      <td>https://www.ktvq.com/news/coronavirus/cdc-adds...</td>\n",
       "      <td>KTVQ.com</td>\n",
       "      <td>2 hours ago</td>\n",
       "      <td>2020-04-25 22:00:00</td>\n",
       "      <td>coronavirus symptoms</td>\n",
       "      <td>3</td>\n",
       "      <td>www.ktvq.com</td>\n",
       "      <td>NaN</td>\n",
       "      <td>www.ktvq.com</td>\n",
       "      <td>7</td>\n",
       "    </tr>\n",
       "    <tr>\n",
       "      <th>2517</th>\n",
       "      <td>Coronavirus daily news updates, April 25: What...</td>\n",
       "      <td>https://www.seattletimes.com/seattle-news/heal...</td>\n",
       "      <td>The Seattle Times</td>\n",
       "      <td>10 hours ago</td>\n",
       "      <td>2020-04-25 22:00:00</td>\n",
       "      <td>Covid-19</td>\n",
       "      <td>1</td>\n",
       "      <td>www.seattletimes.com</td>\n",
       "      <td>NaN</td>\n",
       "      <td>www.seattletimes.com</td>\n",
       "      <td>21</td>\n",
       "    </tr>\n",
       "    <tr>\n",
       "      <th>2518</th>\n",
       "      <td>The one ritual keeping me sane during Covid-19</td>\n",
       "      <td>https://www.cnn.com/2020/04/25/opinions/covid-...</td>\n",
       "      <td>CNN.com</td>\n",
       "      <td>13 hours ago</td>\n",
       "      <td>2020-04-25 22:00:00</td>\n",
       "      <td>Covid-19</td>\n",
       "      <td>2</td>\n",
       "      <td>www.cnn.com</td>\n",
       "      <td>NaN</td>\n",
       "      <td>www.cnn.com</td>\n",
       "      <td>8</td>\n",
       "    </tr>\n",
       "    <tr>\n",
       "      <th>2519</th>\n",
       "      <td>Dyson Built a New Ventilator to Treat Covid-19...</td>\n",
       "      <td>https://gizmodo.com/dyson-built-a-new-ventilat...</td>\n",
       "      <td>Gizmodo</td>\n",
       "      <td>44 mins ago</td>\n",
       "      <td>2020-04-25 22:00:00</td>\n",
       "      <td>Covid-19</td>\n",
       "      <td>3</td>\n",
       "      <td>gizmodo.com</td>\n",
       "      <td>NaN</td>\n",
       "      <td>gizmodo.com</td>\n",
       "      <td>18</td>\n",
       "    </tr>\n",
       "  </tbody>\n",
       "</table>\n",
       "</div>"
      ],
      "text/plain": [
       "                                                  title  \\\n",
       "2523  Coronavirus in Massachusetts: 2,730 deaths, 53...   \n",
       "2545       CDC adds 6 new possible coronavirus symptoms   \n",
       "2517  Coronavirus daily news updates, April 25: What...   \n",
       "2518     The one ritual keeping me sane during Covid-19   \n",
       "2519  Dyson Built a New Ventilator to Treat Covid-19...   \n",
       "\n",
       "                                                    url             source  \\\n",
       "2523  https://www.wwlp.com/news/health/coronavirus-l...               WWLP   \n",
       "2545  https://www.ktvq.com/news/coronavirus/cdc-adds...           KTVQ.com   \n",
       "2517  https://www.seattletimes.com/seattle-news/heal...  The Seattle Times   \n",
       "2518  https://www.cnn.com/2020/04/25/opinions/covid-...            CNN.com   \n",
       "2519  https://gizmodo.com/dyson-built-a-new-ventilat...            Gizmodo   \n",
       "\n",
       "              time                 date                 query  story_position  \\\n",
       "2523   5 hours ago  2020-04-25 22:00:00              Covid-19               7   \n",
       "2545   2 hours ago  2020-04-25 22:00:00  coronavirus symptoms               3   \n",
       "2517  10 hours ago  2020-04-25 22:00:00              Covid-19               1   \n",
       "2518  13 hours ago  2020-04-25 22:00:00              Covid-19               2   \n",
       "2519   44 mins ago  2020-04-25 22:00:00              Covid-19               3   \n",
       "\n",
       "                    domain category               domain2  wordCount  \n",
       "2523          www.wwlp.com      NaN          www.wwlp.com          9  \n",
       "2545          www.ktvq.com      NaN          www.ktvq.com          7  \n",
       "2517  www.seattletimes.com      NaN  www.seattletimes.com         21  \n",
       "2518           www.cnn.com      NaN           www.cnn.com          8  \n",
       "2519           gizmodo.com      NaN           gizmodo.com         18  "
      ]
     },
     "execution_count": 76,
     "metadata": {},
     "output_type": "execute_result"
    }
   ],
   "source": [
    "dfUnique.head()"
   ]
  },
  {
   "cell_type": "code",
   "execution_count": 77,
   "id": "1abf2590-90ef-42f3-b01c-3356aa0342bc",
   "metadata": {},
   "outputs": [
    {
     "name": "stderr",
     "output_type": "stream",
     "text": [
      "/var/folders/yl/zl57ck115t9_8v83kxw1gtc40000gn/T/ipykernel_15321/1694280622.py:5: SettingWithCopyWarning: \n",
      "A value is trying to be set on a copy of a slice from a DataFrame.\n",
      "Try using .loc[row_indexer,col_indexer] = value instead\n",
      "\n",
      "See the caveats in the documentation: https://pandas.pydata.org/pandas-docs/stable/user_guide/indexing.html#returning-a-view-versus-a-copy\n",
      "  dfUnique['year-month'] = dfUnique.apply(splitDate, axis=1)\n"
     ]
    },
    {
     "data": {
      "text/html": [
       "<div>\n",
       "<style scoped>\n",
       "    .dataframe tbody tr th:only-of-type {\n",
       "        vertical-align: middle;\n",
       "    }\n",
       "\n",
       "    .dataframe tbody tr th {\n",
       "        vertical-align: top;\n",
       "    }\n",
       "\n",
       "    .dataframe thead th {\n",
       "        text-align: right;\n",
       "    }\n",
       "</style>\n",
       "<table border=\"1\" class=\"dataframe\">\n",
       "  <thead>\n",
       "    <tr style=\"text-align: right;\">\n",
       "      <th></th>\n",
       "      <th>title</th>\n",
       "      <th>url</th>\n",
       "      <th>source</th>\n",
       "      <th>time</th>\n",
       "      <th>date</th>\n",
       "      <th>query</th>\n",
       "      <th>story_position</th>\n",
       "      <th>domain</th>\n",
       "      <th>category</th>\n",
       "      <th>domain2</th>\n",
       "      <th>wordCount</th>\n",
       "      <th>year-month</th>\n",
       "    </tr>\n",
       "  </thead>\n",
       "  <tbody>\n",
       "    <tr>\n",
       "      <th>2523</th>\n",
       "      <td>Coronavirus in Massachusetts: 2,730 deaths, 53...</td>\n",
       "      <td>https://www.wwlp.com/news/health/coronavirus-l...</td>\n",
       "      <td>WWLP</td>\n",
       "      <td>5 hours ago</td>\n",
       "      <td>2020-04-25 22:00:00</td>\n",
       "      <td>Covid-19</td>\n",
       "      <td>7</td>\n",
       "      <td>www.wwlp.com</td>\n",
       "      <td>NaN</td>\n",
       "      <td>www.wwlp.com</td>\n",
       "      <td>9</td>\n",
       "      <td>2020-04</td>\n",
       "    </tr>\n",
       "    <tr>\n",
       "      <th>2545</th>\n",
       "      <td>CDC adds 6 new possible coronavirus symptoms</td>\n",
       "      <td>https://www.ktvq.com/news/coronavirus/cdc-adds...</td>\n",
       "      <td>KTVQ.com</td>\n",
       "      <td>2 hours ago</td>\n",
       "      <td>2020-04-25 22:00:00</td>\n",
       "      <td>coronavirus symptoms</td>\n",
       "      <td>3</td>\n",
       "      <td>www.ktvq.com</td>\n",
       "      <td>NaN</td>\n",
       "      <td>www.ktvq.com</td>\n",
       "      <td>7</td>\n",
       "      <td>2020-04</td>\n",
       "    </tr>\n",
       "    <tr>\n",
       "      <th>2517</th>\n",
       "      <td>Coronavirus daily news updates, April 25: What...</td>\n",
       "      <td>https://www.seattletimes.com/seattle-news/heal...</td>\n",
       "      <td>The Seattle Times</td>\n",
       "      <td>10 hours ago</td>\n",
       "      <td>2020-04-25 22:00:00</td>\n",
       "      <td>Covid-19</td>\n",
       "      <td>1</td>\n",
       "      <td>www.seattletimes.com</td>\n",
       "      <td>NaN</td>\n",
       "      <td>www.seattletimes.com</td>\n",
       "      <td>21</td>\n",
       "      <td>2020-04</td>\n",
       "    </tr>\n",
       "    <tr>\n",
       "      <th>2518</th>\n",
       "      <td>The one ritual keeping me sane during Covid-19</td>\n",
       "      <td>https://www.cnn.com/2020/04/25/opinions/covid-...</td>\n",
       "      <td>CNN.com</td>\n",
       "      <td>13 hours ago</td>\n",
       "      <td>2020-04-25 22:00:00</td>\n",
       "      <td>Covid-19</td>\n",
       "      <td>2</td>\n",
       "      <td>www.cnn.com</td>\n",
       "      <td>NaN</td>\n",
       "      <td>www.cnn.com</td>\n",
       "      <td>8</td>\n",
       "      <td>2020-04</td>\n",
       "    </tr>\n",
       "    <tr>\n",
       "      <th>2519</th>\n",
       "      <td>Dyson Built a New Ventilator to Treat Covid-19...</td>\n",
       "      <td>https://gizmodo.com/dyson-built-a-new-ventilat...</td>\n",
       "      <td>Gizmodo</td>\n",
       "      <td>44 mins ago</td>\n",
       "      <td>2020-04-25 22:00:00</td>\n",
       "      <td>Covid-19</td>\n",
       "      <td>3</td>\n",
       "      <td>gizmodo.com</td>\n",
       "      <td>NaN</td>\n",
       "      <td>gizmodo.com</td>\n",
       "      <td>18</td>\n",
       "      <td>2020-04</td>\n",
       "    </tr>\n",
       "  </tbody>\n",
       "</table>\n",
       "</div>"
      ],
      "text/plain": [
       "                                                  title  \\\n",
       "2523  Coronavirus in Massachusetts: 2,730 deaths, 53...   \n",
       "2545       CDC adds 6 new possible coronavirus symptoms   \n",
       "2517  Coronavirus daily news updates, April 25: What...   \n",
       "2518     The one ritual keeping me sane during Covid-19   \n",
       "2519  Dyson Built a New Ventilator to Treat Covid-19...   \n",
       "\n",
       "                                                    url             source  \\\n",
       "2523  https://www.wwlp.com/news/health/coronavirus-l...               WWLP   \n",
       "2545  https://www.ktvq.com/news/coronavirus/cdc-adds...           KTVQ.com   \n",
       "2517  https://www.seattletimes.com/seattle-news/heal...  The Seattle Times   \n",
       "2518  https://www.cnn.com/2020/04/25/opinions/covid-...            CNN.com   \n",
       "2519  https://gizmodo.com/dyson-built-a-new-ventilat...            Gizmodo   \n",
       "\n",
       "              time                 date                 query  story_position  \\\n",
       "2523   5 hours ago  2020-04-25 22:00:00              Covid-19               7   \n",
       "2545   2 hours ago  2020-04-25 22:00:00  coronavirus symptoms               3   \n",
       "2517  10 hours ago  2020-04-25 22:00:00              Covid-19               1   \n",
       "2518  13 hours ago  2020-04-25 22:00:00              Covid-19               2   \n",
       "2519   44 mins ago  2020-04-25 22:00:00              Covid-19               3   \n",
       "\n",
       "                    domain category               domain2  wordCount  \\\n",
       "2523          www.wwlp.com      NaN          www.wwlp.com          9   \n",
       "2545          www.ktvq.com      NaN          www.ktvq.com          7   \n",
       "2517  www.seattletimes.com      NaN  www.seattletimes.com         21   \n",
       "2518           www.cnn.com      NaN           www.cnn.com          8   \n",
       "2519           gizmodo.com      NaN           gizmodo.com         18   \n",
       "\n",
       "     year-month  \n",
       "2523    2020-04  \n",
       "2545    2020-04  \n",
       "2517    2020-04  \n",
       "2518    2020-04  \n",
       "2519    2020-04  "
      ]
     },
     "execution_count": 77,
     "metadata": {},
     "output_type": "execute_result"
    }
   ],
   "source": [
    "def splitDate(row):\n",
    "    \"\"\"return a date in the format YYYY-MM\"\"\"\n",
    "    return row['date'][:7] \n",
    "\n",
    "dfUnique['year-month'] = dfUnique.apply(splitDate, axis=1)\n",
    "dfUnique.head()"
   ]
  },
  {
   "cell_type": "markdown",
   "id": "f713f273-1709-47d9-89a0-f79267b64eaa",
   "metadata": {},
   "source": [
    "**Important Note:** When running the cell above, some of you might have received the following warning:  \n",
    "A value is trying to be set on a copy of a slice from a DataFrame.\n",
    "\n",
    "When we run the statement `dfUnique = df.drop_duplicates(subset=['url'])` we intended to create a new dataframe. However, pandas warns us because it can't guarantee that dfUnique isn't sharing data with df under the hood due to its optimizations. The longer explanation is that pandas sometimes uses views internally to optimize memory usage. When we perform an operation that could be ambiguous, such as modifying a DataFrame that could potentially be a view of another DataFrame, pandas issues a warning.\n",
    "\n",
    "If we don't want the warning to show, we should explicitely tell pandas make a new copy:\n",
    "\n",
    "`dfUnique = df.drop_duplicates(subset=['url']).copy()`"
   ]
  },
  {
   "cell_type": "markdown",
   "id": "50ffef6f-19bf-4c70-bd42-fb70b99ff4fa",
   "metadata": {},
   "source": [
    "### Pivot Table: counting articles per query\n",
    "\n",
    "Now that each row has a month value, we can create a pivot table to count how many times a query showed in each month."
   ]
  },
  {
   "cell_type": "code",
   "execution_count": 78,
   "id": "f5087619-e887-4a74-aabf-a49466b87390",
   "metadata": {},
   "outputs": [
    {
     "data": {
      "text/html": [
       "<div>\n",
       "<style scoped>\n",
       "    .dataframe tbody tr th:only-of-type {\n",
       "        vertical-align: middle;\n",
       "    }\n",
       "\n",
       "    .dataframe tbody tr th {\n",
       "        vertical-align: top;\n",
       "    }\n",
       "\n",
       "    .dataframe thead th {\n",
       "        text-align: right;\n",
       "    }\n",
       "</style>\n",
       "<table border=\"1\" class=\"dataframe\">\n",
       "  <thead>\n",
       "    <tr style=\"text-align: right;\">\n",
       "      <th>year-month</th>\n",
       "      <th>2020-04</th>\n",
       "      <th>2020-05</th>\n",
       "      <th>2020-06</th>\n",
       "      <th>2020-07</th>\n",
       "      <th>2020-08</th>\n",
       "      <th>2020-09</th>\n",
       "      <th>2020-10</th>\n",
       "      <th>2020-11</th>\n",
       "      <th>2020-12</th>\n",
       "      <th>2021-01</th>\n",
       "      <th>2021-02</th>\n",
       "    </tr>\n",
       "    <tr>\n",
       "      <th>query</th>\n",
       "      <th></th>\n",
       "      <th></th>\n",
       "      <th></th>\n",
       "      <th></th>\n",
       "      <th></th>\n",
       "      <th></th>\n",
       "      <th></th>\n",
       "      <th></th>\n",
       "      <th></th>\n",
       "      <th></th>\n",
       "      <th></th>\n",
       "    </tr>\n",
       "  </thead>\n",
       "  <tbody>\n",
       "    <tr>\n",
       "      <th>Anthony Fauci</th>\n",
       "      <td>0</td>\n",
       "      <td>175</td>\n",
       "      <td>303</td>\n",
       "      <td>321</td>\n",
       "      <td>156</td>\n",
       "      <td>220</td>\n",
       "      <td>274</td>\n",
       "      <td>228</td>\n",
       "      <td>204</td>\n",
       "      <td>217</td>\n",
       "      <td>58</td>\n",
       "    </tr>\n",
       "    <tr>\n",
       "      <th>Covid-19</th>\n",
       "      <td>102</td>\n",
       "      <td>532</td>\n",
       "      <td>527</td>\n",
       "      <td>472</td>\n",
       "      <td>342</td>\n",
       "      <td>416</td>\n",
       "      <td>485</td>\n",
       "      <td>457</td>\n",
       "      <td>401</td>\n",
       "      <td>434</td>\n",
       "      <td>125</td>\n",
       "    </tr>\n",
       "    <tr>\n",
       "      <th>coronavirus</th>\n",
       "      <td>94</td>\n",
       "      <td>506</td>\n",
       "      <td>492</td>\n",
       "      <td>449</td>\n",
       "      <td>327</td>\n",
       "      <td>399</td>\n",
       "      <td>439</td>\n",
       "      <td>420</td>\n",
       "      <td>382</td>\n",
       "      <td>378</td>\n",
       "      <td>107</td>\n",
       "    </tr>\n",
       "    <tr>\n",
       "      <th>coronavirus symptoms</th>\n",
       "      <td>55</td>\n",
       "      <td>99</td>\n",
       "      <td>98</td>\n",
       "      <td>97</td>\n",
       "      <td>76</td>\n",
       "      <td>84</td>\n",
       "      <td>98</td>\n",
       "      <td>77</td>\n",
       "      <td>80</td>\n",
       "      <td>95</td>\n",
       "      <td>25</td>\n",
       "    </tr>\n",
       "    <tr>\n",
       "      <th>coronavirus test</th>\n",
       "      <td>43</td>\n",
       "      <td>141</td>\n",
       "      <td>86</td>\n",
       "      <td>55</td>\n",
       "      <td>73</td>\n",
       "      <td>111</td>\n",
       "      <td>126</td>\n",
       "      <td>105</td>\n",
       "      <td>87</td>\n",
       "      <td>91</td>\n",
       "      <td>21</td>\n",
       "    </tr>\n",
       "  </tbody>\n",
       "</table>\n",
       "</div>"
      ],
      "text/plain": [
       "year-month            2020-04  2020-05  2020-06  2020-07  2020-08  2020-09  \\\n",
       "query                                                                        \n",
       "Anthony Fauci               0      175      303      321      156      220   \n",
       "Covid-19                  102      532      527      472      342      416   \n",
       "coronavirus                94      506      492      449      327      399   \n",
       "coronavirus symptoms       55       99       98       97       76       84   \n",
       "coronavirus test           43      141       86       55       73      111   \n",
       "\n",
       "year-month            2020-10  2020-11  2020-12  2021-01  2021-02  \n",
       "query                                                              \n",
       "Anthony Fauci             274      228      204      217       58  \n",
       "Covid-19                  485      457      401      434      125  \n",
       "coronavirus               439      420      382      378      107  \n",
       "coronavirus symptoms       98       77       80       95       25  \n",
       "coronavirus test          126      105       87       91       21  "
      ]
     },
     "execution_count": 78,
     "metadata": {},
     "output_type": "execute_result"
    }
   ],
   "source": [
    "queryMonthDF = dfUnique.pivot_table(index=\"query\", \n",
    "                                    columns=\"year-month\", \n",
    "                                    aggfunc=\"size\", \n",
    "                                    fill_value=0)\n",
    "queryMonthDF.head()"
   ]
  },
  {
   "cell_type": "markdown",
   "id": "4eb12338-b7e2-4520-bbf0-c90d7299774b",
   "metadata": {},
   "source": [
    "Let's validate that all articles are shown in this table:"
   ]
  },
  {
   "cell_type": "code",
   "execution_count": 79,
   "id": "abaabb0e-cc69-43a8-8b6d-3f9e1b3102a1",
   "metadata": {},
   "outputs": [
    {
     "data": {
      "text/plain": [
       "12265"
      ]
     },
     "execution_count": 79,
     "metadata": {},
     "output_type": "execute_result"
    }
   ],
   "source": [
    "queryMonthDF.sum().sum()"
   ]
  },
  {
   "cell_type": "markdown",
   "id": "a5e45c16-2902-4101-8cae-266681fde636",
   "metadata": {},
   "source": [
    "It's looks right!"
   ]
  },
  {
   "cell_type": "markdown",
   "id": "f387669c-97c7-4c51-ac20-5b1118631179",
   "metadata": {},
   "source": [
    "### Generate the time series plot\n",
    "\n",
    "There are many ways to create a time series plot. Because I gave you this task before you had seen pandas timeseries, below I will show how to create the plot using linebars. There are two ways to do this.\n",
    "\n",
    "**Soution 1: Plot line bars with a for loop**\n",
    "\n",
    "Because the table we created above is a pivot table, also known as a \"wide table\" (different from the \"tidy table\"), seaborn doesn't know how to work with it directly, so we have to generate each line within a for loop. "
   ]
  },
  {
   "cell_type": "code",
   "execution_count": 80,
   "id": "53ea12fd-70e5-425e-bc9f-12d490b19552",
   "metadata": {},
   "outputs": [
    {
     "data": {
      "image/png": "[encoded data removed]",
      "text/plain": [
       "<Figure size 1000x400 with 1 Axes>"
      ]
     },
     "metadata": {},
     "output_type": "display_data"
    }
   ],
   "source": [
    "plt.figure(figsize=(10, 4))\n",
    "plt.style.use('fivethirtyeight')\n",
    "\n",
    "# Iterate over each row to plot\n",
    "for index, row in queryMonthDF.iterrows():\n",
    "    sns.lineplot(x=queryMonthDF.columns,  # the year-month values\n",
    "                 y=row.values,  # the counts for each query\n",
    "                 label=index, # this will be the query values\n",
    "                 lw=3)\n",
    "\n",
    "# Change the parameters of the current axes (plot) to deal with the font size\n",
    "plt.xticks(rotation=45) # Rotate dates\n",
    "plt.ylabel('Article count', fontsize=10)\n",
    "plt.xlabel('Year-Month', fontsize=10)\n",
    "plt.xticks(fontsize=10)\n",
    "plt.yticks(fontsize=10)\n",
    "plt.title('Number of unique articles by query', fontsize=12)\n",
    "plt.legend(title='Query', fontsize=10, loc=\"upper right\", title_fontsize=12)\n",
    "\n",
    "plt.show()"
   ]
  },
  {
   "cell_type": "markdown",
   "id": "e935dc1a-8d8d-456c-ac48-25dd323ea2d8",
   "metadata": {},
   "source": [
    "**Solution 2: Wide table vs. long table**\n",
    "\n",
    "We mentioned that the `pivot_table` method creates a **wide format table**. Seaborn prefers to work with a **long format table** (we called it the tidy data).  \n",
    "Thus, we will convert the wide table to a long table.\n",
    "\n",
    "First, let's look again at our wide-format table:"
   ]
  },
  {
   "cell_type": "code",
   "execution_count": 81,
   "id": "21f13166-94bf-4ebe-b22b-8bda6bd5fae6",
   "metadata": {},
   "outputs": [
    {
     "data": {
      "text/html": [
       "<div>\n",
       "<style scoped>\n",
       "    .dataframe tbody tr th:only-of-type {\n",
       "        vertical-align: middle;\n",
       "    }\n",
       "\n",
       "    .dataframe tbody tr th {\n",
       "        vertical-align: top;\n",
       "    }\n",
       "\n",
       "    .dataframe thead th {\n",
       "        text-align: right;\n",
       "    }\n",
       "</style>\n",
       "<table border=\"1\" class=\"dataframe\">\n",
       "  <thead>\n",
       "    <tr style=\"text-align: right;\">\n",
       "      <th>year-month</th>\n",
       "      <th>2020-04</th>\n",
       "      <th>2020-05</th>\n",
       "      <th>2020-06</th>\n",
       "      <th>2020-07</th>\n",
       "      <th>2020-08</th>\n",
       "      <th>2020-09</th>\n",
       "      <th>2020-10</th>\n",
       "      <th>2020-11</th>\n",
       "      <th>2020-12</th>\n",
       "      <th>2021-01</th>\n",
       "      <th>2021-02</th>\n",
       "    </tr>\n",
       "    <tr>\n",
       "      <th>query</th>\n",
       "      <th></th>\n",
       "      <th></th>\n",
       "      <th></th>\n",
       "      <th></th>\n",
       "      <th></th>\n",
       "      <th></th>\n",
       "      <th></th>\n",
       "      <th></th>\n",
       "      <th></th>\n",
       "      <th></th>\n",
       "      <th></th>\n",
       "    </tr>\n",
       "  </thead>\n",
       "  <tbody>\n",
       "    <tr>\n",
       "      <th>Anthony Fauci</th>\n",
       "      <td>0</td>\n",
       "      <td>175</td>\n",
       "      <td>303</td>\n",
       "      <td>321</td>\n",
       "      <td>156</td>\n",
       "      <td>220</td>\n",
       "      <td>274</td>\n",
       "      <td>228</td>\n",
       "      <td>204</td>\n",
       "      <td>217</td>\n",
       "      <td>58</td>\n",
       "    </tr>\n",
       "    <tr>\n",
       "      <th>Covid-19</th>\n",
       "      <td>102</td>\n",
       "      <td>532</td>\n",
       "      <td>527</td>\n",
       "      <td>472</td>\n",
       "      <td>342</td>\n",
       "      <td>416</td>\n",
       "      <td>485</td>\n",
       "      <td>457</td>\n",
       "      <td>401</td>\n",
       "      <td>434</td>\n",
       "      <td>125</td>\n",
       "    </tr>\n",
       "    <tr>\n",
       "      <th>coronavirus</th>\n",
       "      <td>94</td>\n",
       "      <td>506</td>\n",
       "      <td>492</td>\n",
       "      <td>449</td>\n",
       "      <td>327</td>\n",
       "      <td>399</td>\n",
       "      <td>439</td>\n",
       "      <td>420</td>\n",
       "      <td>382</td>\n",
       "      <td>378</td>\n",
       "      <td>107</td>\n",
       "    </tr>\n",
       "    <tr>\n",
       "      <th>coronavirus symptoms</th>\n",
       "      <td>55</td>\n",
       "      <td>99</td>\n",
       "      <td>98</td>\n",
       "      <td>97</td>\n",
       "      <td>76</td>\n",
       "      <td>84</td>\n",
       "      <td>98</td>\n",
       "      <td>77</td>\n",
       "      <td>80</td>\n",
       "      <td>95</td>\n",
       "      <td>25</td>\n",
       "    </tr>\n",
       "    <tr>\n",
       "      <th>coronavirus test</th>\n",
       "      <td>43</td>\n",
       "      <td>141</td>\n",
       "      <td>86</td>\n",
       "      <td>55</td>\n",
       "      <td>73</td>\n",
       "      <td>111</td>\n",
       "      <td>126</td>\n",
       "      <td>105</td>\n",
       "      <td>87</td>\n",
       "      <td>91</td>\n",
       "      <td>21</td>\n",
       "    </tr>\n",
       "  </tbody>\n",
       "</table>\n",
       "</div>"
      ],
      "text/plain": [
       "year-month            2020-04  2020-05  2020-06  2020-07  2020-08  2020-09  \\\n",
       "query                                                                        \n",
       "Anthony Fauci               0      175      303      321      156      220   \n",
       "Covid-19                  102      532      527      472      342      416   \n",
       "coronavirus                94      506      492      449      327      399   \n",
       "coronavirus symptoms       55       99       98       97       76       84   \n",
       "coronavirus test           43      141       86       55       73      111   \n",
       "\n",
       "year-month            2020-10  2020-11  2020-12  2021-01  2021-02  \n",
       "query                                                              \n",
       "Anthony Fauci             274      228      204      217       58  \n",
       "Covid-19                  485      457      401      434      125  \n",
       "coronavirus               439      420      382      378      107  \n",
       "coronavirus symptoms       98       77       80       95       25  \n",
       "coronavirus test          126      105       87       91       21  "
      ]
     },
     "execution_count": 81,
     "metadata": {},
     "output_type": "execute_result"
    }
   ],
   "source": [
    "queryMonthDF"
   ]
  },
  {
   "cell_type": "markdown",
   "id": "706f922d-02de-43bc-9244-d79b827d5245",
   "metadata": {},
   "source": [
    "Notice that the first column, query, is also serving as an index column. Eventually, what we want is to **unpivot** this table and create a table that looks like this:\n",
    "\n",
    "```\n",
    "query year-month count\n",
    "Anthony Fauci 2020-04 0\n",
    "Anthony Fauci 2020-05 175\n",
    "Anthony Fauci 2020-06 304\n",
    "...\n",
    "Covid-19 2020-04 102\n",
    "Covid-19 2020-04 531\n",
    "...\n",
    "```\n",
    "\n",
    "That is from a table that now has 11 colums x 5 rows, we want a table with 3 columns and 55 rows (from wide to long).\n",
    "\n",
    "The method `melt` below will perform this:"
   ]
  },
  {
   "cell_type": "code",
   "execution_count": 82,
   "id": "ba4cf817-b71b-46c7-9d71-a46517a588ff",
   "metadata": {},
   "outputs": [
    {
     "data": {
      "text/html": [
       "<div>\n",
       "<style scoped>\n",
       "    .dataframe tbody tr th:only-of-type {\n",
       "        vertical-align: middle;\n",
       "    }\n",
       "\n",
       "    .dataframe tbody tr th {\n",
       "        vertical-align: top;\n",
       "    }\n",
       "\n",
       "    .dataframe thead th {\n",
       "        text-align: right;\n",
       "    }\n",
       "</style>\n",
       "<table border=\"1\" class=\"dataframe\">\n",
       "  <thead>\n",
       "    <tr style=\"text-align: right;\">\n",
       "      <th></th>\n",
       "      <th>query</th>\n",
       "      <th>year-month</th>\n",
       "      <th>count</th>\n",
       "    </tr>\n",
       "  </thead>\n",
       "  <tbody>\n",
       "    <tr>\n",
       "      <th>0</th>\n",
       "      <td>Anthony Fauci</td>\n",
       "      <td>2020-04</td>\n",
       "      <td>0</td>\n",
       "    </tr>\n",
       "    <tr>\n",
       "      <th>1</th>\n",
       "      <td>Covid-19</td>\n",
       "      <td>2020-04</td>\n",
       "      <td>102</td>\n",
       "    </tr>\n",
       "    <tr>\n",
       "      <th>2</th>\n",
       "      <td>coronavirus</td>\n",
       "      <td>2020-04</td>\n",
       "      <td>94</td>\n",
       "    </tr>\n",
       "    <tr>\n",
       "      <th>3</th>\n",
       "      <td>coronavirus symptoms</td>\n",
       "      <td>2020-04</td>\n",
       "      <td>55</td>\n",
       "    </tr>\n",
       "    <tr>\n",
       "      <th>4</th>\n",
       "      <td>coronavirus test</td>\n",
       "      <td>2020-04</td>\n",
       "      <td>43</td>\n",
       "    </tr>\n",
       "  </tbody>\n",
       "</table>\n",
       "</div>"
      ],
      "text/plain": [
       "                  query year-month  count\n",
       "0         Anthony Fauci    2020-04      0\n",
       "1              Covid-19    2020-04    102\n",
       "2           coronavirus    2020-04     94\n",
       "3  coronavirus symptoms    2020-04     55\n",
       "4      coronavirus test    2020-04     43"
      ]
     },
     "execution_count": 82,
     "metadata": {},
     "output_type": "execute_result"
    }
   ],
   "source": [
    "dfLongTab = queryMonthDF.reset_index().melt(id_vars='query',  # column that remains an \"identifier\" column, will not be melted\n",
    "                                          var_name='year-month', # name for variable column created after the melting (this contains names of melted columns)\n",
    "                                          value_name='count') # column created after melting (contains values of melted columns)\n",
    "dfLongTab.head()"
   ]
  },
  {
   "cell_type": "markdown",
   "id": "6026ecd2-ba54-4d99-a608-b8c0d815b536",
   "metadata": {},
   "source": [
    "Let's check the shape of the created dataframe. "
   ]
  },
  {
   "cell_type": "code",
   "execution_count": 83,
   "id": "f7d308b1-9724-40a8-8df6-70dccd73f5ba",
   "metadata": {},
   "outputs": [
    {
     "data": {
      "text/plain": [
       "(55, 3)"
      ]
     },
     "execution_count": 83,
     "metadata": {},
     "output_type": "execute_result"
    }
   ],
   "source": [
    "dfLongTab.shape"
   ]
  },
  {
   "cell_type": "markdown",
   "id": "69bf1b20-51d5-4550-afad-f4ffdc3065b1",
   "metadata": {},
   "source": [
    "It's exactly what we expected!\n",
    "\n",
    "Now that we have the data in the desired format, we can do the plotting without having to use a for loop to iterate through the lines, seaborn will do that itself."
   ]
  },
  {
   "cell_type": "code",
   "execution_count": 84,
   "id": "9821448c-01c1-4d5f-afd9-3cb6e1db2e74",
   "metadata": {},
   "outputs": [
    {
     "data": {
      "image/png": "[encoded data removed]",
      "text/plain": [
       "<Figure size 1000x400 with 1 Axes>"
      ]
     },
     "metadata": {},
     "output_type": "display_data"
    }
   ],
   "source": [
    "plt.figure(figsize=(10, 4))\n",
    "plt.style.use('fivethirtyeight')\n",
    "\n",
    "sns.lineplot(data=dfLongTab, \n",
    "             x='year-month', \n",
    "             y='count', \n",
    "             hue='query', lw=3)\n",
    "\n",
    "# Change the parameters of the current axes (plot) to deal with the font size\n",
    "plt.xticks(rotation=45) # Rotate dates\n",
    "plt.ylabel('Article count', fontsize=10)\n",
    "plt.xlabel('Year-Month', fontsize=10)\n",
    "plt.xticks(fontsize=10)\n",
    "plt.yticks(fontsize=10)\n",
    "plt.title('Number of unique articles by query', fontsize=12)\n",
    "plt.legend(title='Query', fontsize=10, loc=\"upper right\", title_fontsize=12)\n",
    "\n",
    "plt.show()"
   ]
  },
  {
   "cell_type": "markdown",
   "id": "9db950fe-1854-4f94-83bf-747206660c77",
   "metadata": {},
   "source": [
    "Notice that we produced the same graph but with two different starting dataframes and code for generating the lines. "
   ]
  },
  {
   "cell_type": "markdown",
   "id": "7b252265-29f9-4d94-8be1-531000074e95",
   "metadata": {},
   "source": [
    "**Your Task: Plot each month**\n",
    "\n",
    "Using the code above, create two functions:\n",
    "1. Create a function that given a year-month value, for example: \"2020-05\", prepares the dataframe that contains the \"month-day\" counts of the unique articles for each query.\n",
    "2. Create a function that can take the output from point 1) and plot the lineplot.\n",
    "\n",
    "Excecute these functions for at least two dates."
   ]
  },
  {
   "cell_type": "code",
   "execution_count": 85,
   "id": "b91fcd65",
   "metadata": {},
   "outputs": [],
   "source": [
    "def getMonthDay(row):\n",
    "    \"\"\"return a date in the format MM-DD\"\"\"\n",
    "    return row['date'][5:10] "
   ]
  },
  {
   "cell_type": "code",
   "execution_count": 86,
   "id": "b3747600-a7d3-4fd3-a69e-a39406d77ed0",
   "metadata": {},
   "outputs": [
    {
     "name": "stderr",
     "output_type": "stream",
     "text": [
      "/var/folders/yl/zl57ck115t9_8v83kxw1gtc40000gn/T/ipykernel_15321/160493923.py:1: SettingWithCopyWarning: \n",
      "A value is trying to be set on a copy of a slice from a DataFrame.\n",
      "Try using .loc[row_indexer,col_indexer] = value instead\n",
      "\n",
      "See the caveats in the documentation: https://pandas.pydata.org/pandas-docs/stable/user_guide/indexing.html#returning-a-view-versus-a-copy\n",
      "  dfUnique['year-month'] = dfUnique.apply(splitDate, axis=1)\n"
     ]
    }
   ],
   "source": [
    "\n",
    "dfUnique['year-month'] = dfUnique.apply(splitDate, axis=1)\n",
    "\n",
    "def getMonthDayCounts(yearMonth):\n",
    "    df.sort_values(by=['date'], inplace=True)\n",
    "    dfUnique = df.drop_duplicates(subset=['url']) \n",
    "    \n",
    "    dfUnique['month-day'] = dfUnique.apply(getMonthDay)"
   ]
  }
 ],
 "metadata": {
  "kernelspec": {
   "display_name": "Python 3 (ipykernel)",
   "language": "python",
   "name": "python3"
  },
  "language_info": {
   "codemirror_mode": {
    "name": "ipython",
    "version": 3
   },
   "file_extension": ".py",
   "mimetype": "text/x-python",
   "name": "python",
   "nbconvert_exporter": "python",
   "pygments_lexer": "ipython3",
   "version": "3.10.8"
  }
 },
 "nbformat": 4,
 "nbformat_minor": 5
}
