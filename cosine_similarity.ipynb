{
 "cells": [
  {
   "cell_type": "markdown",
   "id": "bb5678fa",
   "metadata": {},
   "source": [
    "# Cosine Similarity\n",
    "CS315: Data Science for the Web  \n",
    "Professor Eni Mustafaraj  \n",
    "[Day 11 Slide 13](https://docs.google.com/presentation/d/1YrrYSZpmCpHepTcDQMF0s22CqyMZuw3vo801bXnRUZc/edit#slide=id.g63da1a4385_0_0)  \n",
    "Edith Po  "
   ]
  },
  {
   "cell_type": "code",
   "execution_count": 44,
   "id": "e3f1f623",
   "metadata": {},
   "outputs": [],
   "source": [
    "import pandas as pd\n",
    "import numpy as np\n",
    "from numpy.linalg import norm\n",
    "import string\n",
    "import seaborn as sns \n",
    "import matplotlib.pyplot as plt"
   ]
  },
  {
   "cell_type": "markdown",
   "id": "df584c8b",
   "metadata": {},
   "source": [
    "## Cosine Similarity Algorithm"
   ]
  },
  {
   "cell_type": "markdown",
   "id": "9c7d40d6",
   "metadata": {},
   "source": [
    "Step 1: Create the vocabulary of all unique terms"
   ]
  },
  {
   "cell_type": "code",
   "execution_count": 7,
   "id": "66093f60",
   "metadata": {},
   "outputs": [],
   "source": [
    "lst = ['a','b','c']\n",
    "lst.remove('a')"
   ]
  },
  {
   "cell_type": "code",
   "execution_count": 8,
   "id": "389ab8a1",
   "metadata": {},
   "outputs": [],
   "source": [
    "def create_vocab(text):\n",
    "    '''Create the vocabulary of all unique terms'''\n",
    "    clean_text = \"\"\n",
    "    for char in text:\n",
    "        if char not in string.punctuation:\n",
    "            clean_text += char.lower()\n",
    "    \n",
    "    voc = set(clean_text.split())\n",
    "    return voc"
   ]
  },
  {
   "cell_type": "markdown",
   "id": "97a0ee15",
   "metadata": {},
   "source": [
    "Step 2: Represent each document and the query in the vector space created by these terms"
   ]
  },
  {
   "cell_type": "code",
   "execution_count": 9,
   "id": "67750408",
   "metadata": {},
   "outputs": [],
   "source": [
    "def create_vector(text,voc):\n",
    "    '''\n",
    "    Given a text and a vocabulary, represent the text as a vector.\n",
    "    The vector contains the count of each vocabulary word in the text.\n",
    "    '''\n",
    "    clean_text = \"\"\n",
    "    for char in text:\n",
    "        if char not in string.punctuation:\n",
    "            clean_text += char.lower()\n",
    "    words = clean_text.split()\n",
    "    vec = [words.count(v) for v in voc]\n",
    "    return vec"
   ]
  },
  {
   "cell_type": "markdown",
   "id": "070119b0",
   "metadata": {},
   "source": [
    "Step 3: Calculate the cosine similarity between the query and each document"
   ]
  },
  {
   "cell_type": "code",
   "execution_count": 10,
   "id": "066165c4",
   "metadata": {},
   "outputs": [],
   "source": [
    "def cosine_similarity(vec1, vec2):\n",
    "    '''Calculate the cosine similarity between two vectors.'''\n",
    "    v1 = np.array(vec1)\n",
    "    v2 = np.array(vec2)\n",
    "    \n",
    "    cosine = np.dot(v1,v2)/(norm(v1)*norm(v2))\n",
    "    return cosine"
   ]
  },
  {
   "cell_type": "markdown",
   "id": "b3efd4a7",
   "metadata": {},
   "source": [
    "Step 4: Rank the results based on the cosine similarity"
   ]
  },
  {
   "cell_type": "code",
   "execution_count": 11,
   "id": "cbdcbfad",
   "metadata": {},
   "outputs": [],
   "source": [
    "def rank_by_similarity(query,sentences):\n",
    "    # Create vocabulary\n",
    "    all_words = \" \".join(sentences)\n",
    "    voc = create_vocab(all_words)\n",
    "\n",
    "    # Convert query to vector\n",
    "    query_vec = create_vector(query, voc)\n",
    "\n",
    "    # Get cosine similarity between query and each sentence\n",
    "    similarities = []\n",
    "    for sent in sentences:\n",
    "        sent_vec = create_vector(sent,voc)\n",
    "        similarity = cosine_similarity(query_vec,sent_vec)\n",
    "        similarities.append((similarity, sent))\n",
    "        \n",
    "    # Sort the similarities\n",
    "    return sorted(similarities,reverse=True)"
   ]
  },
  {
   "cell_type": "markdown",
   "id": "535e924b",
   "metadata": {},
   "source": [
    "## Applying the Cosine Similarity Algorithm"
   ]
  },
  {
   "cell_type": "code",
   "execution_count": 14,
   "id": "1b91b5a2",
   "metadata": {},
   "outputs": [
    {
     "data": {
      "text/plain": [
       "[(0.5897678246195885,\n",
       "  'the red dress in the photo resembles the red dress she is wearing'),\n",
       " (0.5345224838248487, 'the dress has a red wine stain'),\n",
       " (0.5345224838248487, 'she wore a dress and red earrings'),\n",
       " (0.4999999999999999, 'tomorrow I will wear my new red dress'),\n",
       " (0.4999999999999999, 'short dress'),\n",
       " (0.4999999999999999, 'red lipstick')]"
      ]
     },
     "execution_count": 14,
     "metadata": {},
     "output_type": "execute_result"
    }
   ],
   "source": [
    "q = \"red dress\"\n",
    "\n",
    "sentences = [\n",
    "\"she wore a dress and red earrings\",\n",
    "\"the dress has a red wine stain\",\n",
    "\"tomorrow I will wear my new red dress\",\n",
    "\"the red dress in the photo resembles the red dress she is wearing\",\n",
    "\"short dress\",\n",
    "\"red lipstick\"\n",
    "]\n",
    "\n",
    "rank_by_similarity(q,sentences)"
   ]
  },
  {
   "cell_type": "code",
   "execution_count": 15,
   "id": "1c7aec71",
   "metadata": {},
   "outputs": [],
   "source": [
    "spring = [\"As spring unfolds, the warmth of the season encourages the first blossoms to open, signaling longer days ahead.\",\n",
    "\"Spring brings not only blooming flowers but also the anticipation of sunny days and outdoor activities.\",\n",
    "\"With the arrival of spring, people begin planning their summer vacations, eager to enjoy the seasonal warmth.\",\n",
    "\"The mild spring weather marks the transition from the cold winter to the inviting warmth of summer.\",\n",
    "\"During spring, families often start spending more time outdoors, enjoying the season's pleasant temperatures and the promise of summer fun.\"]\n",
    "\n",
    "summer = [\"Summer continues the season's trend of growth and warmth, with gardens full of life and days filled with sunlight.\",\n",
    "\"The summer season is synonymous with outdoor adventures and enjoying the extended daylight hours that began in spring.\",\n",
    "\"As summer arrives, the warm weather invites a continuation of the outdoor activities that people began enjoying in spring.\",\n",
    "\"The transition into summer brings even warmer temperatures, allowing for beach visits and swimming, much awaited since the spring.\",\n",
    "\"Summer vacations are often planned as the days grow longer, a pattern that starts in the spring, culminating in peak summer leisure.\"]"
   ]
  },
  {
   "cell_type": "code",
   "execution_count": 18,
   "id": "6407bf16",
   "metadata": {},
   "outputs": [
    {
     "name": "stdout",
     "output_type": "stream",
     "text": [
      "102\n"
     ]
    }
   ],
   "source": [
    "# Create vocabulary for the spring and summer sentences\n",
    "spring_words = \" \".join(spring) \n",
    "summer_words = \" \".join(summer) \n",
    "all_words = spring_words + \" \" + summer_words\n",
    "spr_sum_voc = create_vocab(all_words)\n",
    "print(len(spr_sum_voc))"
   ]
  },
  {
   "cell_type": "code",
   "execution_count": 24,
   "id": "baf1c405",
   "metadata": {},
   "outputs": [
    {
     "name": "stdout",
     "output_type": "stream",
     "text": [
      "10\n",
      "102\n"
     ]
    }
   ],
   "source": [
    "# Create vectors of each sentence\n",
    "spr_sum_vecs = [create_vector(sent,spr_sum_voc) for sent in spring + summer]\n",
    "print(len(spr_sum_vecs))\n",
    "print(len(spr_sum_vecs[0]))"
   ]
  },
  {
   "cell_type": "code",
   "execution_count": 40,
   "id": "f6f901fa",
   "metadata": {},
   "outputs": [
    {
     "name": "stdout",
     "output_type": "stream",
     "text": [
      "As spring unfolds, the warmth of the season encourages the first blossoms to open, signaling longer days ahead.\n",
      "[0, 0, 0, 1, 0, 0, 0, 0, 1, 0, 0, 0, 0, 0, 0, 0, 0, 0, 0, 1, 0, 0, 0, 0, 0, 0, 0, 0, 0, 0, 0, 0, 0, 1, 0, 0, 1, 0, 0, 0, 0, 0, 0, 0, 0, 1, 0, 0, 0, 0, 0, 0, 0, 0, 0, 0, 0, 0, 0, 0, 0, 0, 1, 0, 0, 1, 1, 0, 0, 0, 0, 0, 1, 0, 0, 0, 0, 0, 0, 0, 1, 0, 0, 0, 0, 0, 0, 1, 0, 0, 1, 0, 0, 0, 0, 0, 1, 3, 0, 0, 1, 0]\n",
      "{'flowers', 'life', 'but', 'unfolds', 'also', 'arrival', 'visits', 'hours', 'blossoms', 'starts', 'gardens', 'inviting', 'seasonal', 'growth', 'from', 'for', 'since', 'families', 'promise', 'of', 'a', 'arrives', 'daylight', 'enjoying', 'vacations', 'begin', 'their', 'leisure', 'sunny', 'not', 'marks', 'beach', 'brings', 'spring', 'in', 'invites', 'days', 'weather', 'extended', 'that', 'filled', 'activities', 'fun', 'spending', 'more', 'longer', 'warm', 'trend', 'even', 'pleasant', 'often', 'continuation', 'planning', 'swimming', 'sunlight', 'enjoy', 'start', 'allowing', 'blooming', 'eager', 'with', 'outdoors', 'first', 'only', 'is', 'ahead', 'as', 'warmer', 'synonymous', 'temperatures', 'into', 'people', 'to', 'and', 'mild', 'grow', 'began', 'continues', 'full', 'transition', 'encourages', 'planned', 'culminating', 'anticipation', 'adventures', 'time', 'during', 'season', 'are', 'outdoor', 'open', 'pattern', 'seasons', 'peak', 'much', 'awaited', 'warmth', 'the', 'cold', 'summer', 'signaling', 'winter'}\n",
      "(1, 'unfolds')\n",
      "(1, 'blossoms')\n",
      "(1, 'of')\n",
      "(1, 'spring')\n",
      "(1, 'days')\n",
      "(1, 'longer')\n",
      "(1, 'first')\n",
      "(1, 'ahead')\n",
      "(1, 'as')\n",
      "(1, 'to')\n",
      "(1, 'encourages')\n",
      "(1, 'season')\n",
      "(1, 'open')\n",
      "(1, 'warmth')\n",
      "(3, 'the')\n",
      "(1, 'signaling')\n"
     ]
    }
   ],
   "source": [
    "print(spring[0])\n",
    "print(spr_sum_vecs[0])\n",
    "print(spr_sum_voc)\n",
    "tups = list(zip(spr_sum_vecs[0],spr_sum_voc))\n",
    "clean_sent = spring[0].lower().replace(',','').replace('.','')\n",
    "for tup in tups:\n",
    "    if tup[1] in clean_sent.split():\n",
    "        print(tup)"
   ]
  },
  {
   "cell_type": "code",
   "execution_count": 42,
   "id": "cea8b8af",
   "metadata": {},
   "outputs": [
    {
     "name": "stdout",
     "output_type": "stream",
     "text": [
      "10\n",
      "10\n"
     ]
    }
   ],
   "source": [
    "# Find the cosine similarity between each pair of sentences\n",
    "similarities = []\n",
    "for vec1 in spr_sum_vecs:\n",
    "    row = []\n",
    "    for vec2 in spr_sum_vecs:\n",
    "        sim = cosine_similarity(vec1,vec2)\n",
    "        row.append(sim)\n",
    "    similarities.append(row)\n",
    "\n",
    "print(len(similarities))\n",
    "print(len(similarities[0]))"
   ]
  },
  {
   "cell_type": "code",
   "execution_count": 56,
   "id": "30b98945",
   "metadata": {},
   "outputs": [],
   "source": [
    "# Create a heatmap\n",
    "def create_heatmap(similarities, labels):\n",
    "    heatmap = sns.heatmap(data=similarities,\n",
    "                          xticklabels = labels,\n",
    "                          yticklabels = labels,\n",
    "                          cmap=\"crest\",\n",
    "                          )\n",
    "    heatmap.set_title('Cosine Similarities')\n",
    "    return heatmap\n"
   ]
  },
  {
   "cell_type": "code",
   "execution_count": 57,
   "id": "43901aee",
   "metadata": {},
   "outputs": [
    {
     "data": {
      "text/plain": [
       "<Axes: title={'center': 'Cosine Similarities'}>"
      ]
     },
     "execution_count": 57,
     "metadata": {},
     "output_type": "execute_result"
    },
    {
     "data": {
      "image/png": "[encoded data removed]",
      "text/plain": [
       "<Figure size 640x480 with 2 Axes>"
      ]
     },
     "metadata": {},
     "output_type": "display_data"
    }
   ],
   "source": [
    "all_sentences = spring + summer\n",
    "labels = [sent[:25] for sent in all_sentences]\n",
    "create_heatmap(similarities,labels)"
   ]
  },
  {
   "cell_type": "markdown",
   "id": "10d783bc",
   "metadata": {},
   "source": [
    "# Solutions from \"Week 6 Task Solutions.ipynb\""
   ]
  },
  {
   "cell_type": "markdown",
   "id": "3eaa82a5",
   "metadata": {},
   "source": [
    "## Use Jaccard similarity for a query phrase and a list of sentences"
   ]
  },
  {
   "cell_type": "code",
   "execution_count": 8,
   "id": "192a5a9d",
   "metadata": {},
   "outputs": [
    {
     "data": {
      "text/plain": [
       "[(0.3333, 'short dress'),\n",
       " (0.3333, 'red lipstick'),\n",
       " (0.2857, 'the dress has a red wine stain'),\n",
       " (0.2857, 'she wore a dress and red earrings'),\n",
       " (0.25, 'tomorrow I will wear my new red dress'),\n",
       " (0.2222, 'the red dress in the photo resembles the red dress she is wearing')]"
      ]
     },
     "execution_count": 8,
     "metadata": {},
     "output_type": "execute_result"
    }
   ],
   "source": [
    "q = \"red dress\"\n",
    "\n",
    "sentences = [\n",
    "\"she wore a dress and red earrings\",\n",
    "\"the dress has a red wine stain\",\n",
    "\"tomorrow I will wear my new red dress\",\n",
    "\"the red dress in the photo resembles the red dress she is wearing\",\n",
    "\"short dress\",\n",
    "\"red lipstick\"\n",
    "]\n",
    "\n",
    "def jaccard(text1, text2):\n",
    "    \"\"\"Implement Jaccard similarity. Assumes there is no punctuation in text.\"\"\"\n",
    "    sw1 = set(text1.lower().split()) # turn into a set of words\n",
    "    sw2 = set(text2.lower().split())\n",
    "    sim = len(sw1.intersection(sw2)) / len(sw1.union(sw2))\n",
    "    return round(sim, 4) # round to 4 digits after the comma\n",
    "\n",
    "def applyJaccard(query, sentences):\n",
    "    \"\"\"Appl the Jaccard similarity between query and each sentence\"\"\"\n",
    "    results = []\n",
    "    for sent in sentences:\n",
    "        jac = jaccard(query, sent)\n",
    "        results.append((jac, sent))\n",
    "    \n",
    "        # Sort in descending order\n",
    "        results.sort(reverse=True)\n",
    "\n",
    "    return results\n",
    "\n",
    "# call the function\n",
    "\n",
    "applyJaccard(q, sentences)"
   ]
  },
  {
   "cell_type": "markdown",
   "id": "445dff47",
   "metadata": {},
   "source": [
    "## Cosine Similarity"
   ]
  },
  {
   "cell_type": "markdown",
   "id": "914337d2",
   "metadata": {},
   "source": [
    "### Create Vocabulary"
   ]
  },
  {
   "cell_type": "code",
   "execution_count": 9,
   "id": "5a0cbb5f",
   "metadata": {},
   "outputs": [],
   "source": [
    "phrase = \"that, that is the thing I want: dancing by the river! ah, the river, I have missed it so much!\""
   ]
  },
  {
   "cell_type": "code",
   "execution_count": 10,
   "id": "2254546f",
   "metadata": {},
   "outputs": [
    {
     "data": {
      "text/plain": [
       "'!\"#$%&\\'()*+,-./:;<=>?@[\\\\]^_`{|}~'"
      ]
     },
     "execution_count": 10,
     "metadata": {},
     "output_type": "execute_result"
    }
   ],
   "source": [
    "import string\n",
    "string.punctuation # library that lists all punctuation"
   ]
  },
  {
   "cell_type": "code",
   "execution_count": 11,
   "id": "db9c2965",
   "metadata": {},
   "outputs": [
    {
     "data": {
      "text/plain": [
       "'that that is the thing I want dancing by the river ah the river I have missed it so much'"
      ]
     },
     "execution_count": 11,
     "metadata": {},
     "output_type": "execute_result"
    }
   ],
   "source": [
    "\"\".join(char for char in phrase if char not in string.punctuation)"
   ]
  },
  {
   "cell_type": "code",
   "execution_count": 12,
   "id": "62b4d63a",
   "metadata": {},
   "outputs": [],
   "source": [
    "def getVocabulary(textchunk):\n",
    "    \"\"\"Given some text, create the vocabulary of unique words.\"\"\"\n",
    "    textchunk = textchunk.lower()\n",
    "    cleantext = \"\".join(char for char in textchunk if char not in string.punctuation)\n",
    "    words = set(cleantext.split())\n",
    "    voc = sorted(words)\n",
    "    return voc"
   ]
  },
  {
   "cell_type": "code",
   "execution_count": 13,
   "id": "74893b9d",
   "metadata": {},
   "outputs": [
    {
     "data": {
      "text/plain": [
       "['a',\n",
       " 'and',\n",
       " 'dress',\n",
       " 'earrings',\n",
       " 'has',\n",
       " 'i',\n",
       " 'in',\n",
       " 'is',\n",
       " 'lipstick',\n",
       " 'my',\n",
       " 'new',\n",
       " 'photo',\n",
       " 'red',\n",
       " 'resembles',\n",
       " 'she',\n",
       " 'short',\n",
       " 'stain',\n",
       " 'the',\n",
       " 'tomorrow',\n",
       " 'wear',\n",
       " 'wearing',\n",
       " 'will',\n",
       " 'wine',\n",
       " 'wore']"
      ]
     },
     "execution_count": 13,
     "metadata": {},
     "output_type": "execute_result"
    }
   ],
   "source": [
    "getVocabulary(\" \".join(sentences))"
   ]
  },
  {
   "cell_type": "markdown",
   "id": "42a99e76",
   "metadata": {},
   "source": [
    "### Vector representation"
   ]
  },
  {
   "cell_type": "code",
   "execution_count": 14,
   "id": "7bcc4fd0",
   "metadata": {},
   "outputs": [],
   "source": [
    "def text2vector(sentence, voc):\n",
    "    \"\"\"Given a sentence and the vocabulary for the problem,\n",
    "    turn every sentence into a vector.\n",
    "    \"\"\"\n",
    "    cleantext = \"\".join(char for char in sentence if char not in string.punctuation)\n",
    "    words = cleantext.lower().split()\n",
    "    vector = [words.count(w) for w in voc]\n",
    "    return vector\n"
   ]
  },
  {
   "cell_type": "code",
   "execution_count": 15,
   "id": "31ee087c",
   "metadata": {},
   "outputs": [
    {
     "data": {
      "text/plain": [
       "[1, 1, 1, 1, 0, 0, 0, 0, 0, 0, 0, 0, 1, 0, 1, 0, 0, 0, 0, 0, 0, 0, 0, 1]"
      ]
     },
     "execution_count": 15,
     "metadata": {},
     "output_type": "execute_result"
    }
   ],
   "source": [
    "voc = getVocabulary(\" \".join(sentences))\n",
    "text2vector(sentences[0],voc)"
   ]
  },
  {
   "cell_type": "code",
   "execution_count": 16,
   "id": "d53c1ed5",
   "metadata": {},
   "outputs": [
    {
     "data": {
      "text/plain": [
       "'she wore a dress and red earrings'"
      ]
     },
     "execution_count": 16,
     "metadata": {},
     "output_type": "execute_result"
    }
   ],
   "source": [
    "sentences[0]"
   ]
  },
  {
   "cell_type": "code",
   "execution_count": 17,
   "id": "61779e44",
   "metadata": {},
   "outputs": [
    {
     "data": {
      "text/plain": [
       "[('a', 1),\n",
       " ('and', 1),\n",
       " ('dress', 1),\n",
       " ('earrings', 1),\n",
       " ('has', 0),\n",
       " ('i', 0),\n",
       " ('in', 0),\n",
       " ('is', 0),\n",
       " ('lipstick', 0),\n",
       " ('my', 0),\n",
       " ('new', 0),\n",
       " ('photo', 0),\n",
       " ('red', 1),\n",
       " ('resembles', 0),\n",
       " ('she', 1),\n",
       " ('short', 0),\n",
       " ('stain', 0),\n",
       " ('the', 0),\n",
       " ('tomorrow', 0),\n",
       " ('wear', 0),\n",
       " ('wearing', 0),\n",
       " ('will', 0),\n",
       " ('wine', 0),\n",
       " ('wore', 1)]"
      ]
     },
     "execution_count": 17,
     "metadata": {},
     "output_type": "execute_result"
    }
   ],
   "source": [
    "list(zip(voc, text2vector(sentences[0], voc)))"
   ]
  },
  {
   "cell_type": "code",
   "execution_count": 18,
   "id": "62aecd93",
   "metadata": {},
   "outputs": [
    {
     "data": {
      "text/plain": [
       "[[1, 1, 1, 1, 0, 0, 0, 0, 0, 0, 0, 0, 1, 0, 1, 0, 0, 0, 0, 0, 0, 0, 0, 1],\n",
       " [1, 0, 1, 0, 1, 0, 0, 0, 0, 0, 0, 0, 1, 0, 0, 0, 1, 1, 0, 0, 0, 0, 1, 0],\n",
       " [0, 0, 1, 0, 0, 1, 0, 0, 0, 1, 1, 0, 1, 0, 0, 0, 0, 0, 1, 1, 0, 1, 0, 0],\n",
       " [0, 0, 2, 0, 0, 0, 1, 1, 0, 0, 0, 1, 2, 1, 1, 0, 0, 3, 0, 0, 1, 0, 0, 0],\n",
       " [0, 0, 1, 0, 0, 0, 0, 0, 0, 0, 0, 0, 0, 0, 0, 1, 0, 0, 0, 0, 0, 0, 0, 0],\n",
       " [0, 0, 0, 0, 0, 0, 0, 0, 1, 0, 0, 0, 1, 0, 0, 0, 0, 0, 0, 0, 0, 0, 0, 0]]"
      ]
     },
     "execution_count": 18,
     "metadata": {},
     "output_type": "execute_result"
    }
   ],
   "source": [
    "sent2vec = [text2vector(sent, voc) for sent in sentences]\n",
    "sent2vec"
   ]
  },
  {
   "cell_type": "code",
   "execution_count": 19,
   "id": "e4823a07",
   "metadata": {},
   "outputs": [
    {
     "data": {
      "text/html": [
       "<div>\n",
       "<style scoped>\n",
       "    .dataframe tbody tr th:only-of-type {\n",
       "        vertical-align: middle;\n",
       "    }\n",
       "\n",
       "    .dataframe tbody tr th {\n",
       "        vertical-align: top;\n",
       "    }\n",
       "\n",
       "    .dataframe thead th {\n",
       "        text-align: right;\n",
       "    }\n",
       "</style>\n",
       "<table border=\"1\" class=\"dataframe\">\n",
       "  <thead>\n",
       "    <tr style=\"text-align: right;\">\n",
       "      <th></th>\n",
       "      <th>a</th>\n",
       "      <th>and</th>\n",
       "      <th>dress</th>\n",
       "      <th>earrings</th>\n",
       "      <th>has</th>\n",
       "      <th>i</th>\n",
       "      <th>in</th>\n",
       "      <th>is</th>\n",
       "      <th>lipstick</th>\n",
       "      <th>my</th>\n",
       "      <th>...</th>\n",
       "      <th>she</th>\n",
       "      <th>short</th>\n",
       "      <th>stain</th>\n",
       "      <th>the</th>\n",
       "      <th>tomorrow</th>\n",
       "      <th>wear</th>\n",
       "      <th>wearing</th>\n",
       "      <th>will</th>\n",
       "      <th>wine</th>\n",
       "      <th>wore</th>\n",
       "    </tr>\n",
       "  </thead>\n",
       "  <tbody>\n",
       "    <tr>\n",
       "      <th>doc_1</th>\n",
       "      <td>1</td>\n",
       "      <td>1</td>\n",
       "      <td>1</td>\n",
       "      <td>1</td>\n",
       "      <td>0</td>\n",
       "      <td>0</td>\n",
       "      <td>0</td>\n",
       "      <td>0</td>\n",
       "      <td>0</td>\n",
       "      <td>0</td>\n",
       "      <td>...</td>\n",
       "      <td>1</td>\n",
       "      <td>0</td>\n",
       "      <td>0</td>\n",
       "      <td>0</td>\n",
       "      <td>0</td>\n",
       "      <td>0</td>\n",
       "      <td>0</td>\n",
       "      <td>0</td>\n",
       "      <td>0</td>\n",
       "      <td>1</td>\n",
       "    </tr>\n",
       "    <tr>\n",
       "      <th>doc_2</th>\n",
       "      <td>1</td>\n",
       "      <td>0</td>\n",
       "      <td>1</td>\n",
       "      <td>0</td>\n",
       "      <td>1</td>\n",
       "      <td>0</td>\n",
       "      <td>0</td>\n",
       "      <td>0</td>\n",
       "      <td>0</td>\n",
       "      <td>0</td>\n",
       "      <td>...</td>\n",
       "      <td>0</td>\n",
       "      <td>0</td>\n",
       "      <td>1</td>\n",
       "      <td>1</td>\n",
       "      <td>0</td>\n",
       "      <td>0</td>\n",
       "      <td>0</td>\n",
       "      <td>0</td>\n",
       "      <td>1</td>\n",
       "      <td>0</td>\n",
       "    </tr>\n",
       "    <tr>\n",
       "      <th>doc_3</th>\n",
       "      <td>0</td>\n",
       "      <td>0</td>\n",
       "      <td>1</td>\n",
       "      <td>0</td>\n",
       "      <td>0</td>\n",
       "      <td>1</td>\n",
       "      <td>0</td>\n",
       "      <td>0</td>\n",
       "      <td>0</td>\n",
       "      <td>1</td>\n",
       "      <td>...</td>\n",
       "      <td>0</td>\n",
       "      <td>0</td>\n",
       "      <td>0</td>\n",
       "      <td>0</td>\n",
       "      <td>1</td>\n",
       "      <td>1</td>\n",
       "      <td>0</td>\n",
       "      <td>1</td>\n",
       "      <td>0</td>\n",
       "      <td>0</td>\n",
       "    </tr>\n",
       "    <tr>\n",
       "      <th>doc_4</th>\n",
       "      <td>0</td>\n",
       "      <td>0</td>\n",
       "      <td>2</td>\n",
       "      <td>0</td>\n",
       "      <td>0</td>\n",
       "      <td>0</td>\n",
       "      <td>1</td>\n",
       "      <td>1</td>\n",
       "      <td>0</td>\n",
       "      <td>0</td>\n",
       "      <td>...</td>\n",
       "      <td>1</td>\n",
       "      <td>0</td>\n",
       "      <td>0</td>\n",
       "      <td>3</td>\n",
       "      <td>0</td>\n",
       "      <td>0</td>\n",
       "      <td>1</td>\n",
       "      <td>0</td>\n",
       "      <td>0</td>\n",
       "      <td>0</td>\n",
       "    </tr>\n",
       "    <tr>\n",
       "      <th>doc_5</th>\n",
       "      <td>0</td>\n",
       "      <td>0</td>\n",
       "      <td>1</td>\n",
       "      <td>0</td>\n",
       "      <td>0</td>\n",
       "      <td>0</td>\n",
       "      <td>0</td>\n",
       "      <td>0</td>\n",
       "      <td>0</td>\n",
       "      <td>0</td>\n",
       "      <td>...</td>\n",
       "      <td>0</td>\n",
       "      <td>1</td>\n",
       "      <td>0</td>\n",
       "      <td>0</td>\n",
       "      <td>0</td>\n",
       "      <td>0</td>\n",
       "      <td>0</td>\n",
       "      <td>0</td>\n",
       "      <td>0</td>\n",
       "      <td>0</td>\n",
       "    </tr>\n",
       "    <tr>\n",
       "      <th>doc_6</th>\n",
       "      <td>0</td>\n",
       "      <td>0</td>\n",
       "      <td>0</td>\n",
       "      <td>0</td>\n",
       "      <td>0</td>\n",
       "      <td>0</td>\n",
       "      <td>0</td>\n",
       "      <td>0</td>\n",
       "      <td>1</td>\n",
       "      <td>0</td>\n",
       "      <td>...</td>\n",
       "      <td>0</td>\n",
       "      <td>0</td>\n",
       "      <td>0</td>\n",
       "      <td>0</td>\n",
       "      <td>0</td>\n",
       "      <td>0</td>\n",
       "      <td>0</td>\n",
       "      <td>0</td>\n",
       "      <td>0</td>\n",
       "      <td>0</td>\n",
       "    </tr>\n",
       "  </tbody>\n",
       "</table>\n",
       "<p>6 rows × 24 columns</p>\n",
       "</div>"
      ],
      "text/plain": [
       "       a  and  dress  earrings  has  i  in  is  lipstick  my  ...  she  short  \\\n",
       "doc_1  1    1      1         1    0  0   0   0         0   0  ...    1      0   \n",
       "doc_2  1    0      1         0    1  0   0   0         0   0  ...    0      0   \n",
       "doc_3  0    0      1         0    0  1   0   0         0   1  ...    0      0   \n",
       "doc_4  0    0      2         0    0  0   1   1         0   0  ...    1      0   \n",
       "doc_5  0    0      1         0    0  0   0   0         0   0  ...    0      1   \n",
       "doc_6  0    0      0         0    0  0   0   0         1   0  ...    0      0   \n",
       "\n",
       "       stain  the  tomorrow  wear  wearing  will  wine  wore  \n",
       "doc_1      0    0         0     0        0     0     0     1  \n",
       "doc_2      1    1         0     0        0     0     1     0  \n",
       "doc_3      0    0         1     1        0     1     0     0  \n",
       "doc_4      0    3         0     0        1     0     0     0  \n",
       "doc_5      0    0         0     0        0     0     0     0  \n",
       "doc_6      0    0         0     0        0     0     0     0  \n",
       "\n",
       "[6 rows x 24 columns]"
      ]
     },
     "execution_count": 19,
     "metadata": {},
     "output_type": "execute_result"
    }
   ],
   "source": [
    "import pandas as pd\n",
    "df = pd.DataFrame(sent2vec, \n",
    "                  columns=voc,\n",
    "                  index=[f\"doc_{i+1}\" for i in range(len(sentences))])\n",
    "df"
   ]
  },
  {
   "cell_type": "markdown",
   "id": "75227cda",
   "metadata": {},
   "source": [
    "### Cosine Similarity Implementation"
   ]
  },
  {
   "cell_type": "code",
   "execution_count": 20,
   "id": "122ddeae",
   "metadata": {},
   "outputs": [],
   "source": [
    "import numpy as np\n",
    "from numpy.linalg import norm\n",
    "\n",
    "def cosineSimilarity(vec1,vec2):\n",
    "    \"\"\"Calculate the cosine similarity between two vectors.\"\"\"\n",
    "    V1 = np.array(vec1)\n",
    "    V2 = np.array(vec2)\n",
    "    cosine = np.dot(V1,V2)/(norm(V1)*norm(V2))\n",
    "    return cosine"
   ]
  },
  {
   "cell_type": "code",
   "execution_count": 21,
   "id": "42afe8dc",
   "metadata": {},
   "outputs": [],
   "source": [
    "def rankDocuments(query,sentences):\n",
    "    \"\"\"Given a query and some sentences, rank the sentences for\n",
    "    which are the most similar to the query\"\"\"\n",
    "    # Step 1: create vocabulary\n",
    "    voc = getVocabulary(\" \".join(sentences))\n",
    "\n",
    "    # Step 2: generate vector for query\n",
    "    queryVec = text2vector(query,voc)\n",
    "\n",
    "    # Step 3: generate vector for sentences and calculate cosine similarity at once\n",
    "    similarities = []\n",
    "    for sent in sentences:\n",
    "        sentVec = text2vector(sent,voc)\n",
    "        sim = cosineSimilarity(queryVec,sentVec)\n",
    "        similarities.append((round(sim,4),sent)) # keep track of sentences\n",
    "\n",
    "    similarities.sort(reverse=True)\n",
    "    return similarities"
   ]
  },
  {
   "cell_type": "code",
   "execution_count": 22,
   "id": "69a6129d",
   "metadata": {},
   "outputs": [
    {
     "data": {
      "text/plain": [
       "[(0.5898, 'the red dress in the photo resembles the red dress she is wearing'),\n",
       " (0.5345, 'the dress has a red wine stain'),\n",
       " (0.5345, 'she wore a dress and red earrings'),\n",
       " (0.5, 'tomorrow I will wear my new red dress'),\n",
       " (0.5, 'short dress'),\n",
       " (0.5, 'red lipstick')]"
      ]
     },
     "execution_count": 22,
     "metadata": {},
     "output_type": "execute_result"
    }
   ],
   "source": [
    "rankDocuments(\"red dress\", sentences)"
   ]
  },
  {
   "cell_type": "markdown",
   "id": "8a07cd24",
   "metadata": {},
   "source": [
    "## Similarity of Spring and Summer sentences"
   ]
  },
  {
   "cell_type": "code",
   "execution_count": 23,
   "id": "ef57aeb8",
   "metadata": {},
   "outputs": [],
   "source": [
    "springSentences = [\n",
    "\"As spring unfolds, the warmth of the season encourages the first blossoms to open, signaling longer days ahead.\",\n",
    "\"Spring brings not only blooming flowers but also the anticipation of sunny days and outdoor activities.\",\n",
    "\"With the arrival of spring, people begin planning their summer vacations, eager to enjoy the seasonal warmth.\",\n",
    "\"The mild spring weather marks the transition from the cold winter to the inviting warmth of summer.\",\n",
    "\"During spring, families often start spending more time outdoors, enjoying the season's pleasant temperatures and the promise of summer fun.\"\n",
    "]\n",
    "\n",
    "summerSentences = [\n",
    "\"Summer continues the season's trend of growth and warmth, with gardens full of life and days filled with sunlight.\",\n",
    "\"The summer season is synonymous with outdoor adventures and enjoying the extended daylight hours that began in spring.\",\n",
    "\"As summer arrives, the warm weather invites a continuation of the outdoor activities that people began enjoying in spring.\",\n",
    "\"The transition into summer brings even warmer temperatures, allowing for beach visits and swimming, much awaited since the spring.\",\n",
    "\"Summer vacations are often planned as the days grow longer, a pattern that starts in the spring, culminating in peak summer leisure.\"\n",
    "]"
   ]
  },
  {
   "cell_type": "markdown",
   "id": "03821d28",
   "metadata": {},
   "source": [
    "### Create Vocabulary for Spring and Summer Sentences"
   ]
  },
  {
   "cell_type": "code",
   "execution_count": 24,
   "id": "6c5d1f55",
   "metadata": {},
   "outputs": [
    {
     "name": "stdout",
     "output_type": "stream",
     "text": [
      "Vocabulary has 102 words.\n"
     ]
    }
   ],
   "source": [
    "allSentences = \" \".join(springSentences) + \" \" + \" \".join(summerSentences)\n",
    "voc = getVocabulary(allSentences)\n",
    "print(f\"Vocabulary has {len(voc)} words.\")"
   ]
  },
  {
   "cell_type": "markdown",
   "id": "a69945ec",
   "metadata": {},
   "source": [
    "### Convert sentences to vectors"
   ]
  },
  {
   "cell_type": "code",
   "execution_count": 25,
   "id": "f0d5593a",
   "metadata": {},
   "outputs": [
    {
     "name": "stdout",
     "output_type": "stream",
     "text": [
      "10 102\n"
     ]
    }
   ],
   "source": [
    "sentVectors = [text2vector(sent,voc) for sent in springSentences + summerSentences]\n",
    "print(len(sentVectors),len(sentVectors[0]))"
   ]
  },
  {
   "cell_type": "code",
   "execution_count": 26,
   "id": "0a0829cc",
   "metadata": {},
   "outputs": [
    {
     "data": {
      "text/plain": [
       "'As spring unfolds, the warmth of the season encourages the first blossoms to open, signaling longer days ahead.'"
      ]
     },
     "execution_count": 26,
     "metadata": {},
     "output_type": "execute_result"
    }
   ],
   "source": [
    "oneSent = springSentences[0]\n",
    "oneSent"
   ]
  },
  {
   "cell_type": "code",
   "execution_count": 27,
   "id": "9b04f977",
   "metadata": {},
   "outputs": [
    {
     "data": {
      "text/plain": [
       "[(1, 'ahead'),\n",
       " (1, 'as'),\n",
       " (1, 'blossoms'),\n",
       " (1, 'days'),\n",
       " (1, 'encourages'),\n",
       " (1, 'first'),\n",
       " (1, 'longer'),\n",
       " (1, 'of'),\n",
       " (1, 'open'),\n",
       " (1, 'season'),\n",
       " (1, 'signaling'),\n",
       " (1, 'spring'),\n",
       " (3, 'the'),\n",
       " (1, 'to'),\n",
       " (1, 'unfolds'),\n",
       " (1, 'warmth')]"
      ]
     },
     "execution_count": 27,
     "metadata": {},
     "output_type": "execute_result"
    }
   ],
   "source": [
    "pairs = list(zip(text2vector(oneSent,voc),voc))\n",
    "nonZero = [pair for pair in pairs if pair[0] != 0]\n",
    "nonZero"
   ]
  },
  {
   "cell_type": "code",
   "execution_count": 28,
   "id": "47540f48",
   "metadata": {},
   "outputs": [
    {
     "name": "stdout",
     "output_type": "stream",
     "text": [
      "Words in sentence: 18; nonzero terms in vector: 16\n"
     ]
    }
   ],
   "source": [
    "print(f\"Words in sentence: {len(oneSent.split())}; nonzero terms in vector: {len(nonZero)}\")"
   ]
  },
  {
   "cell_type": "markdown",
   "id": "9be3e532",
   "metadata": {},
   "source": [
    "### Calculating the similarity matrix"
   ]
  },
  {
   "cell_type": "markdown",
   "id": "b624f261",
   "metadata": {},
   "source": [
    "Calculate the cosine similarity for every pair of sentences. This makes sense \n",
    "since we only have 10 sentences. If we had way more, we will try to be more \n",
    "efficient and not repeat the calculations, since we know the matrix is symmetrical."
   ]
  },
  {
   "cell_type": "code",
   "execution_count": 29,
   "id": "4dd5411a",
   "metadata": {},
   "outputs": [
    {
     "name": "stdout",
     "output_type": "stream",
     "text": [
      "[[1.0000000000000002, 0.3061862178478973, 0.468292905790847, 0.6064784348631228, 0.3481553119113957, 0.2857738033247041, 0.3651483716701107, 0.40089186286863665, 0.3118047822311618, 0.38575837490522974], [0.3061862178478973, 1.0, 0.22941573387056174, 0.2785430072655778, 0.26650089544451305, 0.3, 0.2795084971874737, 0.3273268353539886, 0.2727723627949905, 0.1889822365046136], [0.468292905790847, 0.22941573387056174, 0.9999999999999998, 0.5538186196949965, 0.3423811916311629, 0.3670651741928988, 0.3590924232298039, 0.40050093945740706, 0.3003757045930553, 0.3468439878096479], [0.6064784348631228, 0.2785430072655778, 0.5538186196949965, 1.0000000000000002, 0.43549417035569277, 0.297112541083283, 0.41522739926869984, 0.4862645390838647, 0.44574249416020933, 0.386024323488978], [0.3481553119113957, 0.26650089544451305, 0.3423811916311629, 0.43549417035569277, 1.0, 0.34112114616897665, 0.38138503569823684, 0.37219368415938836, 0.37219368415938836, 0.3223291856101521], [0.2857738033247041, 0.3, 0.3670651741928988, 0.297112541083283, 0.34112114616897665, 1.0, 0.31304951684997057, 0.2182178902359924, 0.2182178902359924, 0.18898223650461363], [0.3651483716701107, 0.2795084971874737, 0.3590924232298039, 0.41522739926869984, 0.38138503569823684, 0.31304951684997057, 0.9999999999999998, 0.5367450401216932, 0.34156502553198664, 0.42257712736425823], [0.40089186286863665, 0.3273268353539886, 0.40050093945740706, 0.4862645390838647, 0.37219368415938836, 0.2182178902359924, 0.5367450401216932, 1.0, 0.2857142857142857, 0.4948716593053935], [0.3118047822311618, 0.2727723627949905, 0.3003757045930553, 0.44574249416020933, 0.37219368415938836, 0.2182178902359924, 0.34156502553198664, 0.2857142857142857, 1.0, 0.28867513459481287], [0.38575837490522974, 0.1889822365046136, 0.3468439878096479, 0.386024323488978, 0.3223291856101521, 0.18898223650461363, 0.42257712736425823, 0.4948716593053935, 0.28867513459481287, 0.9999999999999999]]\n"
     ]
    }
   ],
   "source": [
    "simMatrix = []\n",
    "for vec1 in sentVectors:\n",
    "    simRow = []\n",
    "    for vec2 in sentVectors:\n",
    "        simRow.append(cosineSimilarity(vec1,vec2))\n",
    "    simMatrix.append(simRow)\n",
    "\n",
    "print(simMatrix)"
   ]
  },
  {
   "cell_type": "markdown",
   "id": "03720158",
   "metadata": {},
   "source": [
    "### Generate the heatmap"
   ]
  },
  {
   "cell_type": "code",
   "execution_count": 30,
   "id": "11890323",
   "metadata": {},
   "outputs": [],
   "source": [
    "import seaborn as sns\n",
    "import matplotlib.pyplot as plt\n",
    "\n",
    "def drawHeatmap(sentLabels,simMtrx,plotTitle):\n",
    "    \"\"\"Draws a heatmap for the similarity matrix\"\"\"\n",
    "    sns.set(font_scale=0.9)\n",
    "    g = sns.heatmap(\n",
    "        simMtrx, # similarity matrix with the cosine sim values\n",
    "        xticklabels = sentLabels,\n",
    "        yticklabels = sentLabels,\n",
    "        vmin = 0,\n",
    "        vmax = 1,\n",
    "        cmap = \"YlOrRd\")\n",
    "    g.set_xticklabels(sentLabels, rotation=90)\n",
    "    g.set_title(plotTitle, fontsize=14)\n",
    "    plt.show()"
   ]
  },
  {
   "cell_type": "code",
   "execution_count": 31,
   "id": "5750181f",
   "metadata": {},
   "outputs": [
    {
     "data": {
      "image/png": "[encoded data removed]",
      "text/plain": [
       "<Figure size 640x480 with 2 Axes>"
      ]
     },
     "metadata": {},
     "output_type": "display_data"
    }
   ],
   "source": [
    "shortSent = [sent[:25] for sent in springSentences+summerSentences]\n",
    "drawHeatmap(shortSent, simMatrix, \"Cosine similarity matrix\")"
   ]
  },
  {
   "cell_type": "code",
   "execution_count": 32,
   "id": "6cb7ede0",
   "metadata": {},
   "outputs": [
    {
     "data": {
      "text/html": [
       "<div>\n",
       "<style scoped>\n",
       "    .dataframe tbody tr th:only-of-type {\n",
       "        vertical-align: middle;\n",
       "    }\n",
       "\n",
       "    .dataframe tbody tr th {\n",
       "        vertical-align: top;\n",
       "    }\n",
       "\n",
       "    .dataframe thead th {\n",
       "        text-align: right;\n",
       "    }\n",
       "</style>\n",
       "<table border=\"1\" class=\"dataframe\">\n",
       "  <thead>\n",
       "    <tr style=\"text-align: right;\">\n",
       "      <th></th>\n",
       "      <th>s1</th>\n",
       "      <th>s2</th>\n",
       "      <th>s3</th>\n",
       "      <th>s4</th>\n",
       "      <th>s5</th>\n",
       "      <th>s6</th>\n",
       "      <th>s7</th>\n",
       "      <th>s8</th>\n",
       "      <th>s9</th>\n",
       "      <th>s10</th>\n",
       "    </tr>\n",
       "  </thead>\n",
       "  <tbody>\n",
       "    <tr>\n",
       "      <th>s1</th>\n",
       "      <td>1.000000</td>\n",
       "      <td>0.306186</td>\n",
       "      <td>0.468293</td>\n",
       "      <td>0.606478</td>\n",
       "      <td>0.348155</td>\n",
       "      <td>0.285774</td>\n",
       "      <td>0.365148</td>\n",
       "      <td>0.400892</td>\n",
       "      <td>0.311805</td>\n",
       "      <td>0.385758</td>\n",
       "    </tr>\n",
       "    <tr>\n",
       "      <th>s2</th>\n",
       "      <td>0.306186</td>\n",
       "      <td>1.000000</td>\n",
       "      <td>0.229416</td>\n",
       "      <td>0.278543</td>\n",
       "      <td>0.266501</td>\n",
       "      <td>0.300000</td>\n",
       "      <td>0.279508</td>\n",
       "      <td>0.327327</td>\n",
       "      <td>0.272772</td>\n",
       "      <td>0.188982</td>\n",
       "    </tr>\n",
       "    <tr>\n",
       "      <th>s3</th>\n",
       "      <td>0.468293</td>\n",
       "      <td>0.229416</td>\n",
       "      <td>1.000000</td>\n",
       "      <td>0.553819</td>\n",
       "      <td>0.342381</td>\n",
       "      <td>0.367065</td>\n",
       "      <td>0.359092</td>\n",
       "      <td>0.400501</td>\n",
       "      <td>0.300376</td>\n",
       "      <td>0.346844</td>\n",
       "    </tr>\n",
       "    <tr>\n",
       "      <th>s4</th>\n",
       "      <td>0.606478</td>\n",
       "      <td>0.278543</td>\n",
       "      <td>0.553819</td>\n",
       "      <td>1.000000</td>\n",
       "      <td>0.435494</td>\n",
       "      <td>0.297113</td>\n",
       "      <td>0.415227</td>\n",
       "      <td>0.486265</td>\n",
       "      <td>0.445742</td>\n",
       "      <td>0.386024</td>\n",
       "    </tr>\n",
       "    <tr>\n",
       "      <th>s5</th>\n",
       "      <td>0.348155</td>\n",
       "      <td>0.266501</td>\n",
       "      <td>0.342381</td>\n",
       "      <td>0.435494</td>\n",
       "      <td>1.000000</td>\n",
       "      <td>0.341121</td>\n",
       "      <td>0.381385</td>\n",
       "      <td>0.372194</td>\n",
       "      <td>0.372194</td>\n",
       "      <td>0.322329</td>\n",
       "    </tr>\n",
       "    <tr>\n",
       "      <th>s6</th>\n",
       "      <td>0.285774</td>\n",
       "      <td>0.300000</td>\n",
       "      <td>0.367065</td>\n",
       "      <td>0.297113</td>\n",
       "      <td>0.341121</td>\n",
       "      <td>1.000000</td>\n",
       "      <td>0.313050</td>\n",
       "      <td>0.218218</td>\n",
       "      <td>0.218218</td>\n",
       "      <td>0.188982</td>\n",
       "    </tr>\n",
       "    <tr>\n",
       "      <th>s7</th>\n",
       "      <td>0.365148</td>\n",
       "      <td>0.279508</td>\n",
       "      <td>0.359092</td>\n",
       "      <td>0.415227</td>\n",
       "      <td>0.381385</td>\n",
       "      <td>0.313050</td>\n",
       "      <td>1.000000</td>\n",
       "      <td>0.536745</td>\n",
       "      <td>0.341565</td>\n",
       "      <td>0.422577</td>\n",
       "    </tr>\n",
       "    <tr>\n",
       "      <th>s8</th>\n",
       "      <td>0.400892</td>\n",
       "      <td>0.327327</td>\n",
       "      <td>0.400501</td>\n",
       "      <td>0.486265</td>\n",
       "      <td>0.372194</td>\n",
       "      <td>0.218218</td>\n",
       "      <td>0.536745</td>\n",
       "      <td>1.000000</td>\n",
       "      <td>0.285714</td>\n",
       "      <td>0.494872</td>\n",
       "    </tr>\n",
       "    <tr>\n",
       "      <th>s9</th>\n",
       "      <td>0.311805</td>\n",
       "      <td>0.272772</td>\n",
       "      <td>0.300376</td>\n",
       "      <td>0.445742</td>\n",
       "      <td>0.372194</td>\n",
       "      <td>0.218218</td>\n",
       "      <td>0.341565</td>\n",
       "      <td>0.285714</td>\n",
       "      <td>1.000000</td>\n",
       "      <td>0.288675</td>\n",
       "    </tr>\n",
       "    <tr>\n",
       "      <th>s10</th>\n",
       "      <td>0.385758</td>\n",
       "      <td>0.188982</td>\n",
       "      <td>0.346844</td>\n",
       "      <td>0.386024</td>\n",
       "      <td>0.322329</td>\n",
       "      <td>0.188982</td>\n",
       "      <td>0.422577</td>\n",
       "      <td>0.494872</td>\n",
       "      <td>0.288675</td>\n",
       "      <td>1.000000</td>\n",
       "    </tr>\n",
       "  </tbody>\n",
       "</table>\n",
       "</div>"
      ],
      "text/plain": [
       "           s1        s2        s3        s4        s5        s6        s7  \\\n",
       "s1   1.000000  0.306186  0.468293  0.606478  0.348155  0.285774  0.365148   \n",
       "s2   0.306186  1.000000  0.229416  0.278543  0.266501  0.300000  0.279508   \n",
       "s3   0.468293  0.229416  1.000000  0.553819  0.342381  0.367065  0.359092   \n",
       "s4   0.606478  0.278543  0.553819  1.000000  0.435494  0.297113  0.415227   \n",
       "s5   0.348155  0.266501  0.342381  0.435494  1.000000  0.341121  0.381385   \n",
       "s6   0.285774  0.300000  0.367065  0.297113  0.341121  1.000000  0.313050   \n",
       "s7   0.365148  0.279508  0.359092  0.415227  0.381385  0.313050  1.000000   \n",
       "s8   0.400892  0.327327  0.400501  0.486265  0.372194  0.218218  0.536745   \n",
       "s9   0.311805  0.272772  0.300376  0.445742  0.372194  0.218218  0.341565   \n",
       "s10  0.385758  0.188982  0.346844  0.386024  0.322329  0.188982  0.422577   \n",
       "\n",
       "           s8        s9       s10  \n",
       "s1   0.400892  0.311805  0.385758  \n",
       "s2   0.327327  0.272772  0.188982  \n",
       "s3   0.400501  0.300376  0.346844  \n",
       "s4   0.486265  0.445742  0.386024  \n",
       "s5   0.372194  0.372194  0.322329  \n",
       "s6   0.218218  0.218218  0.188982  \n",
       "s7   0.536745  0.341565  0.422577  \n",
       "s8   1.000000  0.285714  0.494872  \n",
       "s9   0.285714  1.000000  0.288675  \n",
       "s10  0.494872  0.288675  1.000000  "
      ]
     },
     "execution_count": 32,
     "metadata": {},
     "output_type": "execute_result"
    }
   ],
   "source": [
    "labels = [f\"s{i+1}\" for i in range(10)]\n",
    "df = pd.DataFrame(simMatrix, columns=labels, index=labels)\n",
    "df"
   ]
  },
  {
   "cell_type": "code",
   "execution_count": 33,
   "id": "ee1e57cc",
   "metadata": {},
   "outputs": [],
   "source": [
    "def getWords(sent):\n",
    "    \"\"\"Get the words of a sentence after lowercasing and removing punctuation.\"\"\"\n",
    "    cleantext = \"\".join(char for char in sent.lower() if char not in string.punctuation)\n",
    "    cleanWords = cleantext.split()\n",
    "    return cleanWords"
   ]
  },
  {
   "cell_type": "code",
   "execution_count": 34,
   "id": "52dac2bd",
   "metadata": {},
   "outputs": [],
   "source": [
    "def compareSentences(sent1, sent2):\n",
    "    \"\"\"Compare the content of two sentences.\"\"\"\n",
    "    words1 = getWords(sent1)\n",
    "    words2 = getWords(sent2)\n",
    "    commonWords = sorted([w for w in words1 if w in words2])\n",
    "    print(\"COMPARISON RESULTS\")\n",
    "    print(\"Sent1: \", sent1)\n",
    "    print(\"Sent2: \", sent2)\n",
    "    print(f\"Lengths of sentences: {len(words1)} and {len(words2)}. Words in common: {len(commonWords)}\")\n",
    "    print(\"Common words:\", commonWords)"
   ]
  },
  {
   "cell_type": "code",
   "execution_count": 35,
   "id": "faff3266",
   "metadata": {},
   "outputs": [
    {
     "name": "stdout",
     "output_type": "stream",
     "text": [
      "COMPARISON RESULTS\n",
      "Sent1:  As spring unfolds, the warmth of the season encourages the first blossoms to open, signaling longer days ahead.\n",
      "Sent2:  The mild spring weather marks the transition from the cold winter to the inviting warmth of summer.\n",
      "Lengths of sentences: 18 and 17. Words in common: 7\n",
      "Common words: ['of', 'spring', 'the', 'the', 'the', 'to', 'warmth']\n"
     ]
    }
   ],
   "source": [
    "compareSentences(springSentences[0], springSentences[3])"
   ]
  },
  {
   "cell_type": "code",
   "execution_count": 36,
   "id": "5491a3c0",
   "metadata": {},
   "outputs": [
    {
     "name": "stdout",
     "output_type": "stream",
     "text": [
      "COMPARISON RESULTS\n",
      "Sent1:  The summer season is synonymous with outdoor adventures and enjoying the extended daylight hours that began in spring.\n",
      "Sent2:  As summer arrives, the warm weather invites a continuation of the outdoor activities that people began enjoying in spring.\n",
      "Lengths of sentences: 18 and 19. Words in common: 9\n",
      "Common words: ['began', 'enjoying', 'in', 'outdoor', 'spring', 'summer', 'that', 'the', 'the']\n"
     ]
    }
   ],
   "source": [
    "compareSentences(summerSentences[1], summerSentences[2])"
   ]
  },
  {
   "cell_type": "code",
   "execution_count": null,
   "id": "8c751bb7",
   "metadata": {},
   "outputs": [],
   "source": []
  }
 ],
 "metadata": {
  "kernelspec": {
   "display_name": "Python 3 (ipykernel)",
   "language": "python",
   "name": "python3"
  },
  "language_info": {
   "codemirror_mode": {
    "name": "ipython",
    "version": 3
   },
   "file_extension": ".py",
   "mimetype": "text/x-python",
   "name": "python",
   "nbconvert_exporter": "python",
   "pygments_lexer": "ipython3",
   "version": "3.10.8"
  }
 },
 "nbformat": 4,
 "nbformat_minor": 5
}
