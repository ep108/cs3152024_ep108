{
 "cells": [
  {
   "cell_type": "markdown",
   "id": "bb5678fa",
   "metadata": {},
   "source": [
    "# Cosine Similarity\n",
    "CS315: Data Science for the Web  \n",
    "Professor Eni Mustafaraj  \n",
    "[Day 11 Slide 13](https://docs.google.com/presentation/d/1YrrYSZpmCpHepTcDQMF0s22CqyMZuw3vo801bXnRUZc/edit#slide=id.g63da1a4385_0_0)  \n",
    "Edith Po  "
   ]
  },
  {
   "cell_type": "code",
   "execution_count": 5,
   "id": "e3f1f623",
   "metadata": {},
   "outputs": [],
   "source": [
    "import pandas as pd\n",
    "import numpy as np\n",
    "from numpy.linalg import norm\n",
    "import string"
   ]
  },
  {
   "cell_type": "markdown",
   "id": "df584c8b",
   "metadata": {},
   "source": [
    "## Cosine Similarity Algorithm"
   ]
  },
  {
   "cell_type": "markdown",
   "id": "9c7d40d6",
   "metadata": {},
   "source": [
    "Step 1: Create the vocabulary of all unique terms"
   ]
  },
  {
   "cell_type": "code",
   "execution_count": 10,
   "id": "389ab8a1",
   "metadata": {},
   "outputs": [],
   "source": [
    "def create_vocab(phrase):\n",
    "    '''Create the vocabulary of all unique terms'''\n",
    "    phrase_list = phrase.lower.split()\n",
    "    \n",
    "    \n",
    "    "
   ]
  },
  {
   "cell_type": "markdown",
   "metadata": {},
   "source": []
  },
  {
   "cell_type": "markdown",
   "id": "97a0ee15",
   "metadata": {},
   "source": [
    "Step 2: Represent each document and the query in the vector space created by these terms"
   ]
  },
  {
   "cell_type": "code",
   "execution_count": null,
   "id": "67750408",
   "metadata": {},
   "outputs": [],
   "source": []
  },
  {
   "cell_type": "markdown",
   "id": "070119b0",
   "metadata": {},
   "source": [
    "Step 3: Calculate the cosine similarity between the query and each document"
   ]
  },
  {
   "cell_type": "code",
   "execution_count": 11,
   "id": "066165c4",
   "metadata": {},
   "outputs": [],
   "source": [
    "def cosineSimilarity(vec1, vec2):\n",
    "    '''Calculate the cosine similarity between two vectors.'''\n",
    "    v1 = np.array(vec1)\n",
    "    v2 = np.array(vec2)\n",
    "    \n",
    "    cosine = np.dot(v1,v2)/(norm(v1)*norm(v2))\n",
    "    return cosine"
   ]
  },
  {
   "cell_type": "markdown",
   "id": "b3efd4a7",
   "metadata": {},
   "source": [
    "Step 4: Rank the results based on the cosine similarity"
   ]
  },
  {
   "cell_type": "code",
   "execution_count": null,
   "id": "46d123f5",
   "metadata": {},
   "outputs": [],
   "source": []
  },
  {
   "cell_type": "code",
   "execution_count": null,
   "id": "1c7aec71",
   "metadata": {},
   "outputs": [],
   "source": [
    "\"As spring unfolds, the warmth of the season encourages the first blossoms to open, signaling longer days ahead.\"\n",
    "\"Spring brings not only blooming flowers but also the anticipation of sunny days and outdoor activities.\"\n",
    "\"With the arrival of spring, people begin planning their summer vacations, eager to enjoy the seasonal warmth.\"\n",
    "\"The mild spring weather marks the transition from the cold winter to the inviting warmth of summer.\"\n",
    "\"During spring, families often start spending more time outdoors, enjoying the season's pleasant temperatures and the promise of summer fun.\"\n",
    "\"Summer continues the season's trend of growth and warmth, with gardens full of life and days filled with sunlight.\"\n",
    "\"The summer season is synonymous with outdoor adventures and enjoying the extended daylight hours that began in spring.\"\n",
    "\"As summer arrives, the warm weather invites a continuation of the outdoor activities that people began enjoying in spring.\"\n",
    "\"The transition into summer brings even warmer temperatures, allowing for beach visits and swimming, much awaited since the spring.\"\n",
    "\"Summer vacations are often planned as the days grow longer, a pattern that starts in the spring, culminating in peak summer leisure.\""
   ]
  },
  {
   "cell_type": "markdown",
   "id": "a3c42634",
   "metadata": {},
   "source": [
    "## Heatmap to show the similarity matrix"
   ]
  },
  {
   "cell_type": "code",
   "execution_count": null,
   "id": "f6f901fa",
   "metadata": {},
   "outputs": [],
   "source": []
  }
 ],
 "metadata": {
  "kernelspec": {
   "display_name": "Python 3 (ipykernel)",
   "language": "python",
   "name": "python3"
  },
  "language_info": {
   "codemirror_mode": {
    "name": "ipython",
    "version": 3
   },
   "file_extension": ".py",
   "mimetype": "text/x-python",
   "name": "python",
   "nbconvert_exporter": "python",
   "pygments_lexer": "ipython3",
   "version": "3.10.8"
  }
 },
 "nbformat": 4,
 "nbformat_minor": 5
}
